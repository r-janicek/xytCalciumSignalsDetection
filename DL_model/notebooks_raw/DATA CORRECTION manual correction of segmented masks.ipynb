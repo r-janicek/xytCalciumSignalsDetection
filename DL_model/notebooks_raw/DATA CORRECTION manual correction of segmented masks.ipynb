{
 "cells": [
  {
   "cell_type": "markdown",
   "id": "4b84142e-c754-4b36-89f7-2716f2dea88c",
   "metadata": {
    "tags": []
   },
   "source": [
    "16.06.2022\n",
    "\n",
    "# Correzione manuale degli errori nelle masks\n",
    "\n",
    "- comparare labels RGB e labels con class values {0,1,2,3,4}\n",
    "- trovare i cambiamenti manuali (che non sono presenti nei labels RGB)\n",
    "- aprire i labels con Napari e associare tutti i cambiamenti manuali all'evento corretto\n",
    "- sempre in Napari, aggiungere altre correzioni manuali \n",
    "- dalla nuova array, creare file .csv tale che ogni evento è come segue:\n",
    "    - \"event; x_array; y_array; Frame\"\n",
    "    - e.g. \"32; 1,3,7,8,10; 3,4,3,5,7; 20\" (<- counting from 0) (len(x_array) == len(y_array))\n",
    "- salvare come .csv\n",
    "- mandare a Miguel"
   ]
  },
  {
   "cell_type": "code",
   "execution_count": 34,
   "id": "70fa43eb-ef84-4b3b-95f5-d1d4f09c8861",
   "metadata": {},
   "outputs": [
    {
     "name": "stdout",
     "output_type": "stream",
     "text": [
      "The autoreload extension is already loaded. To reload it, use:\n",
      "  %reload_ext autoreload\n"
     ]
    }
   ],
   "source": [
    "# autoreload is used to reload modules automatically before entering the\n",
    "# execution of code typed at the IPython prompt.\n",
    "%load_ext autoreload\n",
    "%autoreload 2\n",
    "# To import modules from parent directory in Jupyter Notebook\n",
    "import sys\n",
    "\n",
    "sys.path.append(\"..\")"
   ]
  },
  {
   "cell_type": "code",
   "execution_count": 35,
   "id": "6b2181e3-82e3-424a-9cd3-501a07ce4d09",
   "metadata": {},
   "outputs": [],
   "source": [
    "import os\n",
    "import imageio\n",
    "\n",
    "from scipy.signal import detrend\n",
    "import numpy as np\n",
    "import cc3d\n",
    "\n",
    "import napari\n",
    "from matplotlib import cm\n",
    "import vispy.color\n",
    "\n",
    "from data.data_processing_tools import moving_average, count_classes_in_roi\n",
    "from utils.in_out_tools import (\n",
    "    load_movies_ids,\n",
    "    load_annotations_ids,\n",
    "    load_rgb_annotations_ids,\n",
    ")\n",
    "from utils.visualization_tools import get_discrete_cmap"
   ]
  },
  {
   "cell_type": "code",
   "execution_count": 36,
   "id": "566fd1ec-30b3-4bc8-96b5-0ad65ec39418",
   "metadata": {},
   "outputs": [],
   "source": [
    "movie_ids = [\"34\"]\n",
    "# movie_ids = [\"01\",\"02\",\"03\",\"04\",\"05\",\"06\",\"07\",\"08\",\"09\",\n",
    "#             \"10\",\"11\",\"12\",\"13\",\"14\",\"15\",\"16\",\"17\",\"18\",\"19\",\n",
    "#             \"20\",\"21\",\"22\",\"23\",\"24\",\"25\",\"27\",\"28\",\"29\",\n",
    "#             \"30\",\"32\",\"33\",\"34\",\"35\",\"36\",\"38\",\"39\",\n",
    "#             \"40\",\"41\",\"42\",\"43\",\"44\",\"45\",\"46\"\n",
    "#            ]"
   ]
  },
  {
   "cell_type": "code",
   "execution_count": 37,
   "id": "346f2a79-cd69-4277-87c5-af52bfe8f20a",
   "metadata": {},
   "outputs": [],
   "source": [
    "data_dir = os.path.join(\"..\", \"data\", \"raw_data_and_processing\")"
   ]
  },
  {
   "cell_type": "markdown",
   "id": "478d491e-6f30-473c-9aaa-954a398d2b63",
   "metadata": {
    "tags": []
   },
   "source": [
    "### directory where corrected masks are saved"
   ]
  },
  {
   "cell_type": "code",
   "execution_count": 38,
   "id": "caa99317-c0d4-4d7b-9f11-6bafa9cdcc32",
   "metadata": {},
   "outputs": [],
   "source": [
    "# directory where corrected movies are saved\n",
    "corr_dir = os.path.join(data_dir, \"manual_corr_separated_event_masks\")\n",
    "os.makedirs(corr_dir, exist_ok=True)"
   ]
  },
  {
   "cell_type": "markdown",
   "id": "736bbea2-d135-4142-a152-10465c3b7ea5",
   "metadata": {
    "tags": []
   },
   "source": [
    "### load original movies"
   ]
  },
  {
   "cell_type": "code",
   "execution_count": 39,
   "id": "4ed08e0c-8a8e-4637-89c7-6f1f0dae5f36",
   "metadata": {},
   "outputs": [
    {
     "name": "stderr",
     "output_type": "stream",
     "text": [
      "TiffPage 0: TypeError: read_bytes() missing 3 required positional arguments: 'dtype', 'count', and 'offsetsize'\n",
      "TiffPage 0: TypeError: read_bytes() missing 3 required positional arguments: 'dtype', 'count', and 'offsetsize'\n"
     ]
    }
   ],
   "source": [
    "movies_dir = os.path.join(data_dir, \"original_movies\")\n",
    "movies = load_movies_ids(data_folder=movies_dir, ids=movie_ids)"
   ]
  },
  {
   "cell_type": "markdown",
   "id": "c683f139-7acb-43b4-8681-10f651f1c825",
   "metadata": {
    "tags": []
   },
   "source": [
    "### load smooth movies"
   ]
  },
  {
   "cell_type": "code",
   "execution_count": 40,
   "id": "c51fd2bb-f536-465e-9215-7d4d8a591592",
   "metadata": {},
   "outputs": [
    {
     "name": "stderr",
     "output_type": "stream",
     "text": [
      "TiffPage 0: TypeError: read_bytes() missing 3 required positional arguments: 'dtype', 'count', and 'offsetsize'\n",
      "TiffPage 0: TypeError: read_bytes() missing 3 required positional arguments: 'dtype', 'count', and 'offsetsize'\n"
     ]
    }
   ],
   "source": [
    "smooth_movies_dir = os.path.join(data_dir, \"smoothed_movies\")\n",
    "smooth_movies = load_movies_ids(\n",
    "    data_folder=smooth_movies_dir,\n",
    "    ids=movie_ids,\n",
    "    names_available=True,\n",
    "    movie_names=\"smoothed_video\",\n",
    ")"
   ]
  },
  {
   "cell_type": "markdown",
   "id": "1baa454f-ed5d-4dfb-b3c9-707ffabde8ca",
   "metadata": {
    "tags": []
   },
   "source": [
    "### load class annotations"
   ]
  },
  {
   "cell_type": "code",
   "execution_count": 41,
   "id": "555ca5e6-e056-40de-a97b-e8f03066e5d0",
   "metadata": {},
   "outputs": [],
   "source": [
    "class_labels_dir = os.path.join(data_dir, \"original_masks\")\n",
    "class_labels = load_annotations_ids(\n",
    "    data_folder=class_labels_dir, ids=movie_ids, mask_names=\"mask\"\n",
    ")"
   ]
  },
  {
   "cell_type": "markdown",
   "id": "f3901df9-d632-4eb7-bf81-8fbeb78df288",
   "metadata": {
    "jp-MarkdownHeadingCollapsed": true,
    "tags": []
   },
   "source": [
    "### General tools "
   ]
  },
  {
   "cell_type": "markdown",
   "id": "8c6c31f0-54cf-401e-938f-5334fb56f352",
   "metadata": {
    "tags": []
   },
   "source": [
    "#### Create LUT for smooth movie"
   ]
  },
  {
   "cell_type": "code",
   "execution_count": 43,
   "id": "636eefd3-c043-41a4-a372-7e300bb211df",
   "metadata": {},
   "outputs": [
    {
     "name": "stderr",
     "output_type": "stream",
     "text": [
      "C:\\Users\\dotti\\AppData\\Local\\Temp\\ipykernel_21520\\249267619.py:7: MatplotlibDeprecationWarning: The get_cmap function was deprecated in Matplotlib 3.7 and will be removed two minor releases later. Use ``matplotlib.colormaps[name]`` or ``matplotlib.colormaps.get_cmap(obj)`` instead.\n",
      "  segmented_cmap = cm.get_cmap(name=name, lut=16)\n"
     ]
    }
   ],
   "source": [
    "cmap = get_discrete_cmap(name=\"gray\", lut=16)"
   ]
  },
  {
   "cell_type": "markdown",
   "id": "44156dd0-fac5-49a6-b9fd-8d877eccf049",
   "metadata": {
    "jp-MarkdownHeadingCollapsed": true,
    "tags": []
   },
   "source": [
    "## Load original RBG masks and correct them\n",
    "\n",
    "Compute diff = \"bool\"(class_labels)- \"bool\"(rgb_labels), if:\n",
    "- diff == 0 then class_labels = rgb_labels\n",
    "- diff == 1 then some ROIs have been added to the RGB labels in the class labels ==> set rgb_labels to white_int (i.e., add ROI)\n",
    "- diff == -1 then some ROIs of the rgb labels have been removed in the class labels ==> set rgb_labels to 0 (i.e., remove ROI)\n",
    "\n",
    "Afterwards, ROIs in rgb_labels with value === white_int have been adapted in the following way:\n",
    "- if it is a new event, set ROI to a new colour\n",
    "- if it belongs to an existing event, set ROI colour to the colour of the events to which it belongs\n",
    "\n",
    "New masks are then saved (as \"int\"-RGB masks) in the directory `data/raw_data_and_processing_manual_corr_separated_events_masks` with name `XX_corrected_rgb_mask_V0.tif`"
   ]
  },
  {
   "cell_type": "markdown",
   "id": "0cf9a8b3-88c7-448e-a3ea-04f5da6cb62f",
   "metadata": {
    "tags": []
   },
   "source": [
    "### load RGB annotations"
   ]
  },
  {
   "cell_type": "code",
   "execution_count": 31,
   "id": "145d6a4d-a2e9-4118-a658-b0a982a4b2e5",
   "metadata": {},
   "outputs": [
    {
     "name": "stderr",
     "output_type": "stream",
     "text": [
      "TiffPage 0: TypeError: read_bytes() missing 3 required positional arguments: 'dtype', 'count', and 'offsetsize'\n",
      "TiffPage 0: TypeError: read_bytes() missing 3 required positional arguments: 'dtype', 'count', and 'offsetsize'\n"
     ]
    }
   ],
   "source": [
    "rgb_labels_dir = os.path.join(data_dir, \"original_separated_events_masks\")\n",
    "rgb_labels = load_rgb_annotations_ids(\n",
    "    data_folder=rgb_labels_dir, ids=movie_ids, mask_names=\"separated_events\"\n",
    ")"
   ]
  },
  {
   "cell_type": "markdown",
   "id": "1075036a-68f8-453a-b7a6-c5db69961b19",
   "metadata": {
    "tags": []
   },
   "source": [
    "### compare rgb and class annotations and correct them"
   ]
  },
  {
   "cell_type": "code",
   "execution_count": 32,
   "id": "4686e4bc-871d-41b2-a478-3bd7a152785b",
   "metadata": {},
   "outputs": [
    {
     "name": "stdout",
     "output_type": "stream",
     "text": [
      "white colour: 16646655\n"
     ]
    }
   ],
   "source": [
    "white_int = 255 * 255 * 255 + 255 * 255 + 255\n",
    "print(\"white colour:\", white_int)"
   ]
  },
  {
   "cell_type": "code",
   "execution_count": 33,
   "id": "dc0c20b3-1330-4ce8-b418-a28cce4a6b33",
   "metadata": {},
   "outputs": [
    {
     "name": "stdout",
     "output_type": "stream",
     "text": [
      "Movie 34\n",
      "Frames containing differences: 3 4 5 6 7 8 9 10 11 12 13 14 209 210 211 212 213 214 215 216 217 218 219 220 221 222 223 224 225 226 227 228 229 230 231 237 238 239 240 241 242 243 250 255 256 257 258 259 260 261 262 263 264 265 266 267 268 269 270 271 272 273 274 275 276 277 278 279 280 281 282 283 284 285 286 287 288 289 290 291 292 293 294 295 296 297 298 299 300 301 302 303 304 305 306 307 308 309 310 311 312 313 314 315 316 317 318 319 320 321 322 323 324 325 326 327 328 329 330 331 332 333 334 335 336 337 338 339 340 341 342 343 344 345 346 347 348 349 350 351 352 353 354 355 356 357 358 359 360 361 362 363 364 365 366 367 368 369 370 371 372 373 374 375 376 377 378 379 380 381 382 383 384 385 386 387 388 389 392 393 395 479 480 481 482 483 484 485 486 487 488 489 490 491 492 493 494 495 496 497 498 499 500 501 502 503 504 505 506 507 508 509 510 511 512 513 514 515 516 517 518 519 520 521 522 523 524 525 526 527 528 529 530 531 532 533 534 535 536 537 538 539 540 541 542 543 544 545 546 547 548 549 550 551 552 553 554 555 556 557 558 559 560 561 562 563 564 565 609 610 611 612 613 614 615 693 694 695 696 697 704 705 706 707 708 709 710 711 712 721 722 723 724 746 747 748 749 750 751 752 803 804 805 806 807 808 809\n",
      "Values in the differences: -1 0 1\n",
      "Frames containing differences after removing ROIs: 352 364 366 382 485 523 542 711 712\n",
      "Frames containing differences after adding ROIs:\n"
     ]
    }
   ],
   "source": [
    "# check how many corrections are necessary in general\n",
    "\n",
    "for movie_id in movie_ids:\n",
    "    print(\"Movie\", movie_id)\n",
    "    rgb_label = rgb_labels[movie_id]\n",
    "    class_label = class_labels[movie_id]\n",
    "\n",
    "    # compute differences between rgb and class labels\n",
    "    diff = np.where(class_label, 1, 0) - np.where(rgb_label, 1, 0)\n",
    "\n",
    "    print(\"Frames containing differences:\", *np.unique(np.where(diff)[0]))\n",
    "    print(\"Values in the differences:\", *np.unique(diff))\n",
    "\n",
    "    # remove ROIs from rgb labels that are not present in class labels\n",
    "    rgb_label_new = np.where(diff != -1, rgb_label, 0)\n",
    "\n",
    "    # check differences after removing ROIs\n",
    "    diff_2 = np.where(class_label, 1, 0) - np.where(rgb_label_new, 1, 0)\n",
    "    print(\n",
    "        \"Frames containing differences after removing ROIs:\",\n",
    "        *np.unique(np.where(diff_2)[0])\n",
    "    )\n",
    "    # if diff_2.max() > 0:\n",
    "    #    print(\"Movie\", movie_id)\n",
    "    #    print(\"Frames that need manual change of colour of ROI in rgb label:\", *np.unique(np.where(diff_2)[0]))\n",
    "\n",
    "    # add ROIs to rgb labels that are only present in class labels\n",
    "    rgb_label_new = np.where(diff == 1, white_int, rgb_label_new)\n",
    "\n",
    "    # check differences after adding ROIs\n",
    "    diff_3 = np.where(class_label, 1, 0) - np.where(rgb_label_new, 1, 0)\n",
    "    print(\n",
    "        \"Frames containing differences after adding ROIs:\",\n",
    "        *np.unique(np.where(diff_3)[0])\n",
    "    )\n",
    "\n",
    "    # update rgb_labels\n",
    "    rgb_labels[movie_id] = rgb_label_new"
   ]
  },
  {
   "cell_type": "markdown",
   "id": "d109b398-66d3-4536-8c11-c9020d170ad2",
   "metadata": {},
   "source": [
    "### Correct single movies manually"
   ]
  },
  {
   "cell_type": "code",
   "execution_count": 15,
   "id": "9a4ec16f-a0fe-44fb-8ce1-4a1df84d8529",
   "metadata": {},
   "outputs": [],
   "source": [
    "movie_id = \"34\"\n",
    "movie = movies[movie_id]\n",
    "rgb_label = rgb_labels[movie_id]\n",
    "class_label = class_labels[movie_id]"
   ]
  },
  {
   "cell_type": "code",
   "execution_count": 16,
   "id": "e12bc72e-586d-42f8-8d39-abfa9aa8f3f2",
   "metadata": {},
   "outputs": [
    {
     "name": "stdout",
     "output_type": "stream",
     "text": [
      "Frames that need manual change of colour of ROI in rgb label: 352 364 366 382 485 523 542 711 712\n"
     ]
    }
   ],
   "source": [
    "print(\n",
    "    \"Frames that need manual change of colour of ROI in rgb label:\",\n",
    "    *np.unique(np.where(rgb_label == white_int)[0])\n",
    ")"
   ]
  },
  {
   "cell_type": "code",
   "execution_count": 17,
   "id": "e90fa7b9-ff91-45ee-8bf6-9579ce2938fb",
   "metadata": {},
   "outputs": [
    {
     "name": "stdout",
     "output_type": "stream",
     "text": [
      "Colours present in rgb labels: 286395 503758 1145893 1834601 2283011 3297477 4298938 4544150 6216714 8438263 10282145 10538020 10573481 11054862 12271355 12282243 13520126 13710565 14335114 14608866 14848626 15492916 15528586 15826204 16145127 16380485\n"
     ]
    }
   ],
   "source": [
    "rgb_label_colours = list(np.unique(rgb_label))\n",
    "rgb_label_colours.remove(0)\n",
    "rgb_label_colours.remove(white_int)\n",
    "\n",
    "print(\"Colours present in rgb labels:\", *rgb_label_colours)"
   ]
  },
  {
   "cell_type": "markdown",
   "id": "824560e5-7fa2-4cfe-acc1-f1a5b0cf6839",
   "metadata": {},
   "source": [
    "### !!! the changes here are made interactively on the Napari viewer !!!"
   ]
  },
  {
   "cell_type": "code",
   "execution_count": 20,
   "id": "506a2dfa",
   "metadata": {},
   "outputs": [],
   "source": [
    "# os.environ['QT_PLUGIN_PATH'] = \"C:\\Users\\dotti\\.conda\\envs\\sparks\\Library\\plugins\""
   ]
  },
  {
   "cell_type": "code",
   "execution_count": null,
   "id": "8ad13837",
   "metadata": {},
   "outputs": [],
   "source": []
  },
  {
   "cell_type": "code",
   "execution_count": null,
   "id": "9dc41a3f",
   "metadata": {},
   "outputs": [],
   "source": []
  },
  {
   "cell_type": "code",
   "execution_count": 19,
   "id": "356a6d90-0142-4b1d-8a50-92061be64bb2",
   "metadata": {},
   "outputs": [
    {
     "data": {
      "text/plain": [
       "<Labels layer 'class labels' at 0x25b09640f10>"
      ]
     },
     "execution_count": 19,
     "metadata": {},
     "output_type": "execute_result"
    }
   ],
   "source": [
    "viewer = napari.Viewer()\n",
    "viewer.add_image(movie, name=\"original_movie\")\n",
    "viewer.add_labels(rgb_label, name=\"rgb labels\", opacity=0.5)\n",
    "viewer.add_labels(class_label, name=\"class labels\", opacity=0.5)\n",
    "# viewer.add_labels(diff, name='difference between labels', opacity=0.5)"
   ]
  },
  {
   "cell_type": "code",
   "execution_count": 402,
   "id": "5f01ee6b-93fb-4158-a936-0bfb838c0bfc",
   "metadata": {},
   "outputs": [
    {
     "name": "stdout",
     "output_type": "stream",
     "text": [
      "Frames that need manual change of colour of ROI in rgb label after manual change of colours:\n"
     ]
    }
   ],
   "source": [
    "print(\n",
    "    \"Frames that need manual change of colour of ROI in rgb label after manual change of colours:\",\n",
    "    *np.unique(np.where(rgb_label == white_int)[0])\n",
    ")"
   ]
  },
  {
   "cell_type": "code",
   "execution_count": 416,
   "id": "cf3e5dee-aaa5-4011-b390-260f22d689b7",
   "metadata": {},
   "outputs": [],
   "source": [
    "# save corrected rgb labels on disk\n",
    "imageio.volwrite(\n",
    "    os.path.join(corr_dir, movie_id + \"_corrected_rgb_mask_V0.tif\"), rgb_label\n",
    ")"
   ]
  },
  {
   "cell_type": "markdown",
   "id": "53bf2127-68ca-489c-9998-4db101bb43d2",
   "metadata": {
    "tags": []
   },
   "source": [
    "## Load corrected \"int\"-RGB labels and include additional manual corrections\n",
    "\n",
    "For all movies, load file `data/raw_data_and_processing_manual_corr_separated_events_masks/XX_corrected_rgb_mask_V0.tif` and get colour of events that consist of more than one connected component (CC).\n",
    "\n",
    "For each event that contain more than one CC, check them manually using _Napari_.\n",
    "\n",
    "All the changes are tracked in the excel file `data/raw_data_and_processing_manual_corr_separated_events_masks/separated_events_analysis.xlsx`\n",
    "\n",
    "Possible changes are, e.g.:\n",
    "- delete some CCs\n",
    "- change event/colour of some CCs\n",
    "- join CCs\n",
    "\n",
    "New masks are saved (as \"int\"-RGB masks) in the directory `data/raw_data_and_processing_manual_corr_separated_events_masks` with name `XX_corrected_rgb_mask_V1.tif`"
   ]
  },
  {
   "cell_type": "code",
   "execution_count": 10,
   "id": "4a1d16ab-8377-4f92-b607-e46b8ecc20a5",
   "metadata": {},
   "outputs": [],
   "source": [
    "rgb_labels_V0 = load_annotations_ids(\n",
    "    data_folder=corr_dir, ids=movie_ids, mask_names=\"corrected_rgb_mask_V0\"\n",
    ")"
   ]
  },
  {
   "cell_type": "code",
   "execution_count": 11,
   "id": "717d0aa5-1e2a-4986-97c4-760dae18c803",
   "metadata": {},
   "outputs": [
    {
     "name": "stdout",
     "output_type": "stream",
     "text": [
      "white colour: 16646655\n"
     ]
    }
   ],
   "source": [
    "white_int = 255 * 255 * 255 + 255 * 255 + 255\n",
    "print(\"white colour:\", white_int)"
   ]
  },
  {
   "cell_type": "markdown",
   "id": "0791306e-c21d-402a-ad9e-883a34d02783",
   "metadata": {
    "tags": []
   },
   "source": [
    "### check if int rgb label events consist of more than one connected component"
   ]
  },
  {
   "cell_type": "code",
   "execution_count": 12,
   "id": "ca566160-5304-4bb5-b908-ace23458a591",
   "metadata": {},
   "outputs": [],
   "source": [
    "# connectivity of the connected components\n",
    "connectivity = 26"
   ]
  },
  {
   "cell_type": "code",
   "execution_count": 13,
   "id": "1b31f6e2-b466-480d-a150-bcaa6d392bd4",
   "metadata": {
    "collapsed": true,
    "jupyter": {
     "outputs_hidden": true
    },
    "tags": []
   },
   "outputs": [
    {
     "name": "stdout",
     "output_type": "stream",
     "text": [
      "Movie 01\n",
      "Event with colour 1460377 contains 2 connected components\n",
      "Event with colour 1763421 contains 2 connected components\n",
      "Event with colour 7235208 contains 2 connected components\n",
      "Movie 02\n",
      "Event with colour 399774 contains 2 connected components\n",
      "Event with colour 583189 contains 3 connected components\n",
      "Event with colour 4192011 contains 2 connected components\n",
      "Event with colour 10252693 contains 7 connected components\n",
      "Movie 03\n",
      "Event with colour 83436 contains 4 connected components\n",
      "Event with colour 212722 contains 2 connected components\n",
      "Event with colour 2132871 contains 2 connected components\n",
      "Event with colour 6204449 contains 2 connected components\n",
      "Event with colour 8355437 contains 2 connected components\n",
      "Event with colour 8587972 contains 3 connected components\n",
      "Event with colour 11404912 contains 10 connected components\n",
      "Event with colour 15234816 contains 3 connected components\n",
      "Event with colour 15814187 contains 5 connected components\n",
      "Event with colour 16063153 contains 3 connected components\n",
      "Movie 04\n",
      "Event with colour 1280803 contains 2 connected components\n",
      "Event with colour 9485556 contains 2 connected components\n",
      "Movie 05\n",
      "Event with colour 142964 contains 2 connected components\n",
      "Event with colour 896217 contains 2 connected components\n",
      "Event with colour 3902242 contains 4 connected components\n",
      "Event with colour 5928311 contains 2 connected components\n",
      "Event with colour 7514576 contains 2 connected components\n",
      "Event with colour 7757222 contains 3 connected components\n",
      "Event with colour 7823167 contains 2 connected components\n",
      "Event with colour 8558458 contains 2 connected components\n",
      "Event with colour 10537788 contains 3 connected components\n",
      "Event with colour 11384051 contains 2 connected components\n",
      "Event with colour 14376843 contains 2 connected components\n",
      "Movie 06\n",
      "Event with colour 2199665 contains 2 connected components\n",
      "Event with colour 8071199 contains 3 connected components\n",
      "Event with colour 8843435 contains 3 connected components\n",
      "Event with colour 8906158 contains 3 connected components\n",
      "Movie 07\n",
      "Event with colour 3573375 contains 3 connected components\n",
      "Event with colour 7251112 contains 2 connected components\n",
      "Event with colour 9400685 contains 3 connected components\n",
      "Event with colour 12982121 contains 15 connected components\n",
      "Movie 08\n",
      "Event with colour 255 contains 8 connected components\n",
      "Event with colour 10739877 contains 2 connected components\n",
      "Movie 09\n",
      "Event with colour 2849917 contains 3 connected components\n",
      "Event with colour 5177143 contains 2 connected components\n",
      "Event with colour 5387321 contains 2 connected components\n",
      "Event with colour 5422074 contains 4 connected components\n",
      "Event with colour 6459205 contains 2 connected components\n",
      "Event with colour 8304938 contains 2 connected components\n",
      "Event with colour 8352532 contains 2 connected components\n",
      "Event with colour 10846858 contains 2 connected components\n",
      "Event with colour 15128358 contains 2 connected components\n",
      "Event with colour 15263586 contains 2 connected components\n",
      "Movie 10\n",
      "Event with colour 1532222 contains 3 connected components\n",
      "Event with colour 1689625 contains 3 connected components\n",
      "Event with colour 2895768 contains 2 connected components\n",
      "Event with colour 3755209 contains 2 connected components\n",
      "Event with colour 5493749 contains 2 connected components\n",
      "Event with colour 5897076 contains 2 connected components\n",
      "Event with colour 8419489 contains 2 connected components\n",
      "Event with colour 8906098 contains 4 connected components\n",
      "Event with colour 10528260 contains 2 connected components\n",
      "Event with colour 11709771 contains 2 connected components\n",
      "Event with colour 12182349 contains 6 connected components\n",
      "Event with colour 12740631 contains 4 connected components\n",
      "Event with colour 13066001 contains 5 connected components\n",
      "Event with colour 14700073 contains 3 connected components\n",
      "Movie 11\n",
      "Event with colour 2936115 contains 3 connected components\n",
      "Event with colour 3623206 contains 2 connected components\n",
      "Event with colour 4383668 contains 3 connected components\n",
      "Event with colour 4429331 contains 3 connected components\n",
      "Event with colour 4975264 contains 3 connected components\n",
      "Event with colour 7266172 contains 2 connected components\n",
      "Event with colour 7564447 contains 3 connected components\n",
      "Event with colour 8864374 contains 24 connected components\n",
      "Event with colour 8906090 contains 3 connected components\n",
      "Event with colour 12995516 contains 8 connected components\n",
      "Event with colour 13208235 contains 3 connected components\n",
      "Event with colour 15758091 contains 2 connected components\n",
      "Event with colour 16062453 contains 2 connected components\n",
      "Movie 12\n",
      "Event with colour 6416376 contains 2 connected components\n",
      "Event with colour 13892301 contains 2 connected components\n",
      "Movie 13\n",
      "Event with colour 6460447 contains 2 connected components\n",
      "Movie 14\n",
      "Event with colour 2415171 contains 2 connected components\n",
      "Event with colour 5391861 contains 2 connected components\n",
      "Event with colour 8705117 contains 2 connected components\n",
      "Event with colour 14105729 contains 2 connected components\n",
      "Movie 15\n",
      "Event with colour 195120 contains 6 connected components\n",
      "Event with colour 984288 contains 2 connected components\n",
      "Event with colour 3736173 contains 3 connected components\n",
      "Event with colour 5123838 contains 2 connected components\n",
      "Event with colour 5517705 contains 2 connected components\n",
      "Event with colour 6661870 contains 3 connected components\n",
      "Event with colour 6992921 contains 2 connected components\n",
      "Event with colour 8416204 contains 3 connected components\n",
      "Event with colour 8428940 contains 2 connected components\n",
      "Event with colour 10334573 contains 2 connected components\n",
      "Event with colour 10551495 contains 7 connected components\n",
      "Event with colour 10982413 contains 2 connected components\n",
      "Event with colour 12340882 contains 2 connected components\n",
      "Event with colour 14071372 contains 2 connected components\n",
      "Event with colour 15852736 contains 2 connected components\n",
      "Event with colour 16427459 contains 2 connected components\n",
      "Movie 16\n",
      "Event with colour 1552558 contains 2 connected components\n",
      "Event with colour 1926926 contains 2 connected components\n",
      "Event with colour 5383045 contains 3 connected components\n",
      "Movie 17\n",
      "Event with colour 172955 contains 3 connected components\n",
      "Event with colour 1368837 contains 2 connected components\n",
      "Event with colour 1585484 contains 2 connected components\n",
      "Event with colour 1695632 contains 79 connected components\n",
      "Event with colour 4139103 contains 2 connected components\n",
      "Event with colour 6273651 contains 2 connected components\n",
      "Event with colour 8413651 contains 2 connected components\n",
      "Event with colour 8784659 contains 2 connected components\n",
      "Event with colour 9731592 contains 2 connected components\n",
      "Event with colour 11462065 contains 2 connected components\n",
      "Movie 18\n",
      "Event with colour 58558 contains 4 connected components\n",
      "Event with colour 1627669 contains 2 connected components\n",
      "Event with colour 2741040 contains 2 connected components\n",
      "Event with colour 2948741 contains 2 connected components\n",
      "Event with colour 3848749 contains 2 connected components\n",
      "Event with colour 4042911 contains 2 connected components\n",
      "Event with colour 4054236 contains 2 connected components\n",
      "Event with colour 5585426 contains 2 connected components\n",
      "Event with colour 5781873 contains 3 connected components\n",
      "Event with colour 6378562 contains 2 connected components\n",
      "Event with colour 7427370 contains 2 connected components\n",
      "Event with colour 7522652 contains 2 connected components\n",
      "Event with colour 9345200 contains 2 connected components\n",
      "Event with colour 9599731 contains 3 connected components\n",
      "Event with colour 10670962 contains 2 connected components\n",
      "Event with colour 10868189 contains 2 connected components\n",
      "Event with colour 11127990 contains 2 connected components\n",
      "Event with colour 11379461 contains 3 connected components\n",
      "Event with colour 11710881 contains 2 connected components\n",
      "Event with colour 11785644 contains 3 connected components\n",
      "Event with colour 12302918 contains 2 connected components\n",
      "Event with colour 12796587 contains 2 connected components\n",
      "Event with colour 12809738 contains 2 connected components\n",
      "Event with colour 13148734 contains 5 connected components\n",
      "Event with colour 13244113 contains 2 connected components\n",
      "Event with colour 14413363 contains 3 connected components\n",
      "Event with colour 16356814 contains 2 connected components\n",
      "Movie 19\n",
      "Event with colour 2194125 contains 3 connected components\n",
      "Event with colour 2967567 contains 3 connected components\n",
      "Event with colour 4920456 contains 2 connected components\n",
      "Event with colour 4998354 contains 9 connected components\n",
      "Event with colour 5032051 contains 2 connected components\n",
      "Event with colour 5949114 contains 2 connected components\n",
      "Event with colour 6789278 contains 2 connected components\n",
      "Event with colour 6946484 contains 2 connected components\n",
      "Event with colour 6992500 contains 2 connected components\n",
      "Event with colour 8075068 contains 2 connected components\n",
      "Event with colour 8226476 contains 2 connected components\n",
      "Event with colour 8619689 contains 2 connected components\n",
      "Event with colour 9217160 contains 6 connected components\n",
      "Event with colour 10383514 contains 127 connected components\n",
      "Event with colour 12506646 contains 2 connected components\n",
      "Event with colour 12918422 contains 2 connected components\n",
      "Event with colour 13001821 contains 2 connected components\n",
      "Event with colour 14054412 contains 2 connected components\n",
      "Event with colour 14190392 contains 2 connected components\n",
      "Event with colour 15904916 contains 8 connected components\n",
      "Event with colour 16159205 contains 6 connected components\n",
      "Movie 20\n",
      "Event with colour 864979 contains 2 connected components\n",
      "Event with colour 1045750 contains 2 connected components\n",
      "Event with colour 2387352 contains 2 connected components\n",
      "Event with colour 3636909 contains 2 connected components\n",
      "Event with colour 3779753 contains 2 connected components\n",
      "Event with colour 3810836 contains 2 connected components\n",
      "Event with colour 5180168 contains 13 connected components\n",
      "Event with colour 7641288 contains 2 connected components\n",
      "Event with colour 9876889 contains 2 connected components\n",
      "Event with colour 11554461 contains 2 connected components\n",
      "Event with colour 11990296 contains 2 connected components\n",
      "Event with colour 13048254 contains 3 connected components\n",
      "Event with colour 16326961 contains 2 connected components\n",
      "Event with colour 16447215 contains 2 connected components\n",
      "Movie 21\n",
      "Event with colour 6676519 contains 2 connected components\n",
      "Event with colour 12646857 contains 2 connected components\n",
      "Event with colour 14335386 contains 2 connected components\n",
      "Movie 22\n",
      "Event with colour 853674 contains 3 connected components\n",
      "Event with colour 1054495 contains 2 connected components\n",
      "Event with colour 4656529 contains 2 connected components\n",
      "Event with colour 6116268 contains 3 connected components\n",
      "Event with colour 11089004 contains 2 connected components\n",
      "Movie 23\n",
      "Event with colour 1844658 contains 2 connected components\n",
      "Event with colour 2232330 contains 2 connected components\n",
      "Event with colour 4404668 contains 2 connected components\n",
      "Event with colour 8233034 contains 2 connected components\n",
      "Event with colour 12259672 contains 2 connected components\n",
      "Event with colour 15309889 contains 2 connected components\n",
      "Movie 24\n",
      "Event with colour 2042280 contains 2 connected components\n",
      "Event with colour 2088233 contains 2 connected components\n",
      "Movie 25\n",
      "Event with colour 516869 contains 2 connected components\n",
      "Event with colour 12103485 contains 2 connected components\n",
      "Event with colour 12476889 contains 3 connected components\n",
      "Event with colour 13983127 contains 2 connected components\n",
      "Event with colour 14194055 contains 2 connected components\n",
      "Movie 27\n",
      "Event with colour 1156965 contains 2 connected components\n",
      "Event with colour 8493757 contains 2 connected components\n",
      "Movie 28\n",
      "Event with colour 255 contains 4 connected components\n",
      "Event with colour 65025 contains 9 connected components\n",
      "Event with colour 65280 contains 6 connected components\n",
      "Event with colour 8323328 contains 5 connected components\n",
      "Event with colour 10739877 contains 6 connected components\n",
      "Event with colour 16581375 contains 5 connected components\n",
      "Event with colour 16581630 contains 5 connected components\n",
      "Event with colour 16632375 contains 6 connected components\n",
      "Event with colour 16646400 contains 4 connected components\n",
      "Movie 29\n",
      "Movie 30\n",
      "Event with colour 716369 contains 2 connected components\n",
      "Event with colour 1943438 contains 2 connected components\n",
      "Event with colour 3899236 contains 3 connected components\n",
      "Event with colour 4594396 contains 2 connected components\n",
      "Event with colour 7671481 contains 5 connected components\n",
      "Event with colour 10329572 contains 2 connected components\n",
      "Event with colour 10417792 contains 4 connected components\n",
      "Event with colour 12731376 contains 2 connected components\n",
      "Event with colour 14205745 contains 2 connected components\n",
      "Event with colour 15225077 contains 2 connected components\n",
      "Event with colour 16035596 contains 2 connected components\n",
      "Movie 32\n",
      "Event with colour 1003432 contains 3 connected components\n",
      "Event with colour 6148388 contains 3 connected components\n",
      "Event with colour 16605960 contains 2 connected components\n",
      "Movie 33\n",
      "Event with colour 9851133 contains 2 connected components\n",
      "Movie 34\n",
      "Event with colour 503758 contains 2 connected components\n",
      "Event with colour 10282145 contains 5 connected components\n",
      "Event with colour 12271355 contains 2 connected components\n",
      "Event with colour 12282243 contains 2 connected components\n",
      "Event with colour 15826204 contains 8 connected components\n",
      "Movie 35\n",
      "Event with colour 6398526 contains 2 connected components\n",
      "Event with colour 6502712 contains 2 connected components\n",
      "Event with colour 9969732 contains 2 connected components\n",
      "Event with colour 10287463 contains 3 connected components\n",
      "Event with colour 15267821 contains 2 connected components\n",
      "Event with colour 15574667 contains 2 connected components\n",
      "Event with colour 16416643 contains 3 connected components\n",
      "Movie 36\n",
      "Event with colour 945593 contains 2 connected components\n",
      "Event with colour 2224373 contains 2 connected components\n",
      "Event with colour 7873298 contains 2 connected components\n",
      "Event with colour 9032215 contains 3 connected components\n",
      "Event with colour 11791316 contains 3 connected components\n",
      "Event with colour 13014032 contains 3 connected components\n",
      "Event with colour 14629880 contains 7 connected components\n",
      "Event with colour 15004828 contains 3 connected components\n",
      "Event with colour 15499102 contains 4 connected components\n",
      "Event with colour 16627434 contains 2 connected components\n",
      "Movie 38\n",
      "Event with colour 331456 contains 4 connected components\n",
      "Event with colour 16316038 contains 3 connected components\n",
      "Movie 39\n",
      "Event with colour 14539191 contains 3 connected components\n",
      "Event with colour 16478190 contains 4 connected components\n",
      "Event with colour 16625330 contains 9 connected components\n",
      "Movie 40\n",
      "Event with colour 4510409 contains 8 connected components\n",
      "Event with colour 6409252 contains 2 connected components\n",
      "Event with colour 12844890 contains 12 connected components\n",
      "Event with colour 16350651 contains 2 connected components\n",
      "Movie 41\n",
      "Event with colour 2202376 contains 60 connected components\n",
      "Movie 42\n",
      "Movie 43\n",
      "Event with colour 10616985 contains 4 connected components\n",
      "Movie 44\n",
      "Event with colour 16632375 contains 2 connected components\n",
      "Movie 45\n",
      "Event with colour 1233642 contains 2 connected components\n",
      "Movie 46\n",
      "Event with colour 2952944 contains 2 connected components\n",
      "Event with colour 3117976 contains 37 connected components\n",
      "Event with colour 3893075 contains 4 connected components\n",
      "Event with colour 4888731 contains 7 connected components\n",
      "Event with colour 6622415 contains 3 connected components\n",
      "Event with colour 6773590 contains 2 connected components\n",
      "Event with colour 11309117 contains 3 connected components\n",
      "Event with colour 15021344 contains 3 connected components\n"
     ]
    }
   ],
   "source": [
    "# check how many corrections are necessary in general\n",
    "\n",
    "separated_events = {}\n",
    "\n",
    "for movie_id in movie_ids:\n",
    "    print(\"Movie\", movie_id)\n",
    "    int_rgb_label = rgb_labels_V0[movie_id]\n",
    "    class_label = class_labels[movie_id]\n",
    "\n",
    "    # check that int rgs label does not contain white_int\n",
    "    assert not white_int in int_rgb_label\n",
    "\n",
    "    # compute number of connected components for each event\n",
    "    list_events = list(np.unique(int_rgb_label))\n",
    "    list_events.remove(0)\n",
    "\n",
    "    # create dict entry to store events that are separated in more than one conn comp\n",
    "    separated_events[movie_id] = []\n",
    "\n",
    "    for nb_event in list_events:\n",
    "        events, n_components = cc3d.connected_components(\n",
    "            (int_rgb_label == nb_event), connectivity=connectivity, return_N=True\n",
    "        )\n",
    "        if n_components > 1:\n",
    "            print(\n",
    "                f\"Event with colour {nb_event} contains {n_components} connected components\"\n",
    "            )\n",
    "            separated_events[movie_id].append([nb_event, n_components])"
   ]
  },
  {
   "cell_type": "markdown",
   "id": "b46fdab7-c908-41ff-bebf-ae7a60719700",
   "metadata": {},
   "source": [
    "### Correct single movies manually"
   ]
  },
  {
   "cell_type": "code",
   "execution_count": 39,
   "id": "c30e2130-b58f-47c7-b03f-7f4f5b8e37f3",
   "metadata": {},
   "outputs": [],
   "source": [
    "movie_id = \"32\"\n",
    "movie = movies[movie_id]\n",
    "int_rgb_label = rgb_labels_V0[movie_id]\n",
    "class_label = class_labels[movie_id]"
   ]
  },
  {
   "cell_type": "code",
   "execution_count": 40,
   "id": "cf31f8ce-1a79-4201-8a97-b5be0c3281fa",
   "metadata": {},
   "outputs": [
    {
     "name": "stdout",
     "output_type": "stream",
     "text": [
      "Colours present in rgb labels: 1003432 3310765 6148388 7578015 8128526 11612070 14234127 14566981 14895524 15407937 16605960\n"
     ]
    }
   ],
   "source": [
    "int_rgb_label_colours = list(np.unique(int_rgb_label))\n",
    "int_rgb_label_colours.remove(0)\n",
    "\n",
    "print(\"Colours present in rgb labels:\", *int_rgb_label_colours)"
   ]
  },
  {
   "cell_type": "code",
   "execution_count": 41,
   "id": "be3fecba-af07-4e91-90a5-6e220f940a76",
   "metadata": {},
   "outputs": [
    {
     "name": "stdout",
     "output_type": "stream",
     "text": [
      "Events that contain more than one connected component: [1003432, 3] [6148388, 3] [16605960, 2]\n"
     ]
    }
   ],
   "source": [
    "print(\n",
    "    \"Events that contain more than one connected component:\",\n",
    "    *separated_events[movie_id]\n",
    ")"
   ]
  },
  {
   "cell_type": "markdown",
   "id": "ea904d4a-c58d-4021-90c3-220d655f1210",
   "metadata": {},
   "source": [
    "#### !!! the changes here are made interactively on the Napari viewer !!!\n",
    "\n",
    "the array that gets modified is `rgb_labels_V0[movie_id]`"
   ]
  },
  {
   "cell_type": "code",
   "execution_count": 72,
   "id": "806e716a-9dd8-47af-918f-59bafe15596c",
   "metadata": {},
   "outputs": [
    {
     "name": "stdout",
     "output_type": "stream",
     "text": [
      "Events that are still separated in multiple CCs:\n"
     ]
    }
   ],
   "source": [
    "# check which events are stil separated after changes\n",
    "# compute number of connected components for each event\n",
    "list_events = list(np.unique(int_rgb_label))\n",
    "list_events.remove(0)\n",
    "\n",
    "print(\"Events that are still separated in multiple CCs:\")\n",
    "\n",
    "for nb_event in list_events:\n",
    "    events, n_components = cc3d.connected_components(\n",
    "        (int_rgb_label == nb_event), connectivity=connectivity, return_N=True\n",
    "    )\n",
    "    if n_components > 1:\n",
    "        print(\n",
    "            f\"Event with colour {nb_event} contains {n_components} connected components, first frame: {list(np.unique((np.where(int_rgb_label == nb_event)[0])))[0]}\"\n",
    "        )"
   ]
  },
  {
   "cell_type": "code",
   "execution_count": 49,
   "id": "bff0d5ab-e74d-4061-8a6c-95b61fcf387e",
   "metadata": {},
   "outputs": [
    {
     "name": "stderr",
     "output_type": "stream",
     "text": [
      "WARNING: DirectWrite: CreateFontFaceFromHDC() failed (Indicates an error in an input file such as a font file.) for QFontDef(Family=\"\", pointsize=12, pixelsize=16, styleHint=5, weight=50, stretch=100, hintingPreference=0) LOGFONT(\"MS Sans Serif\", lfWidth=0, lfHeight=-16) dpi=96\n"
     ]
    },
    {
     "name": "stdout",
     "output_type": "stream",
     "text": [
      "frames containing event 16605960: [880, 882, 883]\n"
     ]
    },
    {
     "data": {
      "text/plain": [
       "<Labels layer 'separated event connected components' at 0x20f15bfd6a0>"
      ]
     },
     "execution_count": 49,
     "metadata": {},
     "output_type": "execute_result"
    }
   ],
   "source": [
    "nb_event = 16605960\n",
    "\n",
    "print(\n",
    "    f\"frames containing event {nb_event}: {list(np.unique((np.where(int_rgb_label == nb_event)[0])))}\"\n",
    ")\n",
    "\n",
    "# array containing the separated connected component of the selected event\n",
    "separted_event_conn_comp = cc3d.connected_components(\n",
    "    (int_rgb_label == nb_event), connectivity=connectivity, return_N=False\n",
    ")\n",
    "\n",
    "viewer = napari.Viewer()\n",
    "viewer.add_image(movie, name=\"original_movie\")\n",
    "viewer.add_labels(int_rgb_label, name=\"int rgb labels\", opacity=0.5, visible=False)\n",
    "viewer.add_labels(class_label, name=\"class labels\", opacity=0.5, visible=False)\n",
    "viewer.add_labels(\n",
    "    separted_event_conn_comp, name=\"separated event connected components\", opacity=0.5\n",
    ")"
   ]
  },
  {
   "cell_type": "code",
   "execution_count": 50,
   "id": "b746ff40-f135-437a-bba6-e7aa9a90945e",
   "metadata": {},
   "outputs": [
    {
     "data": {
      "text/plain": [
       "array([882, 883], dtype=int64)"
      ]
     },
     "execution_count": 50,
     "metadata": {},
     "output_type": "execute_result"
    }
   ],
   "source": [
    "# check slices that contain a given CC for the current event number\n",
    "cc_idx = 2\n",
    "np.unique(np.where(separted_event_conn_comp == cc_idx)[0])"
   ]
  },
  {
   "cell_type": "code",
   "execution_count": 74,
   "id": "4ff2b261-54e8-4c50-8fec-501b0315d8cf",
   "metadata": {},
   "outputs": [],
   "source": [
    "# save corrected rgb labels on disk\n",
    "imageio.volwrite(\n",
    "    os.path.join(corr_dir, movie_id + \"_corrected_rgb_mask_V1.tif\"), int_rgb_label\n",
    ")"
   ]
  },
  {
   "cell_type": "markdown",
   "id": "f86c4168-a269-44ac-b9da-d284ef6aa680",
   "metadata": {},
   "source": [
    "#### Run this to interactively apply new thresholds on smooth video + correct RGB labels (V0)\n",
    "\n",
    "This is applied to the current `movie_id` (and visualised with respect to current `nb_event`)"
   ]
  },
  {
   "cell_type": "code",
   "execution_count": 54,
   "id": "df4d57d8-0c25-48b6-908b-95695fadd100",
   "metadata": {},
   "outputs": [],
   "source": [
    "# open smooth movie\n",
    "smooth_movies_dir = os.path.join(data_dir, \"smoothed_movies\")\n",
    "smooth_movie = load_movies_ids(data_folder=smooth_movies_dir, ids=[movie_id])[movie_id]"
   ]
  },
  {
   "cell_type": "code",
   "execution_count": 55,
   "id": "16aa9d79-0489-40d9-8a49-39c613be7622",
   "metadata": {},
   "outputs": [],
   "source": [
    "# select start and end frames of the event (event belongs to these frames)\n",
    "start = 872\n",
    "end = 357"
   ]
  },
  {
   "cell_type": "code",
   "execution_count": 56,
   "id": "2f2b2404-07f1-4542-8282-ce9b1497825b",
   "metadata": {},
   "outputs": [],
   "source": [
    "# empty previous and successive frames in smooth movie\n",
    "smooth_movie[:start] = 0\n",
    "# smooth_movie[end+1:] = 0"
   ]
  },
  {
   "cell_type": "code",
   "execution_count": 68,
   "id": "7d13b56b-f0e6-492e-b42d-3b79bd16d75c",
   "metadata": {},
   "outputs": [],
   "source": [
    "# reset previous threshold\n",
    "int_rgb_label = np.where(int_rgb_label == white_int, 0, int_rgb_label)\n",
    "\n",
    "# select event threshold\n",
    "t = 1.105\n",
    "\n",
    "# compute binary mask\n",
    "binary_mask = smooth_movie > t\n",
    "\n",
    "# add new detected ROIs to rgb_labels_V0[movie_id] (already opened in previous section) as white_int\n",
    "int_rgb_label = np.where(\n",
    "    np.logical_and(binary_mask, int_rgb_label == 0), white_int, int_rgb_label\n",
    ")"
   ]
  },
  {
   "cell_type": "code",
   "execution_count": 69,
   "id": "ea7396a2-6109-423a-9443-fb9f23a47f5d",
   "metadata": {},
   "outputs": [
    {
     "name": "stderr",
     "output_type": "stream",
     "text": [
      "WARNING: DirectWrite: CreateFontFaceFromHDC() failed (Indicates an error in an input file such as a font file.) for QFontDef(Family=\"\", pointsize=12, pixelsize=16, styleHint=5, weight=50, stretch=100, hintingPreference=0) LOGFONT(\"MS Sans Serif\", lfWidth=0, lfHeight=-16) dpi=96\n"
     ]
    },
    {
     "data": {
      "text/plain": [
       "<Labels layer 'separated event connected components' at 0x20f7fa952e0>"
      ]
     },
     "execution_count": 69,
     "metadata": {},
     "output_type": "execute_result"
    }
   ],
   "source": [
    "# visualise everything and apply changes manually\n",
    "viewer = napari.Viewer()\n",
    "viewer.add_image(movie, name=\"original movie\")\n",
    "viewer.add_labels(int_rgb_label, name=\"int rgb labels\")  # , opacity=0.5)\n",
    "viewer.add_labels(class_label, name=\"class labels\", opacity=0.5, visible=False)\n",
    "viewer.add_labels(\n",
    "    separted_event_conn_comp,\n",
    "    name=\"separated event connected components\",\n",
    "    opacity=0.5,\n",
    "    visible=False,\n",
    ")"
   ]
  },
  {
   "cell_type": "code",
   "execution_count": 71,
   "id": "95350652-e0c8-403d-ab6b-07841aa74283",
   "metadata": {},
   "outputs": [],
   "source": [
    "# set remaining white_int zones back to zero\n",
    "int_rgb_label = np.where(int_rgb_label == white_int, 0, int_rgb_label)"
   ]
  },
  {
   "cell_type": "markdown",
   "id": "9e517588-c44c-496a-9828-1d23fa4c9dbe",
   "metadata": {},
   "source": [
    "#### Run this to detrend current movie and interactively apply new thresholds to annotations"
   ]
  },
  {
   "cell_type": "code",
   "execution_count": 719,
   "id": "3afc7bdf-558f-45b5-92e0-07e6b45afe84",
   "metadata": {},
   "outputs": [],
   "source": [
    "# create a copy of RGB labels V0 to avoid losing changes\n",
    "int_rgb_label_copy = rgb_labels_V0_bis[movie_id]"
   ]
  },
  {
   "cell_type": "code",
   "execution_count": 716,
   "id": "6d35b785-27cf-4771-8191-2efbafdec800",
   "metadata": {},
   "outputs": [],
   "source": [
    "smooth_movie_detrend = detrend(smooth_movie, axis=0, bp=[1480])\n",
    "\n",
    "imageio.volwrite(f\"TEST_detrend_movie_{movie_id}.tif\", smooth_movie_detrend)"
   ]
  },
  {
   "cell_type": "code",
   "execution_count": 818,
   "id": "6f0ad21b-27be-48fa-88d3-2a1ef90587ed",
   "metadata": {},
   "outputs": [
    {
     "name": "stdout",
     "output_type": "stream",
     "text": [
      "Events that are still separated in multiple CCs:\n"
     ]
    }
   ],
   "source": [
    "# check which events are stil separated after changes\n",
    "# compute number of connected components for each event\n",
    "list_events = list(np.unique(int_rgb_label_copy))\n",
    "list_events.remove(0)\n",
    "\n",
    "print(\"Events that are still separated in multiple CCs:\")\n",
    "\n",
    "for nb_event in list_events:\n",
    "    events, n_components = cc3d.connected_components(\n",
    "        (int_rgb_label_copy == nb_event), connectivity=connectivity, return_N=True\n",
    "    )\n",
    "    if n_components > 1:\n",
    "        print(\n",
    "            f\"Event with colour {nb_event} contains {n_components} connected components, first frame: {list(np.unique((np.where(int_rgb_label_copy == nb_event)[0])))[0]}\"\n",
    "        )"
   ]
  },
  {
   "cell_type": "code",
   "execution_count": 829,
   "id": "76700f9b-2e47-45f1-a834-2b3de07696f7",
   "metadata": {},
   "outputs": [
    {
     "name": "stderr",
     "output_type": "stream",
     "text": [
      "WARNING: DirectWrite: CreateFontFaceFromHDC() failed (Indicates an error in an input file such as a font file.) for QFontDef(Family=\"\", pointsize=12, pixelsize=16, styleHint=5, weight=50, stretch=100, hintingPreference=0) LOGFONT(\"MS Sans Serif\", lfWidth=0, lfHeight=-16) dpi=96\n"
     ]
    },
    {
     "name": "stdout",
     "output_type": "stream",
     "text": [
      "frames containing event 7522652: [847, 848, 849, 850, 851, 852, 853, 854, 855, 856, 857, 858, 859, 860, 861, 862, 863, 864, 865, 866, 867, 868, 869, 870, 871, 872, 873, 874, 875, 876, 877, 878, 879, 880, 881, 882, 883, 884, 885, 886, 887, 888, 889, 890, 891, 892, 893, 894, 895, 896, 897, 898, 899, 900, 901, 902]\n"
     ]
    },
    {
     "data": {
      "text/plain": [
       "<Labels layer 'separated event connected components' at 0x1da5bc19c40>"
      ]
     },
     "execution_count": 829,
     "metadata": {},
     "output_type": "execute_result"
    }
   ],
   "source": [
    "# compute connected components of given event\n",
    "nb_event = 7522652\n",
    "\n",
    "print(\n",
    "    f\"frames containing event {nb_event}: {list(np.unique((np.where(int_rgb_label_copy == nb_event)[0])))}\"\n",
    ")\n",
    "\n",
    "# array containing the separated connected component of the selected event\n",
    "separted_event_conn_comp = cc3d.connected_components(\n",
    "    (int_rgb_label_copy == nb_event), connectivity=connectivity, return_N=False\n",
    ")\n",
    "\n",
    "# visualise everything and apply changes manually\n",
    "\n",
    "viewer = napari.Viewer()\n",
    "viewer.add_image(smooth_movie_detrend, name=\"original movie\")\n",
    "viewer.add_labels(int_rgb_label_copy, name=\"int rgb labels\", opacity=0.5, visible=False)\n",
    "viewer.add_labels(class_label, name=\"class labels\", opacity=0.5, visible=False)\n",
    "viewer.add_labels(\n",
    "    separted_event_conn_comp,\n",
    "    name=\"separated event connected components\",\n",
    "    opacity=0.5,\n",
    "    visible=True,\n",
    ")"
   ]
  },
  {
   "cell_type": "code",
   "execution_count": 808,
   "id": "9db22e3b-fb50-4d22-adf7-7c9a02fb94f7",
   "metadata": {},
   "outputs": [],
   "source": [
    "# select start and end frames of the event (event belongs to these frames)\n",
    "start = 1770\n",
    "end = 1492"
   ]
  },
  {
   "cell_type": "code",
   "execution_count": 809,
   "id": "253052ad-b0ef-402b-82e9-281c2e1152b0",
   "metadata": {},
   "outputs": [],
   "source": [
    "# empty previous and successive frames in smooth movie\n",
    "# smooth_movie_detrend_t = np.copy(smooth_movie_detrend)\n",
    "# smooth_movie_detrend_t[:start] = 0\n",
    "# smooth_movie_detrend_t[end+1:] = 0\n",
    "smooth_movie[:start] = 0\n",
    "# smooth_movie[end+1:] = 0"
   ]
  },
  {
   "cell_type": "code",
   "execution_count": 814,
   "id": "db7f505e-5924-45aa-8f06-71331630b4e0",
   "metadata": {},
   "outputs": [],
   "source": [
    "# reset previous threshold\n",
    "int_rgb_label_copy = np.where(int_rgb_label_copy == white_int, 0, int_rgb_label_copy)\n",
    "\n",
    "# select event threshold\n",
    "t = 2.35\n",
    "\n",
    "# compute binary mask\n",
    "# binary_mask = smooth_movie_detrend_t > t\n",
    "binary_mask = smooth_movie > t\n",
    "\n",
    "# add new detected ROIs to rgb_labels_V0[movie_id] (already opened in previous section) as white_int\n",
    "int_rgb_label_copy = np.where(\n",
    "    np.logical_and(binary_mask, int_rgb_label_copy == 0), white_int, int_rgb_label_copy\n",
    ")"
   ]
  },
  {
   "cell_type": "code",
   "execution_count": 817,
   "id": "edcdfd88-bf87-45d3-a414-abbb5272f30c",
   "metadata": {},
   "outputs": [],
   "source": [
    "# set remaining white_int zones back to zero\n",
    "int_rgb_label_copy = np.where(int_rgb_label_copy == white_int, 0, int_rgb_label_copy)"
   ]
  },
  {
   "cell_type": "code",
   "execution_count": 830,
   "id": "698768a5-ee8d-45eb-9999-1410d0cf103f",
   "metadata": {},
   "outputs": [],
   "source": [
    "# save changes to int_rgb_label\n",
    "int_rgb_label = int_rgb_label_copy"
   ]
  },
  {
   "cell_type": "markdown",
   "id": "903e8ae6-2cb5-44df-8167-bdb95bf7c7a3",
   "metadata": {
    "tags": []
   },
   "source": [
    "#### Run this to change current CC colours"
   ]
  },
  {
   "cell_type": "code",
   "execution_count": 417,
   "id": "2614d0cb-01bb-4821-b60e-60a5e4013f80",
   "metadata": {},
   "outputs": [],
   "source": [
    "# change CC colours manually\n",
    "int_rgb_label = np.where(separted_event_conn_comp == 2, 7, int_rgb_label)\n",
    "int_rgb_label = np.where(separted_event_conn_comp == 3, 0, int_rgb_label)\n",
    "int_rgb_label = np.where(separted_event_conn_comp == 4, 6, int_rgb_label)\n",
    "int_rgb_label = np.where(separted_event_conn_comp == 5, 0, int_rgb_label)\n",
    "int_rgb_label = np.where(separted_event_conn_comp == 6, 0, int_rgb_label)\n",
    "int_rgb_label = np.where(separted_event_conn_comp == 7, 0, int_rgb_label)\n",
    "int_rgb_label = np.where(separted_event_conn_comp == 8, 0, int_rgb_label)\n",
    "int_rgb_label = np.where(separted_event_conn_comp == 9, 0, int_rgb_label)\n",
    "int_rgb_label = np.where(separted_event_conn_comp == 10, 0, int_rgb_label)\n",
    "int_rgb_label = np.where(separted_event_conn_comp == 11, 0, int_rgb_label)\n",
    "int_rgb_label = np.where(separted_event_conn_comp == 12, 0, int_rgb_label)"
   ]
  },
  {
   "cell_type": "code",
   "execution_count": 434,
   "id": "32c09c48-ee48-4bed-be88-16d2473661f9",
   "metadata": {},
   "outputs": [],
   "source": [
    "# loop over a range of CCs indices\n",
    "for i in range(2, np.max(separted_event_conn_comp) + 1):\n",
    "    int_rgb_label = np.where(separted_event_conn_comp == i, 0, int_rgb_label)"
   ]
  },
  {
   "cell_type": "markdown",
   "id": "dff0749a-1689-4f71-8a4f-d0e956ab62c4",
   "metadata": {
    "tags": []
   },
   "source": [
    "## Load corrected \"int\"-RGB labels and label events\n",
    "\n",
    "The goal here is to assign a class with value in `{1,2,3,4}` to each event present in the files `XX_corrected_rgb_mask_V1.tif`.\n",
    "\n",
    "The idea is the following:\n",
    "- Load \"int\"-RGB mask V1 : `data/raw_data_and_processing_manual_corr_separated_events_masks/XX_corrected_rgb_mask_V1.tif`\n",
    "- Where \"int\"-RGB mask != 0 and label mask != 0, set RGB mask value to label mask value\n",
    "- Check remaining ROIs with values >= 5 and correct manually\n",
    "- Check events whose class has to be manually changes (check `separated_events_analysis.xlsx` and discuss with Miguel)\n",
    "\n",
    "New masks are saved (as \"int\"-RGB masks) in the directory `data/raw_data_and_processing_manual_corr_separated_events_masks` with name `XX_corrected_label_mask_V0.tif`."
   ]
  },
  {
   "cell_type": "code",
   "execution_count": 75,
   "id": "faf95da3-7922-4f23-a072-90cfac98209a",
   "metadata": {},
   "outputs": [],
   "source": [
    "rgb_labels_V1 = load_annotations_ids(\n",
    "    data_folder=corr_dir, ids=movie_ids, mask_names=\"corrected_rgb_mask_V1\"\n",
    ")"
   ]
  },
  {
   "cell_type": "code",
   "execution_count": 76,
   "id": "26f56e1d-4252-43d9-b892-41eb9ba2e0ee",
   "metadata": {},
   "outputs": [
    {
     "name": "stdout",
     "output_type": "stream",
     "text": [
      "white colour: 16646655\n"
     ]
    }
   ],
   "source": [
    "white_int = 255 * 255 * 255 + 255 * 255 + 255\n",
    "print(\"white colour:\", white_int)"
   ]
  },
  {
   "cell_type": "markdown",
   "id": "f8b8356a-609c-4e6f-9dff-dca7eb1bfc5e",
   "metadata": {
    "tags": []
   },
   "source": [
    "### Automatic step: set all ROIs that are already labelled to their class"
   ]
  },
  {
   "cell_type": "code",
   "execution_count": 77,
   "id": "33f23c78-3028-4c1e-81c3-e0fdd1f77632",
   "metadata": {
    "collapsed": true,
    "jupyter": {
     "outputs_hidden": true
    },
    "tags": []
   },
   "outputs": [
    {
     "name": "stdout",
     "output_type": "stream",
     "text": [
      "Movie 01\n",
      "Movie 02\n",
      "Movie 03\n",
      "Movie 04\n",
      "Movie 05\n",
      "Movie 06\n",
      "Movie 07\n",
      "Movie 08\n",
      "Movie 09\n",
      "Movie 10\n",
      "Movie 11\n",
      "Movie 12\n",
      "Movie 13\n",
      "Movie 14\n",
      "Movie 15\n",
      "Movie 16\n",
      "Movie 17\n",
      "Movie 18\n",
      "Movie 19\n",
      "Movie 20\n",
      "Movie 21\n",
      "Movie 22\n",
      "Movie 23\n",
      "Movie 24\n",
      "Movie 25\n",
      "Movie 27\n",
      "Movie 28\n",
      "Movie 29\n",
      "Movie 30\n",
      "Movie 32\n",
      "Movie 33\n",
      "Movie 34\n",
      "Movie 35\n",
      "Movie 36\n",
      "Movie 38\n",
      "Movie 39\n",
      "Movie 40\n",
      "Movie 41\n",
      "Movie 42\n",
      "Movie 43\n",
      "Movie 44\n",
      "Movie 45\n",
      "Movie 46\n"
     ]
    }
   ],
   "source": [
    "# create dict to store labelled RGB masks\n",
    "class_rgb_labels = {}\n",
    "\n",
    "for movie_id in movie_ids:\n",
    "    print(\"Movie\", movie_id)\n",
    "    int_rgb_label = rgb_labels_V1[movie_id]\n",
    "    class_label = class_labels[movie_id]\n",
    "\n",
    "    # assert that int_rgb_label does not contain values between 1 and 4\n",
    "    assert not any(elem in int_rgb_label for elem in [1, 2, 3, 4])\n",
    "\n",
    "    # set ROIs of int_rgb_label that are labelled to the corresponding value in class_label\n",
    "    class_rgb_labels[movie_id] = np.where(\n",
    "        np.logical_and(int_rgb_label != 0, class_label != 0), class_label, int_rgb_label\n",
    "    )\n",
    "\n",
    "    \"\"\"# compute number of connected components for each event\n",
    "    list_events = list(np.unique(int_rgb_label))\n",
    "    list_events.remove(0)\n",
    "    \n",
    "    # create dict entry to store events that are separated in more than one conn comp\n",
    "    separated_events[movie_id] = []\n",
    "    \n",
    "    for nb_event in list_events:\n",
    "        events, n_components = cc3d.connected_components((int_rgb_label == nb_event),\n",
    "                                                         connectivity=connectivity,\n",
    "                                                         return_N=True\n",
    "                                                        )\n",
    "        if n_components > 1:\n",
    "            print(f\"Event with colour {nb_event} contains {n_components} connected components\")\n",
    "            separated_events[movie_id].append([nb_event, n_components])\"\"\""
   ]
  },
  {
   "cell_type": "markdown",
   "id": "7bd4aa54-c8f0-4486-9f24-edc11a10c42c",
   "metadata": {},
   "source": [
    "### Correct classes manually in each movie"
   ]
  },
  {
   "cell_type": "code",
   "execution_count": 87,
   "id": "5555671d-acbe-4e79-b71c-3cb9de099282",
   "metadata": {},
   "outputs": [],
   "source": [
    "movie_id = \"32\"\n",
    "movie = movies[movie_id]\n",
    "int_rgb_label = rgb_labels_V1[movie_id]\n",
    "class_rgb_label = class_rgb_labels[movie_id]\n",
    "class_label = class_labels[movie_id]"
   ]
  },
  {
   "cell_type": "markdown",
   "id": "f000bd9e-62ad-4d1b-8e42-35b5d24e9c87",
   "metadata": {
    "tags": []
   },
   "source": [
    "#### !!! the changes here are made interactively on the Napari viewer !!!\n",
    "\n",
    "the array that gets modified is `class_rgb_labels[movie_id]`"
   ]
  },
  {
   "cell_type": "code",
   "execution_count": 93,
   "id": "26a8e657-2aa0-470d-8eef-0f0ed3cd0e47",
   "metadata": {},
   "outputs": [
    {
     "name": "stdout",
     "output_type": "stream",
     "text": [
      "Colours present in rgb labels: 1 3 4\n",
      "\n"
     ]
    }
   ],
   "source": [
    "class_rgb_label_colours = list(np.unique(class_rgb_label))\n",
    "class_rgb_label_colours.remove(0)\n",
    "\n",
    "print(\"Colours present in rgb labels:\", *class_rgb_label_colours)\n",
    "print()\n",
    "\n",
    "# get events that still need to be labelled and slices that contain them\n",
    "list_events = list(np.unique(class_rgb_label))\n",
    "for i in range(5):\n",
    "    if i in list_events:\n",
    "        list_events.remove(i)\n",
    "\n",
    "for nb_event in list_events:\n",
    "    print(\n",
    "        f\"Event with colour {nb_event} is still present in frames: {list(np.unique((np.where(class_rgb_label == nb_event)[0])))}\"\n",
    "    )"
   ]
  },
  {
   "cell_type": "code",
   "execution_count": 92,
   "id": "9294263e-083f-4c3a-90f7-36414c127a0a",
   "metadata": {},
   "outputs": [
    {
     "data": {
      "text/plain": [
       "<Labels layer 'class rgb labels' at 0x20ff03d5340>"
      ]
     },
     "execution_count": 92,
     "metadata": {},
     "output_type": "execute_result"
    }
   ],
   "source": [
    "# nb_event = 7757222\n",
    "\n",
    "# mask of the selected event\n",
    "# event_mask = class_rgb_label == nb_event\n",
    "# print(f\"frames containing event {nb_event}: {list(np.unique((np.where(event_mask)[0])))}\")\n",
    "\n",
    "viewer = napari.Viewer()\n",
    "viewer.add_image(movie, name=\"original_movie\")\n",
    "viewer.add_labels(int_rgb_label, name=\"int rgb labels\", opacity=0.5, visible=False)\n",
    "viewer.add_labels(class_label, name=\"class labels\", opacity=0.5, visible=False)\n",
    "# viewer.add_labels(event_mask, name='event mask', opacity=0.5, visible=False)\n",
    "viewer.add_labels(class_rgb_label, name=\"class rgb labels\", opacity=0.5, visible=True)"
   ]
  },
  {
   "cell_type": "code",
   "execution_count": 94,
   "id": "024f6160-6b69-4df4-9758-f34d7c7a76d6",
   "metadata": {},
   "outputs": [],
   "source": [
    "# save corrected rgb labels on disk\n",
    "imageio.volwrite(\n",
    "    os.path.join(corr_dir, movie_id + \"_corrected_label_mask_V0.tif\"), class_rgb_label\n",
    ")"
   ]
  },
  {
   "cell_type": "markdown",
   "id": "6331b693-3ba6-4356-ab5d-885a28c23b73",
   "metadata": {
    "tags": []
   },
   "source": [
    "#### Run this to automatically change some `nb_event` colours"
   ]
  },
  {
   "cell_type": "code",
   "execution_count": 90,
   "id": "b165858e-868d-4b2e-8921-681615303e85",
   "metadata": {},
   "outputs": [],
   "source": [
    "# change CC colours manually\n",
    "nb_event = 11612070\n",
    "new_colour = 3\n",
    "class_rgb_label = np.where(class_rgb_label == nb_event, new_colour, class_rgb_label)"
   ]
  },
  {
   "cell_type": "markdown",
   "id": "b22e70fc-1979-40d1-b8e4-6c7e65e2ac7f",
   "metadata": {
    "jp-MarkdownHeadingCollapsed": true,
    "tags": []
   },
   "source": [
    "## Check: each # event contains only 1 class label\n",
    "\n",
    "Check that each event correspond only to one type of event, otherwise split # event in two (manually).\n",
    "\n",
    "Changes are tracked in file `data/raw_data_and_processing_manual_corr_separated_events_masks/separated_events_analysis.xlsx`.\n",
    "\n",
    "In order to do this, for each movie:\n",
    "- load `events_mask = XX_corrected_rgb_mask_V1.tif`\n",
    "- load `classes_mask = XX_corrected_label_mask_V0.tif`\n",
    "- for each # event in `events_mask` check number of classes\n",
    "- if number of classes > 1, possible solutions:\n",
    "    - split event\n",
    "    - merge class labelling\n",
    "    - remove one of the class ROIs\n",
    "    - merge class ROIs to another event\n",
    "    - ...\n",
    "    \n",
    "New event labels are saved as `XX_corrected_rgb_mask_V2.tif` and new class labels are saved as `XX_corrected_label_mask_V1.tif`\n"
   ]
  },
  {
   "cell_type": "code",
   "execution_count": 8,
   "id": "1b6c9b9e-fbb1-41a1-855d-c816aed6d557",
   "metadata": {},
   "outputs": [],
   "source": [
    "rgb_labels_V1 = load_annotations_ids(\n",
    "    data_folder=corr_dir, ids=movie_ids, mask_names=\"corrected_rgb_mask_V1\"\n",
    ")\n",
    "class_labels_V0 = load_annotations_ids(\n",
    "    data_folder=corr_dir, ids=movie_ids, mask_names=\"corrected_label_mask_V0\"\n",
    ")"
   ]
  },
  {
   "cell_type": "code",
   "execution_count": 10,
   "id": "8ada47d4-377a-4d94-ae41-32edf59b1f31",
   "metadata": {
    "collapsed": true,
    "jupyter": {
     "outputs_hidden": true
    },
    "tags": []
   },
   "outputs": [
    {
     "name": "stdout",
     "output_type": "stream",
     "text": [
      "Movie 01\n",
      "Movie 02\n",
      "Movie 03\n",
      "Movie 04\n",
      "Movie 05\n",
      "Event 7 contains 2 classes: [1, 3]\n",
      "Event 2339872 contains 2 classes: [1, 3]\n",
      "Movie 06\n",
      "Movie 07\n",
      "Movie 08\n",
      "Movie 09\n",
      "Movie 10\n",
      "Movie 11\n",
      "Event 12995516 contains 2 classes: [3, 4]\n",
      "Movie 12\n",
      "Movie 13\n",
      "Movie 14\n",
      "Movie 15\n",
      "Movie 16\n",
      "Movie 17\n",
      "Movie 18\n",
      "Event 6952654 contains 2 classes: [1, 3]\n",
      "Event 12809738 contains 2 classes: [1, 3]\n",
      "Movie 19\n",
      "Event 7 contains 2 classes: [3, 4]\n",
      "Movie 20\n",
      "Event 1199049 contains 2 classes: [1, 3]\n",
      "Event 1300734 contains 2 classes: [1, 3]\n",
      "Event 5180168 contains 3 classes: [1, 3, 4]\n",
      "Event 16326961 contains 2 classes: [1, 3]\n",
      "Movie 21\n",
      "Event 12646857 contains 2 classes: [3, 4]\n",
      "Movie 22\n",
      "Event 6116268 contains 2 classes: [2, 3]\n",
      "Movie 23\n",
      "Event 8134414 contains 2 classes: [1, 3]\n",
      "Movie 24\n",
      "Event 336152 contains 2 classes: [1, 3]\n",
      "Movie 25\n",
      "Movie 27\n",
      "Movie 28\n",
      "Movie 29\n",
      "Event 9022347 contains 2 classes: [1, 3]\n",
      "Movie 30\n",
      "Event 11 contains 2 classes: [1, 3]\n",
      "Event 2673702 contains 2 classes: [2, 3]\n",
      "Event 10417792 contains 2 classes: [1, 3]\n",
      "Event 11718322 contains 2 classes: [1, 3]\n",
      "Event 12938685 contains 2 classes: [1, 4]\n",
      "Event 13106196 contains 2 classes: [1, 3]\n",
      "Movie 32\n",
      "Movie 33\n",
      "Movie 34\n",
      "Event 2283011 contains 2 classes: [3, 4]\n",
      "Movie 35\n",
      "Event 5728718 contains 2 classes: [1, 3]\n",
      "Movie 36\n",
      "Movie 38\n",
      "Event 15492642 contains 2 classes: [2, 4]\n",
      "Movie 39\n",
      "Movie 40\n",
      "Movie 41\n",
      "Movie 42\n",
      "Movie 43\n",
      "Movie 44\n",
      "Movie 45\n",
      "Movie 46\n",
      "Event 3117976 contains 2 classes: [2, 4]\n"
     ]
    }
   ],
   "source": [
    "for movie_id in movie_ids:\n",
    "    print(\"Movie\", movie_id)\n",
    "    events_mask = rgb_labels_V1[movie_id]\n",
    "    classes_mask = class_labels_V0[movie_id]\n",
    "\n",
    "    list_events = list(np.unique(events_mask))\n",
    "    list_events.remove(0)\n",
    "\n",
    "    for event_id in list_events:\n",
    "        count_classes_in_roi(events_mask, classes_mask, event_id)"
   ]
  },
  {
   "cell_type": "markdown",
   "id": "6c7bf368-65a3-4cfa-8012-5a7180630c46",
   "metadata": {},
   "source": [
    "### Correct events manually in each movie"
   ]
  },
  {
   "cell_type": "code",
   "execution_count": 209,
   "id": "372e13ac-fabd-4282-8050-ce06dc7e37d8",
   "metadata": {},
   "outputs": [],
   "source": [
    "movie_id = \"46\"\n",
    "movie = movies[movie_id]\n",
    "events_mask = rgb_labels_V1[movie_id]\n",
    "classes_mask = class_labels_V0[movie_id]"
   ]
  },
  {
   "cell_type": "code",
   "execution_count": 210,
   "id": "912f1177-3a0e-48e8-ae59-1f94013bfc58",
   "metadata": {},
   "outputs": [
    {
     "name": "stdout",
     "output_type": "stream",
     "text": [
      "Colours present in rgb labels: 5 6 7 871378 933260 978479 2225770 2952944 3117976 3893075 4888731 5669422 5777632 6040103 6240425 6622415 6773590 7617704 7695995 7726524 8469808 9615660 9831321 10323694 10340821 10857031 11307398 11309117 11577598 12656347 13871294 14430244 14446044 14800953 14816150 15021344 15468584 15550557 15965776\n"
     ]
    }
   ],
   "source": [
    "events_mask_colours = list(np.unique(events_mask))\n",
    "events_mask_colours.remove(0)\n",
    "\n",
    "print(\"Colours present in rgb labels:\", *events_mask_colours)"
   ]
  },
  {
   "cell_type": "markdown",
   "id": "5bbd2bcd-dc9a-41d6-be89-04bd695700f6",
   "metadata": {
    "tags": []
   },
   "source": [
    "#### !!! the changes here are made interactively on the Napari viewer !!!\n",
    "\n",
    "the array that gets modified is `events_mask = rgb_labels_V1[movie_id]` **OR** `classes_mask = class_labels_V0[movie_id]`"
   ]
  },
  {
   "cell_type": "code",
   "execution_count": 217,
   "id": "e092766c-6570-4dae-8f6e-70f9d3766871",
   "metadata": {},
   "outputs": [],
   "source": [
    "list_events = list(np.unique(events_mask))\n",
    "list_events.remove(0)\n",
    "\n",
    "for event_id in list_events:\n",
    "    event_class_mask = np.where(events_mask == event_id, classes_mask, 0)\n",
    "\n",
    "    # count number of classes\n",
    "    event_classes = list(np.unique(event_class_mask))\n",
    "    event_classes.remove(0)\n",
    "\n",
    "    n_classes = len(event_classes)\n",
    "\n",
    "    if n_classes > 1:\n",
    "        print(f\"Event {event_id} contains {n_classes} classes: {event_classes}\")"
   ]
  },
  {
   "cell_type": "code",
   "execution_count": 215,
   "id": "4929092e-43ac-42ac-aecd-22e8116b01df",
   "metadata": {},
   "outputs": [
    {
     "name": "stderr",
     "output_type": "stream",
     "text": [
      "WARNING: DirectWrite: CreateFontFaceFromHDC() failed (Indicates an error in an input file such as a font file.) for QFontDef(Family=\"\", pointsize=12, pixelsize=16, styleHint=5, weight=50, stretch=100, hintingPreference=0) LOGFONT(\"MS Sans Serif\", lfWidth=0, lfHeight=-16) dpi=96\n"
     ]
    },
    {
     "name": "stdout",
     "output_type": "stream",
     "text": [
      "frames containing event 3117976: [726, 727, 728, 729, 730, 731, 732, 733, 734, 735, 736, 737, 738, 739, 740, 741, 742, 743, 744, 745, 746, 747, 748, 749, 750, 751, 752, 753, 754, 755, 756, 757, 758, 759, 760, 761, 762, 763, 764, 765, 766, 767, 768, 769, 770, 771, 772, 773, 774, 775, 776, 777, 778, 779, 780, 781, 782, 783, 784, 785, 786, 787, 788, 789, 790, 791, 792, 793, 794, 795, 796, 797, 798, 799, 800, 801, 802, 803, 804, 805, 806, 807, 808, 809, 810, 811, 812, 813, 814, 815, 816, 817, 818, 819, 820, 821, 822, 823, 824, 825, 826, 827, 828, 829, 830, 831, 832, 833, 834, 835, 836, 837, 838, 839, 840, 841, 842, 843, 844, 845, 846, 847, 848, 849, 850, 851, 852, 853, 854, 855, 856, 857, 858, 859, 860, 861, 862, 863, 864, 865, 866, 867, 868, 869, 870, 871, 872, 873, 874, 875, 876, 877, 878, 879, 880, 881, 882, 883, 884, 885, 886, 887, 888, 889, 890, 891, 892, 893, 894, 895, 896, 897, 898, 899, 900, 901, 902, 903, 904, 905, 906, 907, 908, 909, 910, 911, 912, 913, 914, 915, 916, 917, 918, 919, 920, 921, 922, 923, 924, 925, 926, 927, 928, 929, 930, 931, 932, 933, 934, 935, 936, 937, 938, 939, 940, 941, 942, 943, 944, 945, 946, 947, 948, 949, 950, 951, 952, 953, 954, 955, 956, 957, 958, 959, 960, 961, 962, 963, 964, 965, 966, 967, 968, 969, 970, 971, 972, 973, 974, 975, 976, 977, 978, 979, 980, 981, 982, 983, 984, 985, 986, 987, 988, 989, 990, 991, 992, 993, 994, 995, 996, 997, 998, 999]\n"
     ]
    },
    {
     "data": {
      "text/plain": [
       "<Labels layer 'single event mask' at 0x29e02f2a400>"
      ]
     },
     "execution_count": 215,
     "metadata": {},
     "output_type": "execute_result"
    }
   ],
   "source": [
    "event_id = 3117976\n",
    "\n",
    "# mask of the selected event\n",
    "event_class_mask = np.where(events_mask == event_id, classes_mask, 0)\n",
    "print(\n",
    "    f\"frames containing event {event_id}: {list(np.unique((np.where(event_class_mask)[0])))}\"\n",
    ")\n",
    "\n",
    "viewer = napari.Viewer()\n",
    "viewer.add_image(movie, name=\"original_movie\")\n",
    "viewer.add_labels(events_mask, name=\"events labels\", opacity=0.5, visible=False)\n",
    "viewer.add_labels(classes_mask, name=\"new classes labels\", opacity=0.5, visible=False)\n",
    "viewer.add_labels(event_class_mask, name=\"single event mask\", opacity=0.5, visible=True)"
   ]
  },
  {
   "cell_type": "code",
   "execution_count": 216,
   "id": "16d98794-db97-464c-a5b0-2419c4475511",
   "metadata": {},
   "outputs": [
    {
     "data": {
      "text/plain": [
       "[]"
      ]
     },
     "execution_count": 216,
     "metadata": {},
     "output_type": "execute_result"
    }
   ],
   "source": [
    "event_type = 4\n",
    "list(np.unique(np.where(event_class_mask == event_type)[0]))"
   ]
  },
  {
   "cell_type": "code",
   "execution_count": 218,
   "id": "23a30a4f-d30e-4471-be9c-b92409efb611",
   "metadata": {},
   "outputs": [],
   "source": [
    "# save corrected rgb labels and class labels on disk\n",
    "imageio.volwrite(\n",
    "    os.path.join(corr_dir, movie_id + \"_corrected_rgb_mask_V2.tif\"), events_mask\n",
    ")\n",
    "imageio.volwrite(\n",
    "    os.path.join(corr_dir, movie_id + \"_corrected_label_mask_V1.tif\"), classes_mask\n",
    ")"
   ]
  },
  {
   "cell_type": "markdown",
   "id": "b3283bb0-63be-43a2-838c-f34e5256c6aa",
   "metadata": {},
   "source": [
    "#### Run this to automatically remove part of events (that have wrong label)\n",
    "I.e. if an event has two class labels and one of them should be removed from `classes_mask`, it is important to also remove the corresponging # event labels on `events_mask`."
   ]
  },
  {
   "cell_type": "code",
   "execution_count": 214,
   "id": "5ee05db7-0a6e-49e2-8822-291ed8ec94d0",
   "metadata": {},
   "outputs": [],
   "source": [
    "# remove class and event ROIs\n",
    "class_to_remove = 4\n",
    "mask_to_remove = event_class_mask == class_to_remove\n",
    "classes_mask = np.where(mask_to_remove, 0, classes_mask)\n",
    "events_mask = np.where(mask_to_remove, 0, events_mask)"
   ]
  },
  {
   "cell_type": "markdown",
   "id": "33829392-0a21-4193-abef-6703690232db",
   "metadata": {},
   "source": [
    "#### Run this if the ROIs already have the right class, but the # event is wrong"
   ]
  },
  {
   "cell_type": "code",
   "execution_count": 181,
   "id": "9a389426-f29c-432b-b3a8-f17aa633c254",
   "metadata": {},
   "outputs": [],
   "source": [
    "class_to_transfer = 3\n",
    "correct_event_id = 4611557\n",
    "\n",
    "events_mask = np.where(\n",
    "    event_class_mask == class_to_transfer, correct_event_id, events_mask\n",
    ")"
   ]
  },
  {
   "cell_type": "markdown",
   "id": "7d9a8883-e12c-4d14-8f13-809a868174c4",
   "metadata": {
    "tags": []
   },
   "source": [
    "## Check if RGB and class masks match"
   ]
  },
  {
   "cell_type": "code",
   "execution_count": 8,
   "id": "7b96afcd-065e-4b92-a0bb-b157e012b606",
   "metadata": {},
   "outputs": [],
   "source": [
    "rgb_labels_V2 = load_annotations_ids(\n",
    "    data_folder=corr_dir, ids=movie_ids, mask_names=\"corrected_rgb_mask_V2\"\n",
    ")\n",
    "class_labels_V1 = load_annotations_ids(\n",
    "    data_folder=corr_dir, ids=movie_ids, mask_names=\"corrected_label_mask_V1\"\n",
    ")"
   ]
  },
  {
   "cell_type": "code",
   "execution_count": 19,
   "id": "b8bd0eaf-abb1-4d6f-bd75-828003d9a826",
   "metadata": {},
   "outputs": [
    {
     "name": "stdout",
     "output_type": "stream",
     "text": [
      "RGB and class masks do not match in movie 07\n"
     ]
    }
   ],
   "source": [
    "for movie_id in movie_ids:\n",
    "    events_mask = rgb_labels_V2[movie_id]\n",
    "    classes_mask = class_labels_V1[movie_id]\n",
    "\n",
    "    # check that events_mask and classes_mask match\n",
    "    if not (events_mask.astype(bool) == classes_mask.astype(bool)).all():\n",
    "        print(f\"RGB and class masks do not match in movie {movie_id}\")"
   ]
  },
  {
   "cell_type": "code",
   "execution_count": 22,
   "id": "19828d65-2c53-4419-a430-8084038f6e5b",
   "metadata": {},
   "outputs": [
    {
     "name": "stderr",
     "output_type": "stream",
     "text": [
      "WARNING: DirectWrite: CreateFontFaceFromHDC() failed (Indicates an error in an input file such as a font file.) for QFontDef(Family=\"\", pointsize=12, pixelsize=16, styleHint=5, weight=50, stretch=100, hintingPreference=0) LOGFONT(\"MS Sans Serif\", lfWidth=0, lfHeight=-16) dpi=96\n"
     ]
    },
    {
     "name": "stdout",
     "output_type": "stream",
     "text": [
      "[]\n"
     ]
    },
    {
     "data": {
      "text/plain": [
       "<Labels layer 'wrong labels' at 0x1eb003a63d0>"
      ]
     },
     "execution_count": 22,
     "metadata": {},
     "output_type": "execute_result"
    }
   ],
   "source": [
    "movie_id = \"07\"\n",
    "\n",
    "events_mask = rgb_labels_V2[movie_id]\n",
    "classes_mask = class_labels_V1[movie_id]\n",
    "\n",
    "wrong_mask = np.where((events_mask.astype(bool) == classes_mask.astype(bool)), 0, 1)\n",
    "print(np.unique(np.where(wrong_mask)[0]))\n",
    "\n",
    "viewer = napari.Viewer()\n",
    "viewer.add_image(movies[movie_id], name=\"original_movie\")\n",
    "viewer.add_labels(events_mask, name=\"events labels\", opacity=0.5, visible=False)\n",
    "viewer.add_labels(classes_mask, name=\"classes labels\", opacity=0.5, visible=False)\n",
    "viewer.add_labels(wrong_mask, name=\"wrong labels\", opacity=0.5, visible=True)"
   ]
  },
  {
   "cell_type": "code",
   "execution_count": 23,
   "id": "52019f8d-9c33-456c-92d1-f16a4898b620",
   "metadata": {},
   "outputs": [],
   "source": [
    "# save corrected rgb labels and class labels on disk\n",
    "imageio.volwrite(\n",
    "    os.path.join(corr_dir, movie_id + \"_corrected_rgb_mask_V2.tif\"), events_mask\n",
    ")\n",
    "imageio.volwrite(\n",
    "    os.path.join(corr_dir, movie_id + \"_corrected_label_mask_V1.tif\"), classes_mask\n",
    ")"
   ]
  },
  {
   "cell_type": "markdown",
   "id": "3047aee8-ec75-4041-9981-2b90cba88d10",
   "metadata": {
    "tags": []
   },
   "source": [
    "## Check whether events touch each other\n",
    "Check if each CC in the rbg mask contains at most one # event.\n",
    "\n",
    "In order to do this, for each movie:\n",
    "- load `events_mask = XX_corrected_rgb_mask_V2.tif`\n",
    "- load `classes_mask = XX_corrected_label_mask_V1.tif`\n",
    "- compute CCs in `events_mask` and compute number of events in each of them\n",
    "- if # events > 1 in a CC, possible solutions:\n",
    "    - check if it is okay\n",
    "    - or separate events manually\n",
    "    \n",
    "New event labels are saved as `XX_corrected_rgb_mask_V3.tif` and new class labels are saved as `XX_corrected_label_mask_V2.tif`\n",
    "\n",
    "Changes are tracked in file `data/raw_data_and_processing_manual_corr_separated_events_masks/separated_events_analysis.xlsx`."
   ]
  },
  {
   "cell_type": "code",
   "execution_count": 24,
   "id": "de1f2241-7d35-4b65-9bd3-e3c7d06dbd7e",
   "metadata": {},
   "outputs": [],
   "source": [
    "rgb_labels_V2 = load_annotations_ids(\n",
    "    data_folder=corr_dir, ids=movie_ids, mask_names=\"corrected_rgb_mask_V2\"\n",
    ")\n",
    "class_labels_V1 = load_annotations_ids(\n",
    "    data_folder=corr_dir, ids=movie_ids, mask_names=\"corrected_label_mask_V1\"\n",
    ")"
   ]
  },
  {
   "cell_type": "code",
   "execution_count": 38,
   "id": "69b51926-5aa5-4c3c-8475-124be1f02fb2",
   "metadata": {
    "tags": []
   },
   "outputs": [
    {
     "name": "stdout",
     "output_type": "stream",
     "text": [
      "Movie 01\n",
      "Events [5047384, 11014150] belong to the same connected component.\n",
      "Events [2177621, 4641927, 13703862, 14663886] belong to the same connected component.\n",
      "Movie 02\n",
      "Events [6, 4192011, 7529393, 10252693] belong to the same connected component.\n",
      "Movie 03\n",
      "Events [102422, 5831824, 6204449] belong to the same connected component.\n",
      "Movie 04\n",
      "Movie 05\n",
      "Events [10, 2339872] belong to the same connected component.\n",
      "Events [882547, 896217] belong to the same connected component.\n",
      "Events [463234, 10537788] belong to the same connected component.\n",
      "Events [7, 11357165] belong to the same connected component.\n",
      "Events [5268606, 6415686] belong to the same connected component.\n",
      "Movie 06\n",
      "Events [8071199, 8843435] belong to the same connected component.\n",
      "Events [2199665, 14807770] belong to the same connected component.\n",
      "Movie 07\n",
      "Events [2945582, 16370811] belong to the same connected component.\n",
      "Events [3573375, 5525351, 12982121] belong to the same connected component.\n",
      "Movie 08\n",
      "Movie 09\n",
      "Movie 10\n",
      "Events [2895768, 9971401] belong to the same connected component.\n",
      "Movie 11\n",
      "Events [7547622, 16376841] belong to the same connected component.\n",
      "Events [161952, 4429331, 8906090, 12995516] belong to the same connected component.\n",
      "Movie 12\n",
      "Events [4649149, 10801315] belong to the same connected component.\n",
      "Events [4067788, 12935343] belong to the same connected component.\n",
      "Events [3509244, 10345172, 12030840] belong to the same connected component.\n",
      "Events [6969374, 11338811, 14695432] belong to the same connected component.\n",
      "Events [6195541, 6436737, 12894474, 14140142] belong to the same connected component.\n",
      "Events [1848793, 4959345, 13892301] belong to the same connected component.\n",
      "Events [2573998, 6867562] belong to the same connected component.\n",
      "Events [2598375, 13753732, 16464567] belong to the same connected component.\n",
      "Movie 13\n",
      "Movie 14\n",
      "Events [3597025, 7535723] belong to the same connected component.\n",
      "Movie 15\n",
      "Events [9095529, 11715487] belong to the same connected component.\n",
      "Events [1293572, 6992921, 7571306, 7845975] belong to the same connected component.\n",
      "Events [5950787, 10551495, 11324962, 12824376, 14048865] belong to the same connected component.\n",
      "Movie 16\n",
      "Movie 17\n",
      "Events [172955, 1695632, 2855748, 5551456, 10238791, 15157789] belong to the same connected component.\n",
      "Movie 18\n",
      "Events [6952654, 9599731] belong to the same connected component.\n",
      "Movie 19\n",
      "Events [6, 5358012] belong to the same connected component.\n",
      "Events [7, 694310] belong to the same connected component.\n",
      "Events [5949114, 6344796, 15679367] belong to the same connected component.\n",
      "Events [12, 12506646] belong to the same connected component.\n",
      "Movie 20\n",
      "Events [5, 16326961] belong to the same connected component.\n",
      "Events [1199049, 5180168, 8828824] belong to the same connected component.\n",
      "Events [6176631, 14470335] belong to the same connected component.\n",
      "Events [1300734, 13476986] belong to the same connected component.\n",
      "Events [6, 1045750, 3299449, 11898130] belong to the same connected component.\n",
      "Events [12, 8698570] belong to the same connected component.\n",
      "Events [14, 9494433] belong to the same connected component.\n",
      "Movie 21\n",
      "Events [1711947, 3857892, 4234712, 4236824, 6676519, 11508254, 12646857, 14105359, 14335386] belong to the same connected component.\n",
      "Movie 22\n",
      "Events [5433002, 6116268, 9462555, 11273259] belong to the same connected component.\n",
      "Events [4656529, 5154016] belong to the same connected component.\n",
      "Movie 23\n",
      "Events [4404668, 5120779] belong to the same connected component.\n",
      "Events [7, 11, 2232330, 15022007, 15559480, 15699577] belong to the same connected component.\n",
      "Events [8, 1559150, 15027298] belong to the same connected component.\n",
      "Events [8134414, 11210703, 14996837] belong to the same connected component.\n",
      "Events [9975141, 10900113] belong to the same connected component.\n",
      "Events [110353, 2216398] belong to the same connected component.\n",
      "Events [2285117, 8856865, 16122425] belong to the same connected component.\n",
      "Events [10998882, 11643191] belong to the same connected component.\n",
      "Movie 24\n",
      "Events [6732689, 7056378] belong to the same connected component.\n",
      "Events [336152, 5598047] belong to the same connected component.\n",
      "Movie 25\n",
      "Movie 27\n",
      "Events [10634, 2261319] belong to the same connected component.\n",
      "Events [1025604, 13037408] belong to the same connected component.\n",
      "Events [1156965, 6757742] belong to the same connected component.\n",
      "Movie 28\n",
      "Events [32, 40] belong to the same connected component.\n",
      "Movie 29\n",
      "Events [5, 9022347] belong to the same connected component.\n",
      "Movie 30\n",
      "Events [4611315, 11096064] belong to the same connected component.\n",
      "Events [11, 10417792, 13106196] belong to the same connected component.\n",
      "Events [4964527, 11950809] belong to the same connected component.\n",
      "Events [1943438, 2694502] belong to the same connected component.\n",
      "Events [2673702, 11718322] belong to the same connected component.\n",
      "Events [10718334, 13478063] belong to the same connected component.\n",
      "Events [2754602, 13480865, 15225077] belong to the same connected component.\n",
      "Events [12496421, 13956325] belong to the same connected component.\n",
      "Movie 32\n",
      "Movie 33\n",
      "Movie 34\n",
      "Events [9, 2283011, 11054862] belong to the same connected component.\n",
      "Events [10282145, 14848626] belong to the same connected component.\n",
      "Events [6, 12282243, 15826204] belong to the same connected component.\n",
      "Events [5, 13710565] belong to the same connected component.\n",
      "Events [7, 12271355] belong to the same connected component.\n",
      "Movie 35\n",
      "Events [1246149, 16416643] belong to the same connected component.\n",
      "Events [5, 295664] belong to the same connected component.\n",
      "Events [4611557, 5728718, 10287463] belong to the same connected component.\n",
      "Events [6398526, 8106706] belong to the same connected component.\n",
      "Movie 36\n",
      "Events [7873298, 14629880] belong to the same connected component.\n",
      "Movie 38\n",
      "Events [331456, 6513003, 16316038] belong to the same connected component.\n",
      "Events [368731, 11432850] belong to the same connected component.\n",
      "Events [22594, 2383659] belong to the same connected component.\n",
      "Events [3426807, 5956160, 10551574, 15797668] belong to the same connected component.\n",
      "Movie 39\n",
      "Movie 40\n",
      "Events [12844890, 16191110] belong to the same connected component.\n",
      "Movie 41\n",
      "Movie 42\n",
      "Movie 43\n",
      "Events [1577705, 7156508, 10616985, 11004997] belong to the same connected component.\n",
      "Movie 44\n",
      "Events [16581375, 16632375] belong to the same connected component.\n",
      "Movie 45\n",
      "Movie 46\n",
      "Events [4888731, 14816150] belong to the same connected component.\n",
      "Events [3117976, 5777632, 7726524, 11309117] belong to the same connected component.\n"
     ]
    }
   ],
   "source": [
    "connectivity = 26\n",
    "\n",
    "ccs_list = {}\n",
    "for movie_id in movie_ids:\n",
    "    ccs_list[movie_id] = []\n",
    "    print(\"Movie\", movie_id)\n",
    "    events_mask = rgb_labels_V2[movie_id]\n",
    "    classes_mask = class_labels_V1[movie_id]\n",
    "\n",
    "    # check that events_mask and classes_mask match\n",
    "    assert (events_mask.astype(bool) == classes_mask.astype(bool)).all()\n",
    "\n",
    "    # extract connected components in event masks\n",
    "    ccs, n_ccs = cc3d.connected_components(\n",
    "        events_mask.astype(bool), connectivity=connectivity, return_N=True\n",
    "    )\n",
    "\n",
    "    for cc_id, cc in cc3d.each(ccs, binary=True, in_place=True):\n",
    "        # for each CC, count number of events in it\n",
    "        events = np.where(cc, events_mask, 0)\n",
    "        list_events = list(np.unique(events))\n",
    "        list_events.remove(0)\n",
    "\n",
    "        if len(list_events) > 1:\n",
    "            ccs_list[movie_id].append(list_events)\n",
    "            print(f\"Events {list_events} belong to the same connected component.\")"
   ]
  },
  {
   "cell_type": "markdown",
   "id": "27a39d94-2310-4553-91cb-28a8ccebd889",
   "metadata": {
    "tags": []
   },
   "source": [
    "### Correct events manually in each movie"
   ]
  },
  {
   "cell_type": "code",
   "execution_count": 346,
   "id": "81f4fc6a-817a-450c-849d-3ed55fbc77a8",
   "metadata": {},
   "outputs": [],
   "source": [
    "movie_id = \"14\"\n",
    "movie = movies[movie_id]\n",
    "events_mask = rgb_labels_V2[movie_id]\n",
    "classes_mask = class_labels_V1[movie_id]"
   ]
  },
  {
   "cell_type": "markdown",
   "id": "b7befc05-fb1e-4eb4-a5af-d5788608fcb4",
   "metadata": {
    "tags": []
   },
   "source": [
    "#### !!! the changes here are made interactively on the Napari viewer !!!\n",
    "\n",
    "the array that gets modified is `events_mask = rgb_labels_V2[movie_id]` **AND** `classes_mask = class_labels_V1[movie_id]`"
   ]
  },
  {
   "cell_type": "code",
   "execution_count": 7,
   "id": "161bd2e6-c1e2-4b84-aa4b-9990db666072",
   "metadata": {
    "collapsed": true,
    "jupyter": {
     "outputs_hidden": true
    },
    "tags": []
   },
   "outputs": [
    {
     "ename": "NameError",
     "evalue": "name 'ccs_list' is not defined",
     "output_type": "error",
     "traceback": [
      "\u001b[1;31m---------------------------------------------------------------------------\u001b[0m",
      "\u001b[1;31mNameError\u001b[0m                                 Traceback (most recent call last)",
      "\u001b[1;32m~\\AppData\\Local\\Temp/ipykernel_18516/24906467.py\u001b[0m in \u001b[0;36m<module>\u001b[1;34m\u001b[0m\n\u001b[0;32m      1\u001b[0m \u001b[1;31m# compute events that are in same CC\u001b[0m\u001b[1;33m\u001b[0m\u001b[1;33m\u001b[0m\u001b[1;33m\u001b[0m\u001b[0m\n\u001b[1;32m----> 2\u001b[1;33m \u001b[0mccs_to_check\u001b[0m \u001b[1;33m=\u001b[0m \u001b[0mccs_list\u001b[0m\u001b[1;33m[\u001b[0m\u001b[0mmovie_id\u001b[0m\u001b[1;33m]\u001b[0m\u001b[1;33m\u001b[0m\u001b[1;33m\u001b[0m\u001b[0m\n\u001b[0m\u001b[0;32m      3\u001b[0m \u001b[1;32mfor\u001b[0m \u001b[0mcc\u001b[0m \u001b[1;32min\u001b[0m \u001b[0mccs_to_check\u001b[0m\u001b[1;33m:\u001b[0m\u001b[1;33m\u001b[0m\u001b[1;33m\u001b[0m\u001b[0m\n\u001b[0;32m      4\u001b[0m     \u001b[0mprint\u001b[0m\u001b[1;33m(\u001b[0m\u001b[0mcc\u001b[0m\u001b[1;33m)\u001b[0m\u001b[1;33m\u001b[0m\u001b[1;33m\u001b[0m\u001b[0m\n",
      "\u001b[1;31mNameError\u001b[0m: name 'ccs_list' is not defined"
     ]
    }
   ],
   "source": [
    "# compute events that are in same CC\n",
    "ccs_to_check = ccs_list[movie_id]\n",
    "for cc in ccs_to_check:\n",
    "    print(cc)"
   ]
  },
  {
   "cell_type": "code",
   "execution_count": 341,
   "id": "e5bda7c9-31be-409f-9ec7-88f45991f13b",
   "metadata": {},
   "outputs": [
    {
     "name": "stderr",
     "output_type": "stream",
     "text": [
      "WARNING: DirectWrite: CreateFontFaceFromHDC() failed (Indicates an error in an input file such as a font file.) for QFontDef(Family=\"\", pointsize=12, pixelsize=16, styleHint=5, weight=50, stretch=100, hintingPreference=0) LOGFONT(\"MS Sans Serif\", lfWidth=0, lfHeight=-16) dpi=96\n"
     ]
    },
    {
     "name": "stdout",
     "output_type": "stream",
     "text": [
      "frames containing events [3117976, 5777632, 7726524, 11309117]: [726, 727, 728, 729, 730, 731, 732, 733, 734, 735, 736, 737, 738, 739, 740, 741, 742, 743, 744, 745, 746, 747, 748, 749, 750, 751, 752, 753, 754, 755, 756, 757, 758, 759, 760, 761, 762, 763, 764, 765, 766, 767, 768, 769, 770, 771, 772, 773, 774, 775, 776, 777, 778, 779, 780, 781, 782, 783, 784, 785, 786, 787, 788, 789, 790, 791, 792, 793, 794, 795, 796, 797, 798, 799, 800, 801, 802, 803, 804, 805, 806, 807, 808, 809, 810, 811, 812, 813, 814, 815, 816, 817, 818, 819, 820, 821, 822, 823, 824, 825, 826, 827, 828, 829, 830, 831, 832, 833, 834, 835, 836, 837, 838, 839, 840, 841, 842, 843, 844, 845, 846, 847, 848, 849, 850, 851, 852, 853, 854, 855, 856, 857, 858, 859, 860, 861, 862, 863, 864, 865, 866, 867, 868, 869, 870, 871, 872, 873, 874, 875, 876, 877, 878, 879, 880, 881, 882, 883, 884, 885, 886, 887, 888, 889, 890, 891, 892, 893, 894, 895, 896, 897, 898, 899, 900, 901, 902, 903, 904, 905, 906, 907, 908, 909, 910, 911, 912, 913, 914, 915, 916, 917, 918, 919, 920, 921, 922, 923, 924, 925, 926, 927, 928, 929, 930, 931, 932, 933, 934, 935, 936, 937, 938, 939, 940, 941, 942, 943, 944, 945, 946, 947, 948, 949, 950, 951, 952, 953, 954, 955, 956, 957, 958, 959, 960, 961, 962, 963, 964, 965, 966, 967, 968, 969, 970, 971, 972, 973, 974, 975, 976, 977, 978, 979, 980, 981, 982, 983, 984, 985, 986, 987, 988, 989, 990, 991, 992, 993, 994, 995, 996, 997, 998, 999]\n"
     ]
    },
    {
     "data": {
      "text/plain": [
       "<Labels layer 'touching events' at 0x1efe874eaf0>"
      ]
     },
     "execution_count": 341,
     "metadata": {},
     "output_type": "execute_result"
    }
   ],
   "source": [
    "cc = [3117976, 5777632, 7726524, 11309117]\n",
    "\n",
    "to_check_mask = np.zeros_like(events_mask)\n",
    "for nb_event in cc:\n",
    "    to_check_mask += np.where(events_mask == nb_event, events_mask, 0)\n",
    "\n",
    "print(f\"frames containing events {cc}: {list(np.unique((np.where(to_check_mask)[0])))}\")\n",
    "\n",
    "viewer = napari.Viewer()\n",
    "viewer.add_image(movie, name=\"original_movie\")\n",
    "viewer.add_labels(events_mask, name=\"events labels\", opacity=0.5, visible=False)\n",
    "viewer.add_labels(classes_mask, name=\"new classes labels\", opacity=0.5, visible=False)\n",
    "viewer.add_labels(to_check_mask, name=\"touching events\", opacity=0.5, visible=True)"
   ]
  },
  {
   "cell_type": "code",
   "execution_count": 330,
   "id": "0ae9c6d3-8351-4900-8422-28364cf6a3a7",
   "metadata": {},
   "outputs": [
    {
     "data": {
      "text/plain": [
       "array([110, 111, 112, 113], dtype=int64)"
      ]
     },
     "execution_count": 330,
     "metadata": {},
     "output_type": "execute_result"
    }
   ],
   "source": [
    "event_id = 14816150\n",
    "np.unique(np.where(events_mask == event_id)[0])"
   ]
  },
  {
   "cell_type": "code",
   "execution_count": 348,
   "id": "abaf1c04-a363-4658-af3e-8d830e5cc640",
   "metadata": {},
   "outputs": [],
   "source": [
    "# save corrected rgb labels and class labels on disk\n",
    "imageio.volwrite(\n",
    "    os.path.join(corr_dir, movie_id + \"_corrected_rgb_mask_V3.tif\"), events_mask\n",
    ")\n",
    "imageio.volwrite(\n",
    "    os.path.join(corr_dir, movie_id + \"_corrected_label_mask_V2.tif\"), classes_mask\n",
    ")"
   ]
  },
  {
   "cell_type": "markdown",
   "id": "61819759-f06c-4476-b6f5-b2d970ff1984",
   "metadata": {},
   "source": [
    "#### Run this to transfer some ROIs from a # event to another # event"
   ]
  },
  {
   "cell_type": "code",
   "execution_count": 337,
   "id": "975474a5-929a-4196-bfd7-56ce90648462",
   "metadata": {},
   "outputs": [],
   "source": [
    "old_n_event = 11309117\n",
    "new_n_event = 3117976\n",
    "\n",
    "events_mask = np.where(events_mask == old_n_event, new_n_event, events_mask)"
   ]
  },
  {
   "cell_type": "markdown",
   "id": "af8730ab-8233-4ee7-82d1-5bc67c5827f7",
   "metadata": {
    "tags": []
   },
   "source": [
    "#### Run this to change class of a # event"
   ]
  },
  {
   "cell_type": "code",
   "execution_count": 340,
   "id": "dd5f7d6f-1e39-4b4f-b900-b8370f03160d",
   "metadata": {},
   "outputs": [],
   "source": [
    "n_event = 3117976\n",
    "new_class = 2\n",
    "\n",
    "classes_mask = np.where(events_mask == n_event, new_class, classes_mask)"
   ]
  },
  {
   "cell_type": "markdown",
   "id": "c7375d25-b4c3-4f0e-8573-6d1d3d95bf1e",
   "metadata": {
    "tags": []
   },
   "source": [
    "## Change class of events denoted in file excel and discussed with Miguel\n",
    "\n",
    "First time I load **XX_corrected_rgb_mask_V3.tif** and **XX_corrected_label_mask_V2.tif** and save them as **XX_corrected_rgb_mask_V4.tif** and **XX_corrected_label_mask_V3.tif**. These will be the final versions of the files.\n",
    "\n",
    "TODO:\n",
    "- check remarks done in `data/raw_data_and_processing_manual_corr_separated_events_masks/separated_events_analysis.xlsx`\n",
    "- discuss with Miguel\n",
    "- correct events\n",
    "- train UNet"
   ]
  },
  {
   "cell_type": "code",
   "execution_count": 10,
   "id": "86a3a87e-6f09-45ef-953c-1f1654fa718e",
   "metadata": {},
   "outputs": [],
   "source": [
    "# only for first run\n",
    "# rgb_labels = load_annotations_ids(data_folder=corr_dir, ids=movie_ids, mask_names=\"corrected_rgb_mask_V3\")\n",
    "# class_labels = load_annotations_ids(data_folder=corr_dir, ids=movie_ids, mask_names=\"corrected_label_mask_V2\")\n",
    "\n",
    "rgb_labels = load_annotations_ids(\n",
    "    data_folder=corr_dir, ids=movie_ids, mask_names=\"corrected_rgb_mask_V4\"\n",
    ")\n",
    "class_labels = load_annotations_ids(\n",
    "    data_folder=corr_dir, ids=movie_ids, mask_names=\"corrected_label_mask_V3\"\n",
    ")"
   ]
  },
  {
   "cell_type": "code",
   "execution_count": 11,
   "id": "97dcf159-4b2c-4a61-ae82-9300b359d871",
   "metadata": {},
   "outputs": [],
   "source": [
    "for movie_id in movie_ids:\n",
    "    events_mask = rgb_labels[movie_id]\n",
    "    classes_mask = class_labels[movie_id]\n",
    "\n",
    "    # check that events_mask and classes_mask match\n",
    "    if not (events_mask.astype(bool) == classes_mask.astype(bool)).all():\n",
    "        print(f\"RGB and class masks do not match in movie {movie_id}\")\n",
    "        print(np.where(events_mask.astype(bool) != classes_mask.astype(bool)))"
   ]
  },
  {
   "cell_type": "markdown",
   "id": "fc737fbf-a3a2-49c8-8ebe-3414ddb0f81f",
   "metadata": {
    "tags": []
   },
   "source": [
    "### Correct events manually in each movie"
   ]
  },
  {
   "cell_type": "code",
   "execution_count": 105,
   "id": "beba61cf-234a-40f2-9566-832879b18660",
   "metadata": {},
   "outputs": [],
   "source": [
    "movie_id = \"36\"\n",
    "movie = movies[movie_id]\n",
    "smooth_movie = smooth_movies[movie_id]\n",
    "events_mask = rgb_labels[movie_id]\n",
    "classes_mask = class_labels[movie_id]"
   ]
  },
  {
   "cell_type": "markdown",
   "id": "6398abd9-1bfc-486c-9b30-f3f67f8a69bc",
   "metadata": {
    "tags": []
   },
   "source": [
    "#### Compute stronger smoothing on movie"
   ]
  },
  {
   "cell_type": "code",
   "execution_count": 111,
   "id": "c375eb7a-1d73-47d0-995d-3d5d6f59502a",
   "metadata": {},
   "outputs": [],
   "source": [
    "very_smooth_movie = moving_average(smooth_movie, k=5)"
   ]
  },
  {
   "cell_type": "code",
   "execution_count": 115,
   "id": "35d59805-a901-4409-add1-5207d7e2cd60",
   "metadata": {},
   "outputs": [
    {
     "name": "stderr",
     "output_type": "stream",
     "text": [
      "WARNING: DirectWrite: CreateFontFaceFromHDC() failed (Indicates an error in an input file such as a font file.) for QFontDef(Family=\"\", pointsize=12, pixelsize=16, styleHint=5, weight=50, stretch=100, hintingPreference=0) LOGFONT(\"MS Sans Serif\", lfWidth=0, lfHeight=-16) dpi=96\n"
     ]
    },
    {
     "name": "stdout",
     "output_type": "stream",
     "text": [
      "frames containing events [12753098]: [708, 709, 710, 711, 712, 713, 714, 715, 716, 717, 718, 719, 720, 721, 722, 723, 724]\n"
     ]
    },
    {
     "data": {
      "text/plain": [
       "<Labels layer 'events to check' at 0x2415ce9a0d0>"
      ]
     },
     "execution_count": 115,
     "metadata": {},
     "output_type": "execute_result"
    }
   ],
   "source": [
    "cc = [12753098]\n",
    "\n",
    "to_check_mask = np.zeros_like(events_mask)\n",
    "for nb_event in cc:\n",
    "    to_check_mask += np.where(events_mask == nb_event, events_mask, 0)\n",
    "\n",
    "print(f\"frames containing events {cc}: {list(np.unique((np.where(to_check_mask)[0])))}\")\n",
    "\n",
    "viewer = napari.Viewer()\n",
    "viewer.add_image(  # smooth_movie,\n",
    "    very_smooth_movie, name=\"smooth movie\", colormap=(\"colors\", cmap)\n",
    ")\n",
    "\n",
    "# viewer.add_image(movie,\n",
    "#                 name='original_movie')\n",
    "\n",
    "viewer.add_labels(events_mask, name=\"events labels\", opacity=0.5, visible=False)\n",
    "\n",
    "viewer.add_labels(classes_mask, name=\"classes labels\", opacity=0.5, visible=False)\n",
    "\n",
    "viewer.add_labels(to_check_mask, name=\"events to check\", opacity=0.5, visible=True)"
   ]
  },
  {
   "cell_type": "code",
   "execution_count": 16,
   "id": "2cc13948-adcf-4df6-bf5a-06d2237e22ea",
   "metadata": {
    "tags": []
   },
   "outputs": [
    {
     "data": {
      "text/plain": [
       "array([], dtype=int64)"
      ]
     },
     "execution_count": 16,
     "metadata": {},
     "output_type": "execute_result"
    }
   ],
   "source": [
    "# search fon an event\n",
    "event_id = 8106706\n",
    "np.unique(np.where(events_mask == event_id)[0])"
   ]
  },
  {
   "cell_type": "code",
   "execution_count": 98,
   "id": "7103c4a4-8adb-49e8-adb1-1d6060cb0c6f",
   "metadata": {
    "tags": []
   },
   "outputs": [
    {
     "name": "stdout",
     "output_type": "stream",
     "text": [
      "[5, 6, 223058, 295664, 329779, 448200, 688987, 1246149, 2109825, 2352444, 2495642, 2889855, 2924334, 2964884, 3657769, 4611557, 4971212, 5066441, 5439214, 5728718, 6360106, 6398526, 6502712, 6625189, 7028853, 7244004, 7248105, 8245031, 8249378, 8508743, 8794858, 9023255, 9323422, 9967906, 9969732, 10065488, 10287463, 10899810, 11051320, 11067066, 11090715, 11106725, 11160070, 11584814, 12114165, 13089761, 13356009, 13395119, 13466553, 13578846, 13712710, 14254612, 14534109, 14555138, 14651920, 14973194, 15267821, 15345751, 15384501, 15574667, 16090447, 16416643]\n"
     ]
    }
   ],
   "source": [
    "# get list of events\n",
    "list_events = list(np.unique(events_mask))\n",
    "list_events.remove(0)\n",
    "print(list_events)"
   ]
  },
  {
   "cell_type": "code",
   "execution_count": 104,
   "id": "b3c23238-5edf-4661-9018-9002d9c54411",
   "metadata": {},
   "outputs": [],
   "source": [
    "# save corrected rgb labels and class labels on disk\n",
    "imageio.volwrite(\n",
    "    os.path.join(corr_dir, movie_id + \"_corrected_rgb_mask_V4.tif\"), events_mask\n",
    ")\n",
    "imageio.volwrite(\n",
    "    os.path.join(corr_dir, movie_id + \"_corrected_label_mask_V3.tif\"), classes_mask\n",
    ")"
   ]
  },
  {
   "cell_type": "markdown",
   "id": "b7d58b84-d1b3-4220-80f5-08f9bb1764d5",
   "metadata": {
    "tags": []
   },
   "source": [
    "#### Run this to change class of a # event"
   ]
  },
  {
   "cell_type": "code",
   "execution_count": 113,
   "id": "e08fb17b-e491-48a7-9074-47ec5574dfb3",
   "metadata": {},
   "outputs": [],
   "source": [
    "n_event = 0\n",
    "new_class = 0\n",
    "\n",
    "classes_mask = np.where(events_mask == n_event, new_class, classes_mask)"
   ]
  },
  {
   "cell_type": "markdown",
   "id": "2f7b00c3-f240-46ae-8327-cffee0774fdc",
   "metadata": {},
   "source": [
    "#### Load previous version of a mask of current movie"
   ]
  },
  {
   "cell_type": "code",
   "execution_count": 89,
   "id": "5380fc02-7dac-41bf-b733-482b399d2611",
   "metadata": {},
   "outputs": [],
   "source": [
    "v = \"V2\"  # mask version\n",
    "old_rgb_mask = load_annotations_ids(\n",
    "    data_folder=corr_dir, ids=[movie_id], mask_names=\"corrected_rgb_mask_\" + v\n",
    ")[movie_id]"
   ]
  },
  {
   "cell_type": "code",
   "execution_count": 93,
   "id": "c97f8d70-115f-426f-8a5e-6afd85de7110",
   "metadata": {},
   "outputs": [
    {
     "data": {
      "text/plain": [
       "array([1388, 1389, 1390, 1391, 1392, 1393], dtype=int64)"
      ]
     },
     "execution_count": 93,
     "metadata": {},
     "output_type": "execute_result"
    }
   ],
   "source": [
    "# search for an event\n",
    "find_event_id = 6344796\n",
    "np.unique(np.where(old_rgb_mask == find_event_id)[0])"
   ]
  },
  {
   "cell_type": "code",
   "execution_count": 94,
   "id": "5e8f3561-20e1-4d08-8a41-22c67a7f667e",
   "metadata": {},
   "outputs": [],
   "source": [
    "# recreate previously deleted event\n",
    "del_event_id = 6344796\n",
    "events_mask = np.where(old_rgb_mask == del_event_id, del_event_id, events_mask)"
   ]
  },
  {
   "cell_type": "markdown",
   "id": "0c3b7912-1561-4f0b-afd0-ab01f2c1a445",
   "metadata": {},
   "source": [
    "#### Re-save all movies for safety"
   ]
  },
  {
   "cell_type": "code",
   "execution_count": 101,
   "id": "78592adf-36bd-4b83-bb88-32e29767860d",
   "metadata": {},
   "outputs": [],
   "source": [
    "for movie_id in movie_ids:\n",
    "    events_mask = rgb_labels[movie_id]\n",
    "    classes_mask = class_labels[movie_id]\n",
    "\n",
    "    # save corrected rgb labels and class labels on disk\n",
    "    imageio.volwrite(\n",
    "        os.path.join(corr_dir, movie_id + \"_corrected_rgb_mask_V4.tif\"), events_mask\n",
    "    )\n",
    "    imageio.volwrite(\n",
    "        os.path.join(corr_dir, movie_id + \"_corrected_label_mask_V3.tif\"), classes_mask\n",
    "    )"
   ]
  },
  {
   "attachments": {},
   "cell_type": "markdown",
   "id": "2ebf7672-2b43-4df6-ba25-f86171953420",
   "metadata": {
    "tags": []
   },
   "source": [
    "## Add new events created by Miguel in movie 07\n",
    "\n",
    "Load **XX_corrected_rgb_mask_V4.tif** and **XX_corrected_label_mask_V3.tif** and save as **XX_corrected_rgb_mask_V4.tif** and **XX_corrected_label_mask_V3.tif** (stil part of the last check of events in general).\n",
    "\n",
    "Take note of changes in `data/raw_data_and_processing/manual_corr_separated_events_masks/separated_events_analysis.xlsx` (tab \"Final check\").\n"
   ]
  },
  {
   "cell_type": "code",
   "execution_count": 28,
   "id": "9fe5baf8-75ab-4a75-879a-883c21e4a4c4",
   "metadata": {},
   "outputs": [
    {
     "name": "stdout",
     "output_type": "stream",
     "text": [
      "white colour: 16646655\n"
     ]
    }
   ],
   "source": [
    "white_int = 255 * 255 * 255 + 255 * 255 + 255\n",
    "print(\"white colour:\", white_int)"
   ]
  },
  {
   "cell_type": "code",
   "execution_count": 18,
   "id": "cb3d97cc-f112-4145-adab-58c441e83ae1",
   "metadata": {},
   "outputs": [],
   "source": [
    "movie_id = \"07\""
   ]
  },
  {
   "cell_type": "code",
   "execution_count": 16,
   "id": "b669c99d-86c1-492e-8042-e906604ef159",
   "metadata": {},
   "outputs": [],
   "source": [
    "rgb_labels = load_annotations_ids(\n",
    "    data_folder=corr_dir, ids=movie_ids, mask_names=\"corrected_rgb_mask_V4\"\n",
    ")\n",
    "new_class_labels = load_annotations_ids(\n",
    "    data_folder=corr_dir, ids=movie_ids, mask_names=\"corrected_label_mask_V3\"\n",
    ")"
   ]
  },
  {
   "cell_type": "code",
   "execution_count": 19,
   "id": "da9c2014-981a-4a16-822b-f8076b2cdfcf",
   "metadata": {},
   "outputs": [],
   "source": [
    "smooth_movie = smooth_movies[movie_id]\n",
    "events_mask = rgb_labels[movie_id]\n",
    "classes_mask = new_class_labels[movie_id]\n",
    "\n",
    "original_classes_mask = class_labels[movie_id]\n",
    "\n",
    "# check that events_mask and classes_mask match\n",
    "if not (events_mask.astype(bool) == classes_mask.astype(bool)).all():\n",
    "    print(f\"RGB and class masks do not match in movie {movie_id}\")"
   ]
  },
  {
   "cell_type": "markdown",
   "id": "d57e9e77-0853-4a0b-b978-5eb99fbd141d",
   "metadata": {},
   "source": [
    "### Compute difference in class mask between V4 and new mask created by Miguel"
   ]
  },
  {
   "cell_type": "code",
   "execution_count": 25,
   "id": "766639d1-8785-4da6-8172-1727468e9c4e",
   "metadata": {},
   "outputs": [
    {
     "name": "stdout",
     "output_type": "stream",
     "text": [
      "Frames where V4 and Miguel's masks differ: [  2   3   4   5   6   7   8   9  10  11  12  13  14  15  16  17  18  19\n",
      "  20  21  22  23  24  25  26  27  28  29  30  31  32  33  34  35  36  37\n",
      "  38  39  40  41  42  43  44  45  46  47  48  49  50  51  52  53  54  55\n",
      "  56  57  58  59  60  61  62  63  64  65  66  67  68  69  70  71  72  73\n",
      "  74  75  76  77  78  79  80  81  82  83  84  85  86  87  88  89  90  91\n",
      "  92  93  94  95  96  97  98  99 100 101 102 103 104 105 106 107 108 109\n",
      " 110 111 112 113 114 115 116 117 118 119 120 121 122 123 124 125 126 127\n",
      " 128 129 130 131 132 133 134 135 136 137 138 139 140 141 142 143 144 145\n",
      " 146 147 148 149 150 151 152 153 154 155 156 157 158 159 160 161 162 163\n",
      " 164 165 166 167 168 169 170 171 172 173 174 175 176 177 178 179 180 181\n",
      " 182 183 184 185 186 187 188 189 190 191 192 193 194 195 196 197 198 199\n",
      " 200 201 202 203 204 205 206 207 208 209 210 211 212 213 214 215 216 217\n",
      " 218 219 220 221 222 223 224 225 226 227 228 229 230 231 232 233 234 235\n",
      " 236 237 238 239 240 241 242 243 244 245 246 247 248 249 250 251 252 253\n",
      " 254 255 256 257 258 259 260 261 262 263 264 265 266 267 268 269 270 271\n",
      " 272 273 274 275 276 277 278 279 280 281 282 283 284 285 286 287 288 289\n",
      " 290 291 292 293 294 295 296 297 298 299 300 301 302 303 304 305 306 307\n",
      " 308 309 310 311 312 313 314 315 316 317 318 319 320 321 322 323 324 325\n",
      " 326 327 328 329 330 331 332 333 334 335 336 337 338 339 340 341 342 343\n",
      " 344 345 346 347 348 349 350 351 352 353 354 355 356 357 358 359 360 361\n",
      " 362 363 364 365 366 367 368 369 370 371 372 373 374 375 376 377 378 379\n",
      " 380 381 382 383 384 385 386 387 388 389 390 391 392 393 394 395 396 397\n",
      " 398 399 400 401 402 403 404 405 406 407 408 409 410 411 412 413 414 415\n",
      " 416 417 418 419 420 421 422 423 424 425 426 427 428 429 430 431 432 433\n",
      " 434 435 436 437 438 439 440 441 442 443 444 445 446 447 448 449 450 451\n",
      " 452 453 454 455 456 457 458 459 460 461 462 463 464 465 466 467 468 469\n",
      " 470 471 472 473 474 475 476 477 478 479 480 481 482 483 484 485 486 487\n",
      " 488 489 490 491 492 493 494 495 496 497 498 499]\n"
     ]
    }
   ],
   "source": [
    "diff = np.where(original_classes_mask, 1, 0) - np.where(classes_mask, 1, 0)\n",
    "\n",
    "print(\"Frames where V4 and Miguel's masks differ:\", np.unique(np.where(diff)[0]))"
   ]
  },
  {
   "cell_type": "code",
   "execution_count": 27,
   "id": "ee88e9ae-56ae-4963-a654-9bcafe2f4062",
   "metadata": {},
   "outputs": [
    {
     "name": "stderr",
     "output_type": "stream",
     "text": [
      "WARNING: DirectWrite: CreateFontFaceFromHDC() failed (Indicates an error in an input file such as a font file.) for QFontDef(Family=\"\", pointsize=12, pixelsize=16, styleHint=5, weight=50, stretch=100, hintingPreference=0) LOGFONT(\"MS Sans Serif\", lfWidth=0, lfHeight=-16) dpi=96\n"
     ]
    },
    {
     "data": {
      "text/plain": [
       "<Labels layer 'differences' at 0x1f658284fa0>"
      ]
     },
     "execution_count": 27,
     "metadata": {},
     "output_type": "execute_result"
    }
   ],
   "source": [
    "viewer = napari.Viewer()\n",
    "viewer.add_image(smooth_movie, name=\"smooth movie\", colormap=(\"colors\", cmap))\n",
    "\n",
    "viewer.add_labels(events_mask, name=\"events mask\", opacity=0.3, visible=False)\n",
    "\n",
    "viewer.add_labels(classes_mask, name=\"new classes mask\", opacity=0.5, visible=False)\n",
    "\n",
    "viewer.add_labels(\n",
    "    original_classes_mask, name=\"Miguels classes mask\", opacity=0.5, visible=False\n",
    ")\n",
    "\n",
    "viewer.add_labels(diff, name=\"differences\", opacity=0.5, visible=True)"
   ]
  },
  {
   "cell_type": "markdown",
   "id": "fbfb9c55-23bc-4f2d-bdde-d1b9eb9b1afe",
   "metadata": {},
   "source": [
    "### Analyse ROIs added by Miguel"
   ]
  },
  {
   "cell_type": "code",
   "execution_count": 34,
   "id": "856a0dca-86eb-4049-91e9-84a0699a6f7e",
   "metadata": {
    "tags": []
   },
   "outputs": [],
   "source": [
    "# set added ROIs to `white_int`\n",
    "events_mask[diff == 1] = white_int"
   ]
  },
  {
   "cell_type": "code",
   "execution_count": 65,
   "id": "d7b63cf8-6629-4463-9582-da54131c088f",
   "metadata": {},
   "outputs": [
    {
     "name": "stdout",
     "output_type": "stream",
     "text": [
      "Frames with new ROIs: []\n"
     ]
    }
   ],
   "source": [
    "print(\"Frames with new ROIs:\", np.unique(np.where(events_mask == white_int)[0]))"
   ]
  },
  {
   "cell_type": "code",
   "execution_count": 70,
   "id": "7ccbe5bc-6c03-48e0-92a9-23aba0709190",
   "metadata": {},
   "outputs": [
    {
     "name": "stderr",
     "output_type": "stream",
     "text": [
      "WARNING: DirectWrite: CreateFontFaceFromHDC() failed (Indicates an error in an input file such as a font file.) for QFontDef(Family=\"\", pointsize=12, pixelsize=16, styleHint=5, weight=50, stretch=100, hintingPreference=0) LOGFONT(\"MS Sans Serif\", lfWidth=0, lfHeight=-16) dpi=96\n"
     ]
    },
    {
     "data": {
      "text/plain": [
       "<Labels layer 'differences' at 0x1f60fc27490>"
      ]
     },
     "execution_count": 70,
     "metadata": {},
     "output_type": "execute_result"
    }
   ],
   "source": [
    "viewer = napari.Viewer()\n",
    "viewer.add_image(smooth_movie, name=\"smooth movie\", colormap=(\"colors\", cmap))\n",
    "\n",
    "viewer.add_labels(events_mask, name=\"events mask\", opacity=0.5, visible=True)\n",
    "\n",
    "viewer.add_labels(classes_mask, name=\"new classes mask\", opacity=0.5, visible=False)\n",
    "\n",
    "viewer.add_labels(\n",
    "    original_classes_mask, name=\"Miguels classes mask\", opacity=0.5, visible=False\n",
    ")\n",
    "\n",
    "viewer.add_labels(diff, name=\"differences\", opacity=0.5, visible=False)"
   ]
  },
  {
   "cell_type": "markdown",
   "id": "13b5e8a3-d508-429b-b57b-81deb2a7e1a3",
   "metadata": {
    "tags": []
   },
   "source": [
    "#### Run this to change number of a # event"
   ]
  },
  {
   "cell_type": "code",
   "execution_count": 53,
   "id": "704de6f4-eb5e-4b10-854d-d9badf816ca1",
   "metadata": {},
   "outputs": [],
   "source": [
    "n_event = white_int\n",
    "new_n_event = 12982121\n",
    "\n",
    "events_mask = np.where(events_mask == n_event, new_n_event, events_mask)"
   ]
  },
  {
   "cell_type": "markdown",
   "id": "1c7840ba-ba05-4094-97c7-5bc0af576e64",
   "metadata": {},
   "source": [
    "#### Run this to compute number of connected component of events"
   ]
  },
  {
   "cell_type": "code",
   "execution_count": 56,
   "id": "e57c9347-f145-455c-9685-b7dbb362d6bb",
   "metadata": {},
   "outputs": [],
   "source": [
    "# connectivity of the connected components\n",
    "connectivity = 26"
   ]
  },
  {
   "cell_type": "code",
   "execution_count": 60,
   "id": "d2e552cc-1633-4418-a31c-89906f5d6ed8",
   "metadata": {
    "tags": []
   },
   "outputs": [],
   "source": [
    "assert not white_int in events_mask\n",
    "\n",
    "# compute number of connected components for each event\n",
    "list_events = list(np.unique(events_mask))\n",
    "list_events.remove(0)\n",
    "\n",
    "for nb_event in list_events:\n",
    "    events, n_components = cc3d.connected_components(\n",
    "        (events_mask == nb_event), connectivity=connectivity, return_N=True\n",
    "    )\n",
    "    if n_components > 1:\n",
    "        print(\n",
    "            f\"Event with colour {nb_event} contains {n_components} connected components\"\n",
    "        )"
   ]
  },
  {
   "cell_type": "markdown",
   "id": "216fb3bc-1c17-43fd-bf8f-33af1b53ab85",
   "metadata": {},
   "source": [
    "### Analyse ROIs \"removed\" by Miguel"
   ]
  },
  {
   "cell_type": "code",
   "execution_count": 61,
   "id": "5b96b82e-add6-46dc-9c40-78416959ef78",
   "metadata": {},
   "outputs": [
    {
     "name": "stdout",
     "output_type": "stream",
     "text": [
      "Frames containing ROIs removed by Miguel [110 112 297 300 303 305 307 308 311 314 315 316 317 318 319 320 321 322\n",
      " 323 324 325 326 327 328 329 330 331 332 333 334 335 336 337 338 339 340\n",
      " 341 342 343 344 345 346 347 348 349 350 351 352 353 354 355 356 357 358\n",
      " 359 478]\n"
     ]
    }
   ],
   "source": [
    "print(\"Frames containing ROIs removed by Miguel\", np.unique(np.where(diff == -1)[0]))"
   ]
  },
  {
   "cell_type": "code",
   "execution_count": 63,
   "id": "da8f2996-b0f7-45cd-aff6-1f6f5ffb21b6",
   "metadata": {},
   "outputs": [
    {
     "data": {
      "text/plain": [
       "<Labels layer 'removed ROIs' at 0x1f60e34f3a0>"
      ]
     },
     "execution_count": 63,
     "metadata": {},
     "output_type": "execute_result"
    }
   ],
   "source": [
    "viewer = napari.Viewer()\n",
    "viewer.add_image(smooth_movie, name=\"smooth movie\", colormap=(\"colors\", cmap))\n",
    "\n",
    "viewer.add_labels(events_mask, name=\"events mask\", opacity=0.5, visible=False)\n",
    "\n",
    "viewer.add_labels(classes_mask, name=\"new classes mask\", opacity=0.5, visible=False)\n",
    "\n",
    "viewer.add_labels(\n",
    "    original_classes_mask, name=\"Miguels classes mask\", opacity=0.5, visible=False\n",
    ")\n",
    "\n",
    "viewer.add_labels(diff == -1, name=\"removed ROIs\", opacity=0.5, visible=True)"
   ]
  },
  {
   "cell_type": "markdown",
   "id": "6db405f4-2669-4d76-bb7d-7a5e494b56c3",
   "metadata": {},
   "source": [
    "### Set classes to new event ROIs"
   ]
  },
  {
   "cell_type": "code",
   "execution_count": 71,
   "id": "baabf00e-3fa4-4099-b49b-d5a737012633",
   "metadata": {},
   "outputs": [],
   "source": [
    "n_event = 0\n",
    "new_class = 0\n",
    "\n",
    "classes_mask = np.where(events_mask == n_event, new_class, classes_mask)"
   ]
  },
  {
   "cell_type": "code",
   "execution_count": 72,
   "id": "d84a221d-d8ec-44ac-a006-afec3927827c",
   "metadata": {},
   "outputs": [
    {
     "name": "stdout",
     "output_type": "stream",
     "text": [
      "Frames that still need to be classified: []\n"
     ]
    }
   ],
   "source": [
    "print(\n",
    "    \"Frames that still need to be classified:\",\n",
    "    np.unique(np.where(classes_mask == white_int)[0]),\n",
    ")"
   ]
  },
  {
   "cell_type": "markdown",
   "id": "6aba827c-ed3e-461d-bf14-65cb7ac80b59",
   "metadata": {},
   "source": [
    "### Save corrected version of movie 07 on disk"
   ]
  },
  {
   "cell_type": "code",
   "execution_count": 74,
   "id": "6be6f32e-f2df-4ef5-aaea-5f83cfc3202f",
   "metadata": {},
   "outputs": [
    {
     "data": {
      "text/plain": [
       "True"
      ]
     },
     "execution_count": 74,
     "metadata": {},
     "output_type": "execute_result"
    }
   ],
   "source": [
    "# check that class and event masks match\n",
    "(events_mask.astype(bool) == classes_mask.astype(bool)).all()"
   ]
  },
  {
   "cell_type": "code",
   "execution_count": 73,
   "id": "154be782-2bf3-4112-bb7e-bdf32a2732d0",
   "metadata": {},
   "outputs": [],
   "source": [
    "imageio.volwrite(\n",
    "    os.path.join(corr_dir, movie_id + \"_corrected_rgb_mask_V4.tif\"), events_mask\n",
    ")\n",
    "imageio.volwrite(\n",
    "    os.path.join(corr_dir, movie_id + \"_corrected_label_mask_V3.tif\"), classes_mask\n",
    ")"
   ]
  },
  {
   "attachments": {},
   "cell_type": "markdown",
   "id": "39a12d17",
   "metadata": {},
   "source": [
    "28/04/2023\n",
    "## Correct manually movie 34\n",
    "\n",
    "Ho notato che le annotazioni di certe waves nel movie 34 non hanno senso (ad esempio alcune sono separate e non formano una wave di per sé --> label con 4)\n",
    "\n",
    "Files modificati:\n",
    "- `data/raw_data_and_processing/manual_corr_separated_events_masks/final_masks/34_class_label.tif`\n",
    "- `data/raw_data_and_processing/manual_corr_separated_events_masks/final_masks/34_event_label.tif`\n",
    "\n",
    "Changes are tracked in file `data/raw_data_and_processing_manual_corr_separated_events_masks/separated_events_analysis.xlsx`."
   ]
  },
  {
   "cell_type": "code",
   "execution_count": 48,
   "id": "0cf3cec3",
   "metadata": {},
   "outputs": [],
   "source": [
    "movie_id = \"34\""
   ]
  },
  {
   "cell_type": "code",
   "execution_count": 54,
   "id": "e38f583a",
   "metadata": {},
   "outputs": [],
   "source": [
    "final_masks_dir = os.path.join(corr_dir, \"final_masks\")\n",
    "event_label = load_annotations_ids(\n",
    "    data_folder=final_masks_dir, ids=[movie_id], mask_names=\"event_label\"\n",
    ")[movie_id]\n",
    "class_label = load_annotations_ids(\n",
    "    data_folder=final_masks_dir, ids=[movie_id], mask_names=\"class_label\"\n",
    ")[movie_id]"
   ]
  },
  {
   "cell_type": "code",
   "execution_count": 58,
   "id": "7eddbf46",
   "metadata": {},
   "outputs": [
    {
     "name": "stdout",
     "output_type": "stream",
     "text": [
      "Number of annotated waves (should be == 4):\n",
      "[ 0 17 20 24 26 31 32] --> 6\n"
     ]
    }
   ],
   "source": [
    "print(\"Number of annotated waves (should be == 4):\")\n",
    "\n",
    "waves_mask = np.where(class_label == 2, event_label, 0)\n",
    "print(np.unique(waves_mask), \"-->\", len(np.unique(waves_mask)) - 1)"
   ]
  },
  {
   "cell_type": "code",
   "execution_count": 68,
   "id": "4ceec80c",
   "metadata": {},
   "outputs": [
    {
     "data": {
      "text/plain": [
       "<Labels layer 'classes mask' at 0x25b0b4a4e20>"
      ]
     },
     "execution_count": 68,
     "metadata": {},
     "output_type": "execute_result"
    }
   ],
   "source": [
    "viewer = napari.Viewer()\n",
    "viewer.add_image(smooth_movies[\"34\"], name=\"smooth movie\", colormap=(\"colors\", cmap))\n",
    "\n",
    "viewer.add_labels(waves_mask, name=\"waves mask\", opacity=0.5, visible=True)\n",
    "\n",
    "viewer.add_labels(class_label, name=\"classes mask\", opacity=0.5, visible=True)"
   ]
  },
  {
   "cell_type": "code",
   "execution_count": 67,
   "id": "215e9527",
   "metadata": {},
   "outputs": [],
   "source": [
    "# set waves labelled with 17 and 31 to undefined ROIs\n",
    "new_class_label = np.where(waves_mask == 17, 4, class_label)\n",
    "new_class_label = np.where(waves_mask == 31, 2, new_class_label)"
   ]
  },
  {
   "cell_type": "code",
   "execution_count": 69,
   "id": "2817820f",
   "metadata": {},
   "outputs": [
    {
     "data": {
      "text/plain": [
       "<Labels layer 'new classes mask' at 0x25b10479310>"
      ]
     },
     "execution_count": 69,
     "metadata": {},
     "output_type": "execute_result"
    }
   ],
   "source": [
    "viewer.add_labels(new_class_label, name=\"new classes mask\", opacity=0.5, visible=True)"
   ]
  },
  {
   "cell_type": "code",
   "execution_count": 70,
   "id": "54faaaf3",
   "metadata": {},
   "outputs": [
    {
     "data": {
      "text/plain": [
       "'..\\\\data\\\\raw_data_and_processing\\\\manual_corr_separated_event_masks\\\\final_masks'"
      ]
     },
     "execution_count": 70,
     "metadata": {},
     "output_type": "execute_result"
    }
   ],
   "source": [
    "final_masks_dir"
   ]
  },
  {
   "cell_type": "code",
   "execution_count": 71,
   "id": "1a1e7ff0",
   "metadata": {},
   "outputs": [],
   "source": [
    "imageio.volwrite(\n",
    "    os.path.join(final_masks_dir, movie_id + \"_class_label.tif\"), new_class_label\n",
    ")"
   ]
  },
  {
   "cell_type": "code",
   "execution_count": null,
   "id": "a6792ea7",
   "metadata": {},
   "outputs": [],
   "source": []
  }
 ],
 "metadata": {
  "kernelspec": {
   "display_name": "sparks",
   "language": "python",
   "name": "python3"
  },
  "language_info": {
   "codemirror_mode": {
    "name": "ipython",
    "version": 3
   },
   "file_extension": ".py",
   "mimetype": "text/x-python",
   "name": "python",
   "nbconvert_exporter": "python",
   "pygments_lexer": "ipython3",
   "version": "3.9.13"
  },
  "vscode": {
   "interpreter": {
    "hash": "d33eb8e81965b779f2871c6ab1ae98a760df4ff814358c9a5efa0a44482010f7"
   }
  }
 },
 "nbformat": 4,
 "nbformat_minor": 5
}
