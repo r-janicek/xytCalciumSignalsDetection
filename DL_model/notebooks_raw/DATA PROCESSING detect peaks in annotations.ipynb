{
 "cells": [
  {
   "cell_type": "markdown",
   "id": "ab5f67f0-2e91-4c6f-a916-65a0fd4a7c02",
   "metadata": {},
   "source": [
    "11.08.2022\n",
    "\n",
    "# Find spark peaks / process sparks in annotations\n",
    "\n",
    "Creo e testo una funzione per trovare i peaks nelle annotazioni degli sparks. Dopodiché la aggiungo alla Dataset class e i peaks saranno un attributo della classe e verranno usati per calcolare le metrics degli sparks.\n",
    "\n",
    "Creo e testo anche una funzione per rimpicciolire gli sparks nelle annotazioni. Se funziona, la aggiungo alla Dataset class e creo un opzione da scegliere durante il training (se usare le raw annotations oppure quelle con gli sparks rimpiccioliti).\n",
    "\n",
    "Quando ho finito e aggiunto le opzioni ai datasets, elimino questo script."
   ]
  },
  {
   "cell_type": "code",
   "execution_count": 1,
   "id": "1e23d0ad-d39a-4046-bebf-d87d3e2567d8",
   "metadata": {},
   "outputs": [],
   "source": [
    "# autoreload is used to reload modules automatically before entering the\n",
    "# execution of code typed at the IPython prompt.\n",
    "%load_ext autoreload\n",
    "%autoreload 2\n",
    "# To import modules from parent directory in Jupyter Notebook\n",
    "import sys\n",
    "\n",
    "sys.path.append(\"..\")"
   ]
  },
  {
   "cell_type": "code",
   "execution_count": 2,
   "id": "ef3e953e-45fb-4601-936b-30bbccdcd350",
   "metadata": {},
   "outputs": [],
   "source": [
    "import napari\n",
    "\n",
    "import numpy as np\n",
    "\n",
    "from data.data_processing_tools import reduce_sparks_size, detect_spark_peaks\n",
    "from utils.in_out_tools import load_movies_ids, load_annotations_ids\n",
    "from utils.visualization_tools import get_discrete_cmap, get_labels_cmap"
   ]
  },
  {
   "cell_type": "markdown",
   "id": "a930308c-b6c2-4626-bc12-27ff973375bc",
   "metadata": {
    "tags": []
   },
   "source": [
    "### load annotations and smooth movies\n",
    "\n",
    "load movies and annotations from dataset folder --> same preprocessing as in the SparkDataset class"
   ]
  },
  {
   "cell_type": "code",
   "execution_count": 14,
   "id": "66ecdb5e-374b-4bf9-9421-220d4dab766d",
   "metadata": {},
   "outputs": [],
   "source": [
    "# sample_ids = [\"01\",\"02\",\"03\",\"04\",\"05\",\"06\",\"07\",\"08\",\"09\",\n",
    "#             \"10\",\"11\",\"12\",\"13\",\"14\",\"15\",\"16\",\"17\",\"18\",\"19\",\n",
    "#             \"20\",\"21\",\"22\",\"23\",\"24\",\"25\",\"27\",\"28\",\"29\",\n",
    "#             \"30\",\"32\",\"33\",\"34\",\"35\",\"36\",\"38\",\"39\",\n",
    "#             \"40\",\"41\",\"42\",\"43\",\"44\",\"45\",\"46\"\n",
    "#            ]\n",
    "\n",
    "# test_sample_ids = [\"05\",\"10\",\"15\",\"20\",\"25\",\"32\",\"34\",\"40\",\"45\"]\n",
    "sample_ids = [\"18\"]"
   ]
  },
  {
   "cell_type": "code",
   "execution_count": 15,
   "id": "0f9366ae-4d8e-4c05-b08a-b1ac8a7c0b4c",
   "metadata": {},
   "outputs": [],
   "source": [
    "# directory containing dataset\n",
    "base_path = \"../data/sparks_dataset\"\n",
    "smooth_movies_path = \"../data/raw_data_and_processing/smoothed_movies\""
   ]
  },
  {
   "cell_type": "code",
   "execution_count": 16,
   "id": "78334da3-0beb-4a11-8747-55a688e0a5d9",
   "metadata": {},
   "outputs": [],
   "source": [
    "# load original movies\n",
    "# data = list(load_movies_ids(data_folder=base_path,\n",
    "#                            ids=sample_ids,\n",
    "#                            #ids=test_sample_ids,\n",
    "#                            names_available=True,\n",
    "#                            movie_names=\"video\"\n",
    "#                           ).values())\n",
    "\n",
    "# load smooth movies\n",
    "data = list(\n",
    "    load_movies_ids(\n",
    "        data_folder=smooth_movies_path,\n",
    "        ids=sample_ids,\n",
    "        # ids=test_sample_ids,\n",
    "        names_available=True,\n",
    "        movie_names=\"smoothed_video\",\n",
    "    ).values()\n",
    ")\n",
    "\n",
    "# load class labels\n",
    "annotations = list(\n",
    "    load_annotations_ids(\n",
    "        data_folder=base_path,\n",
    "        ids=sample_ids,\n",
    "        # ids=test_sample_ids,\n",
    "        mask_names=\"class_label\",\n",
    "    ).values()\n",
    ")\n",
    "\n",
    "# load event labels\n",
    "events = list(\n",
    "    load_annotations_ids(\n",
    "        data_folder=base_path,\n",
    "        ids=sample_ids,\n",
    "        # ids=test_sample_ids,\n",
    "        mask_names=\"event_label\",\n",
    "    ).values()\n",
    ")"
   ]
  },
  {
   "cell_type": "markdown",
   "id": "7a4240ad-93e3-4f96-92b8-1a489042bd7f",
   "metadata": {
    "tags": []
   },
   "source": [
    "### napari tools"
   ]
  },
  {
   "cell_type": "code",
   "execution_count": 17,
   "id": "8c3bc0bd-ff17-472e-b946-59479a9cc430",
   "metadata": {
    "tags": []
   },
   "outputs": [],
   "source": [
    "cmap = get_discrete_cmap(name=\"gray\", lut=16)"
   ]
  },
  {
   "cell_type": "code",
   "execution_count": 18,
   "id": "64a06365-213e-4eb5-b3bc-46ce8f886eaf",
   "metadata": {},
   "outputs": [],
   "source": [
    "labels_cmap = get_labels_cmap()"
   ]
  },
  {
   "cell_type": "markdown",
   "id": "31c3b87c-5af0-452a-a356-fda28b888775",
   "metadata": {
    "tags": []
   },
   "source": [
    "### define function to reduce sparks size\n",
    "\n",
    "the spark ROI that is removed will be the undefined region of the event"
   ]
  },
  {
   "cell_type": "code",
   "execution_count": 19,
   "id": "65c7a76e-c9e1-420c-ba3a-c92045e44548",
   "metadata": {},
   "outputs": [],
   "source": [
    "k = 75  # choose value k of percentile\n",
    "sigma = 0  # use 2 with original movies, 0 with smooth movies"
   ]
  },
  {
   "cell_type": "markdown",
   "id": "8e2109f6-d9b0-4076-b0bb-a8edbb453945",
   "metadata": {},
   "source": [
    "#### visualise result using napari"
   ]
  },
  {
   "cell_type": "code",
   "execution_count": 20,
   "id": "0f1da9dc-fd02-42a0-ac9e-eb623665b6c6",
   "metadata": {},
   "outputs": [],
   "source": [
    "sample_id = 0\n",
    "movie = data[sample_id]\n",
    "class_mask = annotations[sample_id]\n",
    "event_mask = events[sample_id]\n",
    "\n",
    "spark_mask = np.where(class_mask == 1, event_mask, 0)"
   ]
  },
  {
   "cell_type": "code",
   "execution_count": 52,
   "id": "3e8f929a-422e-4a47-9390-3c27117f3946",
   "metadata": {},
   "outputs": [
    {
     "name": "stdout",
     "output_type": "stream",
     "text": [
      "[1516 1517 1518 1519]\n",
      "[34 35]\n",
      "[166 167 168 169]\n",
      "[799 800 801]\n",
      "[16]\n",
      "[182 183]\n"
     ]
    }
   ],
   "source": [
    "new_class_mask = reduce_sparks_size(\n",
    "    movie=movie, class_mask=class_mask, event_mask=event_mask, sigma=sigma\n",
    ")"
   ]
  },
  {
   "cell_type": "code",
   "execution_count": 55,
   "id": "dc474857-a1aa-421d-8e90-a9059eb28728",
   "metadata": {},
   "outputs": [
    {
     "name": "stderr",
     "output_type": "stream",
     "text": [
      "WARNING: QWindowsWindow::setGeometry: Unable to set geometry 3400x2154+3198+322 on QWidgetWindow/'_QtMainWindowClassWindow'. Resulting geometry:  3400x1587+3198+322 (frame: 8, 31, 8, 8, custom margin: 0, 0, 0, 0, minimum size: 602x538, maximum size: 16777215x16777215).\n",
      "WARNING:vispy:QWindowsWindow::setGeometry: Unable to set geometry 3400x2154+3198+322 on QWidgetWindow/'_QtMainWindowClassWindow'. Resulting geometry:  3400x1587+3198+322 (frame: 8, 31, 8, 8, custom margin: 0, 0, 0, 0, minimum size: 602x538, maximum size: 16777215x16777215).\n"
     ]
    },
    {
     "data": {
      "text/plain": [
       "<Labels layer 'sparks mask' at 0x2dfb9c55100>"
      ]
     },
     "execution_count": 55,
     "metadata": {},
     "output_type": "execute_result"
    }
   ],
   "source": [
    "viewer = napari.Viewer()\n",
    "viewer.add_image(movie, name=\"movie\", colormap=(\"colors\", cmap))\n",
    "\n",
    "viewer.add_labels(event_mask, name=\"events mask\", opacity=0.5, visible=False)\n",
    "\n",
    "viewer.add_labels(\n",
    "    class_mask, name=\"classes mask\", opacity=0.5, visible=False, color=labels_cmap\n",
    ")\n",
    "\n",
    "viewer.add_labels(spark_mask, name=\"sparks mask\", opacity=0.6, visible=False)"
   ]
  },
  {
   "cell_type": "code",
   "execution_count": 56,
   "id": "6168e650-57c9-4ffc-bee0-af8591eebd4b",
   "metadata": {},
   "outputs": [
    {
     "data": {
      "text/plain": [
       "<Labels layer 'new classes mask' at 0x2dfa821e670>"
      ]
     },
     "execution_count": 56,
     "metadata": {},
     "output_type": "execute_result"
    }
   ],
   "source": [
    "viewer.add_labels(\n",
    "    new_class_mask,\n",
    "    name=\"new classes mask\",\n",
    "    opacity=0.6,\n",
    "    visible=True,\n",
    "    color=labels_cmap,\n",
    ")"
   ]
  },
  {
   "cell_type": "markdown",
   "id": "66b7fb2b-4ebf-4da5-9937-1ad6b49f5d8d",
   "metadata": {
    "jp-MarkdownHeadingCollapsed": true,
    "tags": []
   },
   "source": [
    "#### compute peaks for all movies"
   ]
  },
  {
   "cell_type": "code",
   "execution_count": 90,
   "id": "e7fc91b1-6df2-47aa-baf3-9373e762c961",
   "metadata": {},
   "outputs": [
    {
     "name": "stdout",
     "output_type": "stream",
     "text": [
      "Processing 0th movie...\n",
      "sparks locations:\n",
      "[[196, 41, 303], [186, 49, 142], [58, 25, 108], [64, 15, 107], [107, 10, 118], [77, 41, 102], [70, 46, 114], [79, 16, 194], [283, 20, 336], [354, 45, 163], [95, 56, 143], [371, 13, 255], [258, 28, 326], [312, 11, 113], [196, 22, 198], [445, 49, 75], [326, 20, 233], [211, 37, 82], [406, 54, 170], [10, 55, 122], [454, 40, 297], [262, 32, 291], [93, 11, 112], [38, 47, 67], [309, 28, 86], [141, 22, 197], [425, 51, 109], [101, 21, 305], [48, 44, 163], [25, 44, 245], [352, 44, 177], [405, 11, 362], [415, 20, 337], [65, 13, 190], [21, 8, 381], [228, 55, 170], [289, 16, 338], [82, 20, 255], [415, 28, 326], [69, 39, 297], [42, 25, 150], [303, 21, 138], [351, 52, 156], [58, 6, 351], [402, 53, 265], [133, 47, 182], [208, 56, 142], [475, 3, 344], [220, 13, 339], [124, 26, 85], [219, 30, 341], [99, 25, 86], [200, 54, 176], [142, 14, 339], [18, 8, 222], [471, 28, 326], [25, 37, 82], [41, 38, 89], [447, 13, 339], [8, 51, 209], [62, 50, 108], [299, 29, 304], [251, 3, 350], [43, 11, 112], [299, 36, 203], [175, 48, 136], [183, 11, 133], [323, 14, 108], [418, 29, 304], [474, 19, 254], [205, 50, 53]]\n",
      "Processing 1th movie...\n",
      "sparks locations:\n",
      "[[435, 34, 353], [40, 10, 367], [289, 35, 215], [171, 28, 240], [426, 34, 353], [194, 39, 183], [123, 32, 188], [299, 17, 173], [12, 24, 309], [11, 11, 161], [247, 9, 127], [381, 28, 261], [390, 22, 131], [406, 34, 218], [38, 11, 130], [167, 11, 326], [241, 16, 313], [403, 15, 168], [265, 16, 171], [238, 22, 294], [33, 10, 367], [302, 11, 136]]\n",
      "Processing 2th movie...\n",
      "sparks locations:\n",
      "[[84, 14, 84], [29, 63, 330], [152, 16, 185], [340, 32, 245], [25, 26, 145], [315, 26, 33], [101, 15, 270], [59, 26, 271], [272, 3, 281], [387, 41, 355], [152, 21, 186], [41, 12, 94], [135, 16, 245], [76, 19, 44], [410, 28, 46], [50, 27, 193], [195, 6, 27], [404, 26, 314], [110, 12, 92], [174, 27, 257], [139, 49, 304], [50, 16, 293], [379, 31, 108], [25, 61, 360], [165, 12, 93], [451, 11, 292], [323, 2, 17], [33, 34, 164], [348, 12, 37], [41, 29, 47], [114, 6, 231], [246, 26, 6], [135, 29, 97], [105, 19, 32], [443, 27, 268], [80, 14, 91], [251, 13, 203], [199, 6, 209], [148, 40, 308], [280, 53, 377], [20, 55, 326], [11, 30, 341]]\n",
      "Processing 3th movie...\n",
      "sparks locations:\n",
      "[[158, 32, 115], [367, 19, 426], [405, 16, 149], [414, 7, 147], [277, 49, 371], [294, 20, 425], [205, 10, 433], [384, 21, 440], [38, 46, 410], [128, 46, 238], [179, 34, 428], [85, 23, 390], [55, 31, 106], [115, 47, 231], [158, 33, 434], [277, 21, 417], [43, 46, 400], [456, 47, 266], [239, 44, 243], [93, 21, 257], [230, 0, 153], [185, 43, 330], [145, 34, 369], [205, 18, 438], [136, 47, 399], [68, 57, 359], [21, 43, 104], [350, 14, 370], [89, 25, 137], [128, 0, 154], [10, 26, 173], [183, 41, 104], [290, 13, 369], [175, 30, 434], [128, 28, 437], [388, 61, 212], [141, 36, 426], [215, 26, 235], [77, 47, 404], [362, 42, 107], [106, 5, 435], [245, 43, 104], [76, 18, 327], [38, 50, 203], [431, 44, 193], [218, 45, 430], [384, 28, 310], [55, 13, 369], [183, 37, 279], [435, 20, 445], [375, 26, 439], [179, 40, 229], [126, 9, 393], [260, 34, 400], [34, 1, 149], [94, 20, 364], [38, 33, 418], [170, 16, 431], [196, 26, 235], [81, 20, 390], [106, 16, 370], [375, 47, 370], [273, 45, 364], [162, 47, 392], [243, 49, 125], [422, 24, 349], [68, 40, 91], [55, 2, 148], [175, 19, 196], [77, 30, 226]]\n",
      "Processing 4th movie...\n",
      "sparks locations:\n",
      "[[720, 42, 117], [668, 33, 310], [362, 43, 130], [673, 34, 156], [15, 29, 189], [73, 31, 444], [48, 28, 194], [110, 40, 294], [945, 32, 345], [52, 16, 242], [110, 37, 169], [877, 41, 191], [655, 34, 466], [588, 43, 314], [335, 36, 314], [396, 40, 119], [233, 15, 255], [439, 30, 168], [89, 35, 220], [759, 20, 265], [45, 21, 267], [184, 25, 386], [911, 27, 332], [285, 22, 338], [231, 34, 321], [526, 7, 184], [372, 48, 101], [356, 42, 117], [122, 31, 431], [30, 22, 213], [36, 49, 471]]\n",
      "Processing 5th movie...\n",
      "sparks locations:\n",
      "[[854, 50, 217], [653, 50, 393], [786, 40, 244], [952, 18, 298], [30, 10, 479], [871, 49, 367], [508, 37, 456]]\n",
      "Processing 6th movie...\n",
      "sparks locations:\n",
      "[[705, 44, 341], [790, 43, 198], [78, 38, 177], [433, 43, 371], [93, 45, 191], [144, 55, 156], [896, 42, 331], [366, 47, 371], [893, 43, 341], [586, 58, 143], [881, 50, 150], [681, 43, 330], [158, 43, 183], [403, 50, 309], [476, 55, 267], [71, 55, 379]]\n",
      "Processing 7th movie...\n",
      "sparks locations:\n",
      "[[394, 35, 226], [470, 37, 294], [954, 28, 154], [473, 6, 319], [315, 36, 178], [547, 14, 206]]\n",
      "Processing 8th movie...\n",
      "sparks locations:\n",
      "[]\n"
     ]
    }
   ],
   "source": [
    "idx = 0\n",
    "for movie, class_mask, event_mask in zip(data, annotations, events):\n",
    "    print(f\"Processing {idx}th movie...\")\n",
    "    spark_mask = np.where(class_mask == 1, event_mask, 0)\n",
    "    spark_loc = detect_spark_peaks(\n",
    "        movie=movie,\n",
    "        instances_mask=spark_mask,\n",
    "        sigma=2,\n",
    "        return_mask=False,\n",
    "    )\n",
    "\n",
    "    print(\"sparks locations:\")\n",
    "    print(spark_loc)\n",
    "    idx = idx + 1"
   ]
  },
  {
   "cell_type": "markdown",
   "id": "43447ada-adb7-4cff-9663-a92844e70bcc",
   "metadata": {},
   "source": [
    "#### visualise resulting peaks using napari"
   ]
  },
  {
   "cell_type": "markdown",
   "id": "e6af40d3-f5a1-4438-9703-a07a56c2b88f",
   "metadata": {},
   "source": [
    "#### compute peaks for a sample movie"
   ]
  },
  {
   "cell_type": "code",
   "execution_count": 91,
   "id": "481c94d8-089d-49b1-a6be-a67be09fcf45",
   "metadata": {},
   "outputs": [],
   "source": [
    "sample_id = 0\n",
    "movie = data[sample_id]\n",
    "class_mask = annotations[sample_id]\n",
    "event_mask = events[sample_id]\n",
    "\n",
    "spark_mask = np.where(class_mask == 1, event_mask, 0)"
   ]
  },
  {
   "cell_type": "code",
   "execution_count": 92,
   "id": "e404d9c1-b777-4f5f-b4e6-b2b0b055fc38",
   "metadata": {},
   "outputs": [
    {
     "name": "stdout",
     "output_type": "stream",
     "text": [
      "sparks locations:\n",
      "[[196, 41, 303], [186, 49, 142], [58, 25, 108], [64, 15, 107], [107, 10, 118], [77, 41, 102], [70, 46, 114], [79, 16, 194], [283, 20, 336], [354, 45, 163], [95, 56, 143], [371, 13, 255], [258, 28, 326], [312, 11, 113], [196, 22, 198], [445, 49, 75], [326, 20, 233], [211, 37, 82], [406, 54, 170], [10, 55, 122], [454, 40, 297], [262, 32, 291], [93, 11, 112], [38, 47, 67], [309, 28, 86], [141, 22, 197], [425, 51, 109], [101, 21, 305], [48, 44, 163], [25, 44, 245], [352, 44, 177], [405, 11, 362], [415, 20, 337], [65, 13, 190], [21, 8, 381], [228, 55, 170], [289, 16, 338], [82, 20, 255], [415, 28, 326], [69, 39, 297], [42, 25, 150], [303, 21, 138], [351, 52, 156], [58, 6, 351], [402, 53, 265], [133, 47, 182], [208, 56, 142], [475, 3, 344], [220, 13, 339], [124, 26, 85], [219, 30, 341], [99, 25, 86], [200, 54, 176], [142, 14, 339], [18, 8, 222], [471, 28, 326], [25, 37, 82], [41, 38, 89], [447, 13, 339], [8, 51, 209], [62, 50, 108], [299, 29, 304], [251, 3, 350], [43, 11, 112], [299, 36, 203], [175, 48, 136], [183, 11, 133], [323, 14, 108], [418, 29, 304], [474, 19, 254], [205, 50, 53]]\n"
     ]
    }
   ],
   "source": [
    "spark_loc = detect_spark_peaks(movie=movie, instances_mask=spark_mask)\n",
    "\n",
    "print(\"sparks locations:\")\n",
    "print(spark_loc)"
   ]
  },
  {
   "cell_type": "code",
   "execution_count": 93,
   "id": "5aecb202-9120-4014-bfc6-200332af27fa",
   "metadata": {},
   "outputs": [
    {
     "name": "stderr",
     "output_type": "stream",
     "text": [
      "WARNING: DirectWrite: CreateFontFaceFromHDC() failed (Indicates an error in an input file such as a font file.) for QFontDef(Family=\"\", pointsize=12, pixelsize=16, styleHint=5, weight=50, stretch=100, hintingPreference=0) LOGFONT(\"MS Sans Serif\", lfWidth=0, lfHeight=-16) dpi=96\n"
     ]
    },
    {
     "data": {
      "text/plain": [
       "<Points layer 'spark peak locations' at 0x1c64388a7c0>"
      ]
     },
     "execution_count": 93,
     "metadata": {},
     "output_type": "execute_result"
    }
   ],
   "source": [
    "viewer = napari.Viewer()\n",
    "viewer.add_image(movie, name=\"movie\", colormap=(\"colors\", cmap))\n",
    "\n",
    "viewer.add_labels(event_mask, name=\"events mask\", opacity=0.5, visible=False)\n",
    "\n",
    "viewer.add_labels(class_mask, name=\"classes mask\", opacity=0.5, visible=False)\n",
    "\n",
    "viewer.add_labels(spark_mask, name=\"sparks mask\", opacity=0.6, visible=True)\n",
    "\n",
    "viewer.add_points(spark_loc, name=\"spark peak locations\", visible=True, size=3)"
   ]
  },
  {
   "cell_type": "code",
   "execution_count": null,
   "id": "29862ecc-9ea3-45bf-8441-43323f6c7403",
   "metadata": {},
   "outputs": [],
   "source": []
  }
 ],
 "metadata": {
  "kernelspec": {
   "display_name": "sparks",
   "language": "python",
   "name": "python3"
  },
  "language_info": {
   "codemirror_mode": {
    "name": "ipython",
    "version": 3
   },
   "file_extension": ".py",
   "mimetype": "text/x-python",
   "name": "python",
   "nbconvert_exporter": "python",
   "pygments_lexer": "ipython3",
   "version": "3.9.13"
  },
  "vscode": {
   "interpreter": {
    "hash": "d21ea8e127dc18603ed933cb69d3f0e3fbc5bcbc2dd19f44b0f9b09cfcc47615"
   }
  }
 },
 "nbformat": 4,
 "nbformat_minor": 5
}
