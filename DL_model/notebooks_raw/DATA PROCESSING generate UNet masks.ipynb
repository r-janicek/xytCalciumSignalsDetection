{
 "cells": [
  {
   "cell_type": "markdown",
   "id": "fc0d64bc-7f23-40b5-8480-dfb4437f3206",
   "metadata": {},
   "source": [
    "# DEBUG: Generate UNet masks from annotations\n",
    "\n",
    "**22.02.2022**: In pratica la stessa cosa che faccio nel file \"generate_unet_annotations.py\", per fare un debug\n",
    "\n",
    "**04.07.2022**: Aggiorno lo script per essere in linea con lo stato attuale del codice. Lo uso per testare il preprocessing delle annotations con la nuova versione del dataset (cioè il dataset che ho corretto io manualmente nelle ultime settimane in modo interattivo usando Napari)"
   ]
  },
  {
   "cell_type": "code",
   "execution_count": 1,
   "id": "70fa43eb-ef84-4b3b-95f5-d1d4f09c8861",
   "metadata": {},
   "outputs": [],
   "source": [
    "# autoreload is used to reload modules automatically before entering the\n",
    "# execution of code typed at the IPython prompt.\n",
    "%load_ext autoreload\n",
    "%autoreload 2\n",
    "# To import modules from parent directory in Jupyter Notebook\n",
    "import sys\n",
    "\n",
    "sys.path.append(\"..\")"
   ]
  },
  {
   "cell_type": "code",
   "execution_count": 2,
   "id": "e1076b42-c9ab-4546-a009-5a8536c1d420",
   "metadata": {},
   "outputs": [],
   "source": [
    "import os\n",
    "\n",
    "import numpy as np\n",
    "import napari\n",
    "import math\n",
    "\n",
    "from config import config\n",
    "\n",
    "from data.data_processing_tools import moving_average, keep_percentile\n",
    "from utils.in_out_tools import load_movies_ids, load_annotations_ids"
   ]
  },
  {
   "cell_type": "markdown",
   "id": "49c1adc4-b5ec-4771-85f4-fee7af737fa8",
   "metadata": {},
   "source": [
    "#### Set working directories"
   ]
  },
  {
   "cell_type": "code",
   "execution_count": 3,
   "id": "6600971b-a90c-458d-9174-51b58dd36470",
   "metadata": {},
   "outputs": [],
   "source": [
    "# set working directory\n",
    "data_dir = os.path.join(\"..\", \"data\", \"raw_data_and_processing\")\n",
    "\n",
    "# set input masks directory and names\n",
    "original_masks_dir = os.path.join(\n",
    "    data_dir, \"manual_corr_separated_event_masks\"\n",
    ")  # annotation masks folder\n",
    "class_masks_name = \"corrected_label_mask_V3\"  # annotation masks to process\n",
    "event_masks_name = \"corrected_rgb_mask_V4\"  # event masks to use\n",
    "\n",
    "# set videos directory\n",
    "movies_dir = os.path.join(\n",
    "    data_dir, \"smoothed_movies\"\n",
    ")  # videos used to process the annotations\n",
    "\n",
    "# set output directory\n",
    "out_dir = os.path.join(\n",
    "    data_dir, \"unet_masks_TEST\"\n",
    ")  # save here masks ready for training\n",
    "os.makedirs(out_dir, exist_ok=True)"
   ]
  },
  {
   "cell_type": "code",
   "execution_count": 4,
   "id": "cb487781-b6bf-49a0-90e1-bdec35dba78e",
   "metadata": {},
   "outputs": [],
   "source": [
    "# list of all movie IDs\n",
    "movie_ids = [\n",
    "    \"01\",\n",
    "    \"02\",\n",
    "    \"03\",\n",
    "    \"04\",\n",
    "    \"05\",\n",
    "    \"06\",\n",
    "    \"07\",\n",
    "    \"08\",\n",
    "    \"09\",\n",
    "    \"10\",\n",
    "    \"11\",\n",
    "    \"12\",\n",
    "    \"13\",\n",
    "    \"14\",\n",
    "    \"15\",\n",
    "    \"16\",\n",
    "    \"17\",\n",
    "    \"18\",\n",
    "    \"19\",\n",
    "    \"20\",\n",
    "    \"21\",\n",
    "    \"22\",\n",
    "    \"23\",\n",
    "    \"24\",\n",
    "    \"25\",\n",
    "    \"27\",\n",
    "    \"28\",\n",
    "    \"29\",\n",
    "    \"30\",\n",
    "    \"32\",\n",
    "    \"33\",\n",
    "    \"34\",\n",
    "    \"35\",\n",
    "    \"36\",\n",
    "    \"38\",\n",
    "    \"39\",\n",
    "    \"40\",\n",
    "    \"41\",\n",
    "    \"42\",\n",
    "    \"43\",\n",
    "    \"44\",\n",
    "    \"45\",\n",
    "    \"46\",\n",
    "]"
   ]
  },
  {
   "cell_type": "markdown",
   "id": "e727577a-bdc2-4943-b6a0-66e961cfb294",
   "metadata": {},
   "source": [
    "#### Load input annotation and class masks and videos"
   ]
  },
  {
   "cell_type": "code",
   "execution_count": 5,
   "id": "d6d13ba8-bc98-48cf-b0a8-a6e02993a5cc",
   "metadata": {
    "tags": []
   },
   "outputs": [
    {
     "name": "stderr",
     "output_type": "stream",
     "text": [
      "TiffPage 0: TypeError: read_bytes() missing 3 required positional arguments: 'dtype', 'count', and 'offsetsize'\n",
      "TiffPage 0: TypeError: read_bytes() missing 3 required positional arguments: 'dtype', 'count', and 'offsetsize'\n",
      "TiffPage 0: TypeError: read_bytes() missing 3 required positional arguments: 'dtype', 'count', and 'offsetsize'\n",
      "TiffPage 0: TypeError: read_bytes() missing 3 required positional arguments: 'dtype', 'count', and 'offsetsize'\n",
      "TiffPage 0: TypeError: read_bytes() missing 3 required positional arguments: 'dtype', 'count', and 'offsetsize'\n",
      "TiffPage 0: TypeError: read_bytes() missing 3 required positional arguments: 'dtype', 'count', and 'offsetsize'\n",
      "TiffPage 0: TypeError: read_bytes() missing 3 required positional arguments: 'dtype', 'count', and 'offsetsize'\n",
      "TiffPage 0: TypeError: read_bytes() missing 3 required positional arguments: 'dtype', 'count', and 'offsetsize'\n",
      "TiffPage 0: TypeError: read_bytes() missing 3 required positional arguments: 'dtype', 'count', and 'offsetsize'\n",
      "TiffPage 0: TypeError: read_bytes() missing 3 required positional arguments: 'dtype', 'count', and 'offsetsize'\n",
      "TiffPage 0: TypeError: read_bytes() missing 3 required positional arguments: 'dtype', 'count', and 'offsetsize'\n",
      "TiffPage 0: TypeError: read_bytes() missing 3 required positional arguments: 'dtype', 'count', and 'offsetsize'\n",
      "TiffPage 0: TypeError: read_bytes() missing 3 required positional arguments: 'dtype', 'count', and 'offsetsize'\n",
      "TiffPage 0: TypeError: read_bytes() missing 3 required positional arguments: 'dtype', 'count', and 'offsetsize'\n",
      "TiffPage 0: TypeError: read_bytes() missing 3 required positional arguments: 'dtype', 'count', and 'offsetsize'\n",
      "TiffPage 0: TypeError: read_bytes() missing 3 required positional arguments: 'dtype', 'count', and 'offsetsize'\n"
     ]
    }
   ],
   "source": [
    "# load movies\n",
    "movies = load_movies_ids(\n",
    "    data_folder=movies_dir,\n",
    "    ids=movie_ids,\n",
    "    names_available=True,\n",
    "    movie_names=\"smoothed_video\",\n",
    ")"
   ]
  },
  {
   "cell_type": "code",
   "execution_count": 6,
   "id": "dd443d25-b110-4036-bf67-3e30bcf3efcf",
   "metadata": {},
   "outputs": [],
   "source": [
    "# load annotation masks\n",
    "class_masks = load_annotations_ids(\n",
    "    data_folder=original_masks_dir, ids=movie_ids, mask_names=class_masks_name\n",
    ")"
   ]
  },
  {
   "cell_type": "code",
   "execution_count": 7,
   "id": "23537b77-23ad-4a7c-b0b1-177776cdb2aa",
   "metadata": {},
   "outputs": [],
   "source": [
    "# load event masks\n",
    "event_masks = load_annotations_ids(\n",
    "    data_folder=original_masks_dir, ids=movie_ids, mask_names=event_masks_name\n",
    ")"
   ]
  },
  {
   "cell_type": "markdown",
   "id": "cb99f22f-5b4a-496c-8f47-65ec96154d0f",
   "metadata": {},
   "source": [
    "## Process movies using k-th percentile method\n",
    "\n",
    "For each spark annotation mask, compute the k-th percentile over the values of the movie in each event ROI. Then keep only the values in the ROI that are above the percentile.\n",
    "\n",
    "Ideally: 1 connected component = 1 spark"
   ]
  },
  {
   "cell_type": "code",
   "execution_count": 8,
   "id": "50cc44b8-8c09-4874-b79d-a2fef62a932a",
   "metadata": {},
   "outputs": [],
   "source": [
    "# compute shape for maximum filter -> min distance between peaks\n",
    "radius = math.ceil(config.min_dist_xy / 2)\n",
    "y, x = np.ogrid[-radius : radius + 1, -radius : radius + 1]\n",
    "disk = x**2 + y**2 <= radius**2\n",
    "min_dist_filter = np.stack([disk] * (config.min_dist_t + 1), axis=0)\n",
    "# not the same as config.conn_mask!"
   ]
  },
  {
   "cell_type": "markdown",
   "id": "87b6cbb8-9675-43d3-8df0-01d0e33585a0",
   "metadata": {},
   "source": [
    "### Process sparks for first time, using original smoothed movies\n",
    "\n",
    "Ideally: 1 connected component = 1 spark"
   ]
  },
  {
   "cell_type": "code",
   "execution_count": 9,
   "id": "65c7a76e-c9e1-420c-ba3a-c92045e44548",
   "metadata": {},
   "outputs": [],
   "source": [
    "k = 75  # choose value k of percentile\n",
    "n_iter = 2  # number of dilation/erosion iterations"
   ]
  },
  {
   "cell_type": "markdown",
   "id": "9553288f-5388-45dd-a1fc-1763d254ae4b",
   "metadata": {},
   "source": [
    "#### Compute \"percentile masks\" of a list of movies"
   ]
  },
  {
   "cell_type": "code",
   "execution_count": 20,
   "id": "909606c6-06a8-462e-a872-ba37406ce1f2",
   "metadata": {},
   "outputs": [],
   "source": [
    "# compute new percentile mask for all movies and store them in a dict\n",
    "percentile_masks = {}"
   ]
  },
  {
   "cell_type": "code",
   "execution_count": 26,
   "id": "503f0406-27ff-4608-b3a8-dce6db946055",
   "metadata": {},
   "outputs": [],
   "source": [
    "# remaining_movie_ids = [\"12\",\"19\",\"20\",\"21\"]\n",
    "remaining_movie_ids = [\"07\"]"
   ]
  },
  {
   "cell_type": "code",
   "execution_count": 27,
   "id": "bd3845c5-a67d-4f53-8cc8-805c93c1dfc3",
   "metadata": {},
   "outputs": [
    {
     "name": "stdout",
     "output_type": "stream",
     "text": [
      "List of sparks IDs in movie 07: 3573375 4342810 4385274 7251112 9400685 14726463 16370811\n"
     ]
    }
   ],
   "source": [
    "for sample_id in remaining_movie_ids:\n",
    "    movie = movies[sample_id]\n",
    "    class_mask = class_masks[sample_id]\n",
    "    event_mask = event_masks[sample_id]\n",
    "\n",
    "    # normalise input movie between 0 and 1\n",
    "    movie = (movie - movie.min()) / (movie.max() - movie.min())\n",
    "\n",
    "    # get event masks of sparks only\n",
    "    spark_events_mask = np.where(class_mask == 1, event_mask, 0)\n",
    "\n",
    "    # get spark events IDs\n",
    "    spark_events_ids = list(np.unique(spark_events_mask))\n",
    "    spark_events_ids.remove(0)\n",
    "\n",
    "    print(f\"List of sparks IDs in movie {sample_id}:\", *spark_events_ids)\n",
    "\n",
    "    # new events mask using percentile method\n",
    "    percentile_events_mask = np.zeros_like(spark_events_mask)\n",
    "\n",
    "    for spark_id in spark_events_ids:\n",
    "        event_mask = spark_events_mask == spark_id\n",
    "\n",
    "        # reduce sparks size dimension wrt to percentile\n",
    "        new_event_mask = keep_percentile(\n",
    "            movie=movie,\n",
    "            roi_mask=event_mask,\n",
    "            percentile=k,\n",
    "        )\n",
    "        percentile_events_mask[new_event_mask] = spark_id\n",
    "\n",
    "    percentile_masks[sample_id] = percentile_events_mask"
   ]
  },
  {
   "cell_type": "markdown",
   "id": "26e25e4f-305c-4298-9544-2a2751e6c6f4",
   "metadata": {},
   "source": [
    "#### Run this to analyse a single mask"
   ]
  },
  {
   "cell_type": "code",
   "execution_count": 28,
   "id": "28c07a91-3c55-4993-9bf5-245886576aa2",
   "metadata": {},
   "outputs": [
    {
     "name": "stdout",
     "output_type": "stream",
     "text": [
      "List of sparks IDs: 3573375 4342810 4385274 7251112 9400685 14726463 16370811\n"
     ]
    }
   ],
   "source": [
    "sample_id = \"07\"\n",
    "movie = movies[sample_id]\n",
    "class_mask = class_masks[sample_id]\n",
    "event_mask = event_masks[sample_id]\n",
    "\n",
    "# normalise input movie between 0 and 1\n",
    "movie = (movie - movie.min()) / (movie.max() - movie.min())\n",
    "\n",
    "# get original sparks mask and list of spark IDs\n",
    "spark_events_mask = np.where(class_mask == 1, event_mask, 0)\n",
    "spark_events_ids = list(np.unique(spark_events_mask))\n",
    "spark_events_ids.remove(0)\n",
    "\n",
    "print(\"List of sparks IDs:\", *spark_events_ids)\n",
    "\n",
    "# get percentile mask\n",
    "percentile_events_mask = percentile_masks[sample_id]"
   ]
  },
  {
   "cell_type": "code",
   "execution_count": 29,
   "id": "9603355a-c94a-4580-9f18-4e1c1c1ef784",
   "metadata": {},
   "outputs": [
    {
     "data": {
      "text/plain": [
       "array([ 64,  65,  66,  67,  68,  69,  72, 105, 106, 107, 108, 109, 110,\n",
       "       111, 112, 113, 114, 115, 116, 407, 408, 409, 410, 411, 427, 428,\n",
       "       429, 430, 431, 432, 433, 434, 435, 436, 437, 438, 479, 480],\n",
       "      dtype=int64)"
      ]
     },
     "execution_count": 29,
     "metadata": {},
     "output_type": "execute_result"
    }
   ],
   "source": [
    "np.unique(np.where(percentile_events_mask)[0])"
   ]
  },
  {
   "cell_type": "code",
   "execution_count": 30,
   "id": "e6a9db0b-f5c3-44d6-bb6b-1f32650d34d9",
   "metadata": {},
   "outputs": [
    {
     "name": "stderr",
     "output_type": "stream",
     "text": [
      "WARNING: DirectWrite: CreateFontFaceFromHDC() failed (Indicates an error in an input file such as a font file.) for QFontDef(Family=\"\", pointsize=12, pixelsize=16, styleHint=5, weight=50, stretch=100, hintingPreference=0) LOGFONT(\"MS Sans Serif\", lfWidth=0, lfHeight=-16) dpi=96\n"
     ]
    },
    {
     "data": {
      "text/plain": [
       "<Labels layer 'percentile-method spark events' at 0x20ca6b6bc40>"
      ]
     },
     "execution_count": 30,
     "metadata": {},
     "output_type": "execute_result"
    }
   ],
   "source": [
    "viewer = napari.Viewer()\n",
    "viewer.add_image(movie, name=\"movie\")\n",
    "viewer.add_labels(spark_events_mask, name=\"spark events\", opacity=0.2)\n",
    "viewer.add_labels(\n",
    "    percentile_events_mask, name=\"percentile-method spark events\", opacity=0.9\n",
    ")\n",
    "# viewer.add_labels(percentile_events_mask_0, name='percentile-method spark events no erosion/dilation')"
   ]
  },
  {
   "cell_type": "markdown",
   "id": "2b7ead07-eb51-4491-908f-dbf862bdfd92",
   "metadata": {},
   "source": [
    "## 2nd round: compute moving average on smoothed movies where sparks couldn't be correctly separated\n",
    "\n",
    "Movies that still require processing:\n",
    "\n",
    "01, 05, 08, 09, 11, 12, 19, 20, 21, 23, 24, 27, 28, 29, 30, 33, 34, 35, 36, 39, 46"
   ]
  },
  {
   "cell_type": "code",
   "execution_count": 89,
   "id": "29c7feca-33bb-46b9-a977-da39b22ab54c",
   "metadata": {},
   "outputs": [],
   "source": [
    "movie_ids_2nd_round = [\n",
    "    \"01\",\n",
    "    \"05\",\n",
    "    \"08\",\n",
    "    \"09\",\n",
    "    \"11\",\n",
    "    \"12\",\n",
    "    \"19\",\n",
    "    \"20\",\n",
    "    \"21\",\n",
    "    \"23\",\n",
    "    \"24\",\n",
    "    \"27\",\n",
    "    \"28\",\n",
    "    \"29\",\n",
    "    \"30\",\n",
    "    \"33\",\n",
    "    \"34\",\n",
    "    \"35\",\n",
    "    \"36\",\n",
    "    \"39\",\n",
    "    \"46\",\n",
    "]"
   ]
  },
  {
   "cell_type": "markdown",
   "id": "3dbf7543-8dba-41cc-ad85-954d79e098ec",
   "metadata": {},
   "source": [
    "#### Process smoothed movies and compute moving average"
   ]
  },
  {
   "cell_type": "code",
   "execution_count": 111,
   "id": "c47ff6da-d95c-4fb6-b215-86d25df8b01f",
   "metadata": {},
   "outputs": [],
   "source": [
    "# create dict that will contain the averaged movies\n",
    "averaged_movies = {}"
   ]
  },
  {
   "cell_type": "code",
   "execution_count": 155,
   "id": "063866c7-d058-4206-804c-02ae9a29a404",
   "metadata": {},
   "outputs": [],
   "source": [
    "for sample_id in movie_ids_2nd_round:\n",
    "    movie = movies[sample_id]\n",
    "    averaged_movies[sample_id] = moving_average(movie, k=3)"
   ]
  },
  {
   "cell_type": "markdown",
   "id": "9cabe6c4-96c5-4fbf-a506-6a4c5ac72515",
   "metadata": {
    "tags": []
   },
   "source": [
    "#### Compute percentile masks based on averaged movie"
   ]
  },
  {
   "cell_type": "code",
   "execution_count": 156,
   "id": "218b4e9e-c30b-48d8-954a-50522be10410",
   "metadata": {},
   "outputs": [],
   "source": [
    "# compute new percentile mask for all movies and store them in a dict\n",
    "avg_percentile_masks = {}"
   ]
  },
  {
   "cell_type": "code",
   "execution_count": 157,
   "id": "6005d138-bfd1-4e9b-969a-838227c21b53",
   "metadata": {},
   "outputs": [
    {
     "name": "stdout",
     "output_type": "stream",
     "text": [
      "List of sparks IDs in movie 01: 5 6 7 1213085 1460377 1763421 3865116 5047384 6923320 7217616 7235208 7607517 9047504 9985923 10065583 10095167 10331602 11014150 13311101 13600822 13703862 15403210 15706005\n",
      "List of sparks IDs in movie 05: 5 9 9360 114610 135712 422301 463234 633178 744573 882547 965265 1106039 1925128 1926514 2339872 2590452 2601022 2724838 3007235 3203756 4224004 4564197 5047972 5247000 5268606 5472814 5507421 5648379 6023853 6132011 6415686 6579549 7368064 7514576 7522274 8183095 8211204 8454086 8919303 9044279 9201768 9754874 9866835 9872999 9957715 10057818 10489847 11453733 11961978 12050082 13171323 13172604 13633841 13654625 13751860 13897800 14208260 14376843 14638229 14660512 15009103 16166492 16548998\n",
      "List of sparks IDs in movie 08: 6 8 255 8323328 10739877 16581375\n",
      "List of sparks IDs in movie 09: 196589 2849917 3943349 5387321 6459205 7130058 8352532 9306704 10816540 11474411 12193461 12518581 12828383 12963785 13413706 13589946 15263586 16276204\n",
      "List of sparks IDs in movie 11: 2934275 3623206 4429331 4975264 7564447 12225612 13597925 15758091 16062453\n",
      "List of sparks IDs in movie 12: 256087 363742 433067 519311 654829 728093 807520 999971 1056959 1132283 1365373 1430528 1526892 1587418 1809480 1848793 1940249 2573998 2580511 2594281 2598375 2721564 2830957 3161308 3453831 3646858 3690718 3772056 3843440 3898297 4451463 4599769 4940125 5161082 5242533 5755893 6195541 6291570 6732080 6880058 6887576 6911114 6962142 7024453 7036459 7107670 7250925 7257800 7346497 7531431 7758575 7936549 8103649 8233825 8557778 8566646 8817891 9720561 10032514 10160984 10754946 10760022 11072408 11298609 11338811 11566927 11582287 11920981 11934931 12030840 12894474 12967774 13081307 13174710 13376026 13633899 13751926 13797282 14187697 14698492 14783100 14863217 15148956 15360592 15495558 16380168 16401397 16464567\n",
      "List of sparks IDs in movie 19: 1297672 3595332 4471423 4920456 5358012 6789278 6946484 6992500 8015326 8075068 8226476 9217160 10900527 11436694 11637546 11745101 12506646 12617704 12958324 13001821 13423065 13570088 14180684 15167098 15209195\n",
      "List of sparks IDs in movie 20: 5 6 10 11 546211 661596 989820 1300734 2387352 2883767 3081912 3564133 3739375 3779753 3783906 3788768 4117744 4255677 4714277 4733847 4815052 4850979 5188524 5492455 6342663 7156555 7246178 7557899 7636667 7794833 7891951 8828824 8834200 9099021 9355712 9432550 9449080 9892398 10644315 11077170 11463960 11554461 11898130 11931351 11990296 12322074 13048254 13211395 13395869 13565218 13714101 13940562 14039811 14269538 14470335 14633126 14651712 14728993 15351217 15673764 15735983 16447215\n",
      "List of sparks IDs in movie 21: 966759 1103205 2015040 2770442 4234712 4487042 4664323 4970092 5561709 6568238 6769362 7064523 7123455 7380501 7605664 9061130 9184778 9520282 9641995 10122505 10165592 10207682 11057430 11095612 11750156 11977815 12168395 14138464 14273073 14608861 15252297 15988652 16254984 16353435\n",
      "List of sparks IDs in movie 23: 5 6 10 12 13 110353 229349 288634 326565 467673 512962 532583 623364 657041 671584 678656 821317 822748 1014012 1269614 1308452 1906058 1934928 1970787 2024835 2212728 2216398 2361589 2463444 2546813 2728230 2862445 2917844 2920075 2936059 3230349 3394938 3539198 3845505 3893308 3934833 3936598 3978423 4082270 4235404 4258225 4333946 4404668 4665569 4900233 5034758 5117222 5120779 5137788 5184123 5189813 5216314 5345623 5404696 5542965 5905689 6011772 6034962 6151637 6154186 6175701 6372533 6528621 6654089 6691479 6739506 6777564 6816355 6838912 6985378 7417443 7516695 7669692 7706836 7746468 7830287 7867989 7912466 8029524 8134414 8230225 8281439 8389543 8392995 8420093 8785787 8814286 8817568 8860843 8897318 8989544 9027649 9201021 9227071 9392501 9446500 9705487 9818659 9877888 10078062 10168561 10206402 10246044 10342267 10392687 10420824 10434013 10512452 10656443 10696271 10822420 10895056 10979483 11062783 11065223 11109797 11135005 11170984 11210703 11263374 11432754 11615136 11815678 11912987 12118104 12243942 12365700 12424978 12468497 12518479 12554001 12562006 12581436 12647511 13198055 13568654 13598356 13615914 13804999 13828539 13873128 14008077 14111616 14300116 14365328 14381179 14446540 14526543 14590744 14643197 14693887 14900537 15027298 15042064 15327548 15440237 15559480 15609166 15626029 15856770 15929260 16101282 16113631 16248310 16271645 16391315 16463706 16580698\n",
      "List of sparks IDs in movie 24: 29020 336152 733150 891478 1076914 1813672 1887795 2088233 2466339 2559776 2930558 3144602 3244765 3762786 3808646 4028392 4326235 4693472 5694383 6587599 6639157 6732689 7056378 7192807 7608053 8178442 8614839 8894431 8973605 9976188 10832149 11148655 12631210 14061318 14098982 14361999 14432587 14747394 14788796 14926727 15520080 15944341 16515630 16567286\n",
      "List of sparks IDs in movie 27: 10634 343733 796035 847081 912918 1012729 1156965 1220213 1380297 1709022 1809204 1973521 2203290 2212355 2261319 2408701 3259889 3315277 3488541 3592699 3644983 4604140 4835841 4855245 5698440 6030646 6099073 6644235 6757742 6813977 6994977 7440907 7544503 8079436 8097444 8493757 8635888 8830469 8958341 9228288 9370355 9867382 10026773 10065423 10164575 10296817 11013093 11032370 11276000 12026952 12049190 12113635 12785244 12828018 12997721 13194439 13319389 13387675 13524163 13760183 13773507 13859364 14093371 14250396 15168524 15569672 15620558 15797777 15863261 15967370 16153586 16177810 16361450\n",
      "List of sparks IDs in movie 28: 5 6 8 9 10 11 12 14 16 17 18 20 21 23 25 27 28 29 30 31 33 34 35 37 38 40 41 43 44 45 65025 65280 16581375 16581630 16632375 16646400\n",
      "List of sparks IDs in movie 29: 5 351786 687961 1102694 1130748 1547337 1630980 2273350 2344745 2672171 3268290 3428025 4112685 4229230 4252646 4775974 4980406 5039676 5348155 6345606 6353534 6465808 6473408 7344080 7627281 8142023 8298361 8450694 8516543 8726366 9964467 11781182 11904116 12006224 12179329 12386435 13528862 13604914 14190238 14568803 14734225 15372644 15580334 15781404 16590606 16605030\n",
      "List of sparks IDs in movie 30: 7 8 9 10 11 15079 226513 293033 307145 394555 716369 797564 1002928 1043677 1047835 1304223 1312626 1396022 1703310 1749736 1850539 1913348 1923258 1943438 2126284 2322343 2694502 2695815 2710827 2754602 2840777 2994998 3193033 3317290 3383034 3453931 3592233 3635052 3855560 3956950 4007753 4164658 4452066 4488809 4611315 4717532 4782653 4964527 5024135 5173512 5505659 5602896 5618513 5807301 5857183 5983640 6029888 6167988 6218951 6355451 6764190 6802747 7052921 7530324 7815718 8064084 8076338 8103175 8177059 8187756 8226528 8595618 8714781 8725042 8929908 9057883 9179391 9375316 9433195 9474081 9565863 9719696 9828895 10072828 10093661 10104056 10124119 10157821 10173400 10176329 10247606 10278604 10303794 10417792 10439798 10540068 10589330 10718334 10902033 10968607 10980883 11096064 11267356 11389105 11658745 11718322 11756086 11891255 12085327 12094639 12224762 12284418 12731376 12938685 13478063 13480865 13754537 13879185 13956325 14011946 14205745 14278198 14417055 14689965 14781582 14995372 15165713 15225077 15394196 15605213 15768962 15796824 16035596 16118512 16240744 16296060 16613968\n",
      "List of sparks IDs in movie 33: 322933 1745344 2524020 3879395 4527056 4747923 5159281 5349027 5727998 6862668 6972561 9867480 10754684 11139644 11791276 12424784 14545306 16009878\n",
      "List of sparks IDs in movie 34: 7 8 286395 503758 1145893 1834601 4298938 6216714 8438263 10538020 10573481 12271355 14335114 15492916 16145127 16380485\n",
      "List of sparks IDs in movie 35: 6 223058 448200 688987 1246149 2352444 2495642 2889855 2964884 5439214 5728718 6360106 6625189 7028853 7248105 8508743 8794858 9023255 9323422 9967906 9969732 10065488 10899810 11067066 11090715 11106725 11160070 11584814 12114165 13089761 13356009 13395119 13466553 13578846 14254612 14534109 14651920 15267821 15345751 15384501 16090447\n",
      "List of sparks IDs in movie 36: 6 7 8 9 412142 950024 1238122 1682924 1910408 3142709 3724453 5620930 6273387 6342089 6980902 8351860 9032215 10636234 10856278 11379848 12538426 12639235 12753098 13014032 13945201 13978848 14389320 14973235 15004828 15247585 15556234 15964354 16493021\n",
      "List of sparks IDs in movie 39: 9374654 10533637 10887285 14539191 16478190 16625330\n",
      "List of sparks IDs in movie 46: 6 871378 2952944 5669422 6240425 9615660 10340821 11307398 11577598 12656347 13871294 14430244 14816150 15021344 15468584\n"
     ]
    }
   ],
   "source": [
    "for sample_id in movie_ids_2nd_round:\n",
    "    movie = averaged_movies[sample_id]\n",
    "    class_mask = class_masks[sample_id]\n",
    "    event_mask = event_masks[sample_id]\n",
    "\n",
    "    # normalise input movie between 0 and 1\n",
    "    movie = (movie - movie.min()) / (movie.max() - movie.min())\n",
    "\n",
    "    # get event masks of sparks only\n",
    "    spark_events_mask = np.where(class_mask == 1, event_mask, 0)\n",
    "\n",
    "    # get spark events IDs\n",
    "    spark_events_ids = list(np.unique(spark_events_mask))\n",
    "    spark_events_ids.remove(0)\n",
    "\n",
    "    print(f\"List of sparks IDs in movie {sample_id}:\", *spark_events_ids)\n",
    "\n",
    "    # new events mask using percentile method\n",
    "    percentile_events_mask = np.zeros_like(spark_events_mask)\n",
    "\n",
    "    for spark_id in spark_events_ids:\n",
    "        event_mask = spark_events_mask == spark_id\n",
    "\n",
    "        # reduce sparks size dimension wrt to percentile\n",
    "        new_event_mask = keep_percentile(\n",
    "            movie=movie,\n",
    "            roi_mask=event_mask,\n",
    "            percentile=k,\n",
    "        )\n",
    "        percentile_events_mask[new_event_mask] = spark_id\n",
    "\n",
    "    avg_percentile_masks[sample_id] = percentile_events_mask"
   ]
  },
  {
   "cell_type": "markdown",
   "id": "3af80b34-ab94-460f-b852-38cad8f58ac7",
   "metadata": {},
   "source": [
    "#### Run this to analyse a single mask"
   ]
  },
  {
   "cell_type": "code",
   "execution_count": 256,
   "id": "8c08b1d2-9305-4c63-a912-ddb16d012a00",
   "metadata": {},
   "outputs": [
    {
     "name": "stdout",
     "output_type": "stream",
     "text": [
      "List of sparks IDs: 6 871378 2952944 5669422 6240425 9615660 10340821 11307398 11577598 12656347 13871294 14430244 14816150 15021344 15468584\n"
     ]
    }
   ],
   "source": [
    "sample_id = \"46\"\n",
    "movie = averaged_movies[sample_id]\n",
    "class_mask = class_masks[sample_id]\n",
    "event_mask = event_masks[sample_id]\n",
    "\n",
    "# normalise input movie between 0 and 1\n",
    "movie = (movie - movie.min()) / (movie.max() - movie.min())\n",
    "\n",
    "# get original sparks mask and list of spark IDs\n",
    "spark_events_mask = np.where(class_mask == 1, event_mask, 0)\n",
    "spark_events_ids = list(np.unique(spark_events_mask))\n",
    "spark_events_ids.remove(0)\n",
    "\n",
    "print(\"List of sparks IDs:\", *spark_events_ids)\n",
    "\n",
    "# get percentile mask\n",
    "percentile_events_mask = percentile_masks[sample_id]\n",
    "avg_percentile_events_mask = avg_percentile_masks[sample_id]"
   ]
  },
  {
   "cell_type": "code",
   "execution_count": 257,
   "id": "a6bc2a07-968a-43f7-a5b6-301cfd752688",
   "metadata": {},
   "outputs": [
    {
     "data": {
      "text/plain": [
       "array([ 23,  24,  25,  26,  27,  28,  60,  61,  62,  63,  64,  65,  66,\n",
       "       112, 113, 114, 126, 127, 128, 129, 130, 133, 291, 292, 293, 297,\n",
       "       298, 299, 316, 317, 318, 319, 320, 321, 322, 326, 327, 328, 329,\n",
       "       469, 470, 473, 474, 475, 476, 477, 478, 479, 480, 481, 482, 483,\n",
       "       484, 485, 486, 487, 566, 567, 568, 569, 570, 571, 581, 582, 583,\n",
       "       584, 611, 612, 613, 614, 615, 616, 617, 618, 619, 620, 621, 641,\n",
       "       642, 643, 644, 645, 646, 647, 653, 676, 677, 678, 679, 680, 685,\n",
       "       686, 687, 688, 689, 690, 691, 814, 815, 816, 817, 818, 819, 820,\n",
       "       821, 822, 823], dtype=int64)"
      ]
     },
     "execution_count": 257,
     "metadata": {},
     "output_type": "execute_result"
    }
   ],
   "source": [
    "np.unique(np.where(avg_percentile_events_mask)[0])"
   ]
  },
  {
   "cell_type": "code",
   "execution_count": 258,
   "id": "19164a09-a6f1-4ef0-a7be-6b8e37b8f28a",
   "metadata": {},
   "outputs": [
    {
     "name": "stderr",
     "output_type": "stream",
     "text": [
      "WARNING: DirectWrite: CreateFontFaceFromHDC() failed (Indicates an error in an input file such as a font file.) for QFontDef(Family=\"\", pointsize=12, pixelsize=16, styleHint=5, weight=50, stretch=100, hintingPreference=0) LOGFONT(\"MS Sans Serif\", lfWidth=0, lfHeight=-16) dpi=96\n",
      "WARNING: QWindowsWindow::setGeometry: Unable to set geometry 1090x683+3+37 on QWidgetWindow/'_QtMainWindowClassWindow'. Resulting geometry:  725x454+0+23 (frame: 8, 31, 8, 8, custom margin: 0, 0, 0, 0, minimum size: 608x555, maximum size: 16777215x16777215).\n"
     ]
    },
    {
     "data": {
      "text/plain": [
       "<Labels layer 'average percentile-method spark events' at 0x16606a31100>"
      ]
     },
     "execution_count": 258,
     "metadata": {},
     "output_type": "execute_result"
    }
   ],
   "source": [
    "viewer = napari.Viewer()\n",
    "viewer.add_image(movie, name=\"averaged movie\")\n",
    "viewer.add_labels(spark_events_mask, name=\"spark events\", opacity=0.2)\n",
    "viewer.add_labels(\n",
    "    percentile_events_mask,\n",
    "    name=\"percentile-method spark events\",\n",
    "    opacity=0.9,\n",
    "    visible=False,\n",
    ")\n",
    "viewer.add_labels(\n",
    "    avg_percentile_events_mask,\n",
    "    name=\"average percentile-method spark events\",\n",
    "    opacity=0.9,\n",
    ")"
   ]
  },
  {
   "cell_type": "code",
   "execution_count": 253,
   "id": "73fa6b7c-7c0d-43b6-a856-db180fa6db38",
   "metadata": {},
   "outputs": [
    {
     "data": {
      "text/plain": [
       "array([142, 143, 144, 145, 146, 147, 148, 149, 150, 151, 152], dtype=int64)"
      ]
     },
     "execution_count": 253,
     "metadata": {},
     "output_type": "execute_result"
    }
   ],
   "source": [
    "# get frames of an event\n",
    "n_event = 14539191\n",
    "np.unique(np.where(spark_events_mask == n_event)[0])"
   ]
  },
  {
   "cell_type": "markdown",
   "id": "d1e2d669-5dba-4ee4-9d56-ca3c220e860b",
   "metadata": {},
   "source": [
    "## Process borders\n",
    "\n",
    "11.07.2022\n",
    "\n",
    "Applicare dilation e erosion fa sì che nei bordi manchi la ROI. Per questo motivo provo ad usare la ROI pre-dilation+erosion sui bordi per vedere cosa dà come risultato.\n",
    "\n",
    "La dimensione dei bordi è "
   ]
  },
  {
   "cell_type": "code",
   "execution_count": null,
   "id": "59ab33fa-b295-4b9b-885e-aced5bb2f82f",
   "metadata": {},
   "outputs": [],
   "source": []
  }
 ],
 "metadata": {
  "kernelspec": {
   "display_name": "Python 3 (ipykernel)",
   "language": "python",
   "name": "python3"
  },
  "language_info": {
   "codemirror_mode": {
    "name": "ipython",
    "version": 3
   },
   "file_extension": ".py",
   "mimetype": "text/x-python",
   "name": "python",
   "nbconvert_exporter": "python",
   "pygments_lexer": "ipython3",
   "version": "3.10.13"
  }
 },
 "nbformat": 4,
 "nbformat_minor": 5
}
