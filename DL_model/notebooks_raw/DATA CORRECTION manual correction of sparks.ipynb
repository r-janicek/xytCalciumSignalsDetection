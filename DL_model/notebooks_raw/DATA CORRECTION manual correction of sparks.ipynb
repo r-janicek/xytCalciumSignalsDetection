{
 "cells": [
  {
   "cell_type": "markdown",
   "id": "05effa19-f13c-4995-a858-316ea5802ca2",
   "metadata": {
    "tags": []
   },
   "source": [
    "# Correzione manuale degli sparks\n",
    "\n",
    "- generare automaticamente file excel/csv che contiene lista # events per ogni video con params:\n",
    "    - `Movie ID`; `# event`; `duration`; `radius`; `# pixels`\n",
    "    - File salvato in  `data/raw_data_and_processing/manual_corr_separated_events_masks/sparks_analysis.xlsx`\n",
    "- ordinare gli eventi dal più grande al più piccolo e correggerli manualmente partendo dal più grande\n",
    "- Load **XX_corrected_rgb_mask_V4.tif** and **XX_corrected_label_mask_V3.tif** and save as **XX_corrected_rgb_mask_SPARKS.tif** and **XX_corrected_label_mask_SPARKS.tif**\n",
    "\n",
    "\n",
    "**REMARKS**  \n",
    "This file was only use for our specific dataset creation --> does not need to be released on GitHub.\n",
    "\n",
    "Author: Prisca Dotti  \n",
    "Last modified: 03.10.2023"
   ]
  },
  {
   "cell_type": "code",
   "execution_count": 1,
   "id": "ec8c2a98-25be-4d95-abc8-91c324e6b4da",
   "metadata": {},
   "outputs": [],
   "source": [
    "# autoreload is used to reload modules automatically before entering the\n",
    "# execution of code typed at the IPython prompt.\n",
    "%load_ext autoreload\n",
    "%autoreload 2\n",
    "# To import modules from parent directory in Jupyter Notebook\n",
    "import sys\n",
    "\n",
    "sys.path.append(\"..\")"
   ]
  },
  {
   "cell_type": "code",
   "execution_count": 4,
   "id": "7139a784-690b-456a-855f-16db08aa81ae",
   "metadata": {},
   "outputs": [],
   "source": [
    "import os\n",
    "import imageio\n",
    "import napari\n",
    "import pandas as pd\n",
    "import math\n",
    "import numpy as np\n",
    "from scipy import ndimage as ndi\n",
    "\n",
    "from skimage.segmentation import watershed\n",
    "\n",
    "from data.data_processing_tools import (\n",
    "    simple_nonmaxima_suppression,\n",
    "    moving_average,\n",
    "    analyse_spark_roi,\n",
    ")\n",
    "from utils.in_out_tools import load_movies_ids, load_annotations_ids\n",
    "from utils.visualization_tools import get_discrete_cmap\n",
    "\n",
    "from config import config"
   ]
  },
  {
   "cell_type": "code",
   "execution_count": 5,
   "id": "66ecdb5e-374b-4bf9-9421-220d4dab766d",
   "metadata": {},
   "outputs": [],
   "source": [
    "# movie_ids = [\"01\",\"02\",\"03\",\"04\",\"05\",\"06\",\"07\",\"08\",\"09\",\n",
    "#             \"10\",\"11\",\"12\",\"13\",\"14\",\"15\",\"16\",\"17\",\"18\",\"19\",\n",
    "#             \"20\",\"21\",\"22\",\"23\",\"24\",\"25\",\"27\",\"28\",\"29\",\n",
    "#             \"30\",\"32\",\"33\",\"34\",\"35\",\"36\",\"38\",\"39\",\n",
    "#             \"40\",\"41\",\"42\",\"43\",\"44\",\"45\",\"46\"\n",
    "#            ]\n",
    "movie_ids = [\"07\"]"
   ]
  },
  {
   "cell_type": "code",
   "execution_count": 6,
   "id": "9fda6015-4a7e-4609-814d-49d19a6e2147",
   "metadata": {},
   "outputs": [],
   "source": [
    "data_dir = os.path.join(\"..\", \"data\", \"raw_data_and_processing\")"
   ]
  },
  {
   "cell_type": "markdown",
   "id": "13d3ac2d-0eef-4a39-9037-39d3a81277d6",
   "metadata": {
    "tags": []
   },
   "source": [
    "### directory where corrected masks are saved"
   ]
  },
  {
   "cell_type": "code",
   "execution_count": 7,
   "id": "4f27e7e9-1938-4077-9e45-c01547edf703",
   "metadata": {},
   "outputs": [],
   "source": [
    "# directory where corrected movies are saved\n",
    "corr_dir = os.path.join(data_dir, \"manual_corr_separated_event_masks\")\n",
    "os.makedirs(corr_dir, exist_ok=True)"
   ]
  },
  {
   "cell_type": "markdown",
   "id": "c36876dd-ecd6-4f66-9da4-3f187c6d1633",
   "metadata": {
    "tags": []
   },
   "source": [
    "## Save sparks list to excel file"
   ]
  },
  {
   "cell_type": "markdown",
   "id": "41b25e81-864b-447d-b787-30cb5263e62e",
   "metadata": {
    "tags": []
   },
   "source": [
    "### sparks list filename"
   ]
  },
  {
   "cell_type": "code",
   "execution_count": 8,
   "id": "4cb32027-fd05-4232-803b-a3e24955d756",
   "metadata": {},
   "outputs": [],
   "source": [
    "# filename = 'sparks_analysis.xlsx'\n",
    "filename = \"sparks_analysis_07.xlsx\""
   ]
  },
  {
   "cell_type": "markdown",
   "id": "7b98fb3e-9e62-4699-b3a7-f8ed4574b2a4",
   "metadata": {},
   "source": [
    "### function to analyse given spark"
   ]
  },
  {
   "cell_type": "markdown",
   "id": "b519dea7-5163-4cef-be26-053ee0006aa6",
   "metadata": {},
   "source": [
    "### for each movie, add list of file in pandas dataframe"
   ]
  },
  {
   "cell_type": "code",
   "execution_count": 11,
   "id": "5f6c1e3a-2bfb-4ef9-997a-8da5dacb96bc",
   "metadata": {},
   "outputs": [
    {
     "name": "stdout",
     "output_type": "stream",
     "text": [
      "07\n"
     ]
    },
    {
     "ename": "FileNotFoundError",
     "evalue": "No such file: 'c:\\Users\\dotti\\sparks_project\\data\\raw_data_and_processing\\manual_corr_separated_event_masks\\07_corrected_rgb_mask_V4.tif'",
     "output_type": "error",
     "traceback": [
      "\u001b[1;31m---------------------------------------------------------------------------\u001b[0m",
      "\u001b[1;31mFileNotFoundError\u001b[0m                         Traceback (most recent call last)",
      "Cell \u001b[1;32mIn[11], line 8\u001b[0m\n\u001b[0;32m      6\u001b[0m \u001b[39mprint\u001b[39m(movie_id)\n\u001b[0;32m      7\u001b[0m \u001b[39m# open events mask and label mask\u001b[39;00m\n\u001b[1;32m----> 8\u001b[0m events_mask \u001b[39m=\u001b[39m load_annotations_ids(data_folder\u001b[39m=\u001b[39;49mcorr_dir, \n\u001b[0;32m      9\u001b[0m                                    ids\u001b[39m=\u001b[39;49m[movie_id], \n\u001b[0;32m     10\u001b[0m                                    mask_names\u001b[39m=\u001b[39;49m\u001b[39m\"\u001b[39;49m\u001b[39mcorrected_rgb_mask_V4\u001b[39;49m\u001b[39m\"\u001b[39;49m)[movie_id]\n\u001b[0;32m     11\u001b[0m classes_mask \u001b[39m=\u001b[39m load_annotations_ids(data_folder\u001b[39m=\u001b[39mcorr_dir, \n\u001b[0;32m     12\u001b[0m                                     ids\u001b[39m=\u001b[39m[movie_id], \n\u001b[0;32m     13\u001b[0m                                     mask_names\u001b[39m=\u001b[39m\u001b[39m\"\u001b[39m\u001b[39mcorrected_label_mask_V3\u001b[39m\u001b[39m\"\u001b[39m)[movie_id]\n\u001b[0;32m     15\u001b[0m \u001b[39m# get sparks mask\u001b[39;00m\n",
      "File \u001b[1;32mc:\\Users\\dotti\\sparks_project\\sparks\\in_out_tools.py:96\u001b[0m, in \u001b[0;36mload_annotations_ids\u001b[1;34m(data_folder, ids, mask_names)\u001b[0m\n\u001b[0;32m     94\u001b[0m \u001b[39mfor\u001b[39;00m f \u001b[39min\u001b[39;00m ys_filenames:\n\u001b[0;32m     95\u001b[0m     video_id \u001b[39m=\u001b[39m os\u001b[39m.\u001b[39mpath\u001b[39m.\u001b[39msplit(f)[\u001b[39m1\u001b[39m][:\u001b[39m2\u001b[39m]\n\u001b[1;32m---> 96\u001b[0m     ys_all_trainings[video_id] \u001b[39m=\u001b[39m np\u001b[39m.\u001b[39masarray(imageio\u001b[39m.\u001b[39;49mvolread(f))\u001b[39m.\u001b[39mastype(\u001b[39m\"\u001b[39m\u001b[39mint\u001b[39m\u001b[39m\"\u001b[39m)\n\u001b[0;32m     98\u001b[0m \u001b[39mreturn\u001b[39;00m ys_all_trainings\n",
      "File \u001b[1;32mc:\\Users\\dotti\\.conda\\envs\\sparks\\lib\\site-packages\\imageio\\v2.py:358\u001b[0m, in \u001b[0;36mvolread\u001b[1;34m(uri, format, **kwargs)\u001b[0m\n\u001b[0;32m    356\u001b[0m imopen_args \u001b[39m=\u001b[39m decypher_format_arg(\u001b[39mformat\u001b[39m)\n\u001b[0;32m    357\u001b[0m imopen_args[\u001b[39m\"\u001b[39m\u001b[39mlegacy_mode\u001b[39m\u001b[39m\"\u001b[39m] \u001b[39m=\u001b[39m \u001b[39mTrue\u001b[39;00m\n\u001b[1;32m--> 358\u001b[0m \u001b[39mwith\u001b[39;00m imopen(uri, \u001b[39m\"\u001b[39;49m\u001b[39mrv\u001b[39;49m\u001b[39m\"\u001b[39;49m, \u001b[39m*\u001b[39;49m\u001b[39m*\u001b[39;49mimopen_args) \u001b[39mas\u001b[39;00m file:\n\u001b[0;32m    359\u001b[0m     \u001b[39mreturn\u001b[39;00m file\u001b[39m.\u001b[39mread(index\u001b[39m=\u001b[39m\u001b[39m0\u001b[39m, \u001b[39m*\u001b[39m\u001b[39m*\u001b[39mkwargs)\n",
      "File \u001b[1;32mc:\\Users\\dotti\\.conda\\envs\\sparks\\lib\\site-packages\\imageio\\core\\imopen.py:118\u001b[0m, in \u001b[0;36mimopen\u001b[1;34m(uri, io_mode, plugin, extension, format_hint, legacy_mode, **kwargs)\u001b[0m\n\u001b[0;32m    116\u001b[0m     request\u001b[39m.\u001b[39mformat_hint \u001b[39m=\u001b[39m format_hint\n\u001b[0;32m    117\u001b[0m \u001b[39melse\u001b[39;00m:\n\u001b[1;32m--> 118\u001b[0m     request \u001b[39m=\u001b[39m Request(uri, io_mode, format_hint\u001b[39m=\u001b[39;49mformat_hint, extension\u001b[39m=\u001b[39;49mextension)\n\u001b[0;32m    120\u001b[0m source \u001b[39m=\u001b[39m \u001b[39m\"\u001b[39m\u001b[39m<bytes>\u001b[39m\u001b[39m\"\u001b[39m \u001b[39mif\u001b[39;00m \u001b[39misinstance\u001b[39m(uri, \u001b[39mbytes\u001b[39m) \u001b[39melse\u001b[39;00m uri\n\u001b[0;32m    122\u001b[0m \u001b[39m# fast-path based on plugin\u001b[39;00m\n\u001b[0;32m    123\u001b[0m \u001b[39m# (except in legacy mode)\u001b[39;00m\n",
      "File \u001b[1;32mc:\\Users\\dotti\\.conda\\envs\\sparks\\lib\\site-packages\\imageio\\core\\request.py:248\u001b[0m, in \u001b[0;36mRequest.__init__\u001b[1;34m(self, uri, mode, extension, format_hint, **kwargs)\u001b[0m\n\u001b[0;32m    245\u001b[0m     \u001b[39mraise\u001b[39;00m \u001b[39mValueError\u001b[39;00m(\u001b[39mf\u001b[39m\u001b[39m\"\u001b[39m\u001b[39mInvalid Request.Mode: \u001b[39m\u001b[39m{\u001b[39;00mmode\u001b[39m}\u001b[39;00m\u001b[39m\"\u001b[39m)\n\u001b[0;32m    247\u001b[0m \u001b[39m# Parse what was given\u001b[39;00m\n\u001b[1;32m--> 248\u001b[0m \u001b[39mself\u001b[39;49m\u001b[39m.\u001b[39;49m_parse_uri(uri)\n\u001b[0;32m    250\u001b[0m \u001b[39m# Set extension\u001b[39;00m\n\u001b[0;32m    251\u001b[0m \u001b[39mif\u001b[39;00m extension \u001b[39mis\u001b[39;00m \u001b[39mnot\u001b[39;00m \u001b[39mNone\u001b[39;00m:\n",
      "File \u001b[1;32mc:\\Users\\dotti\\.conda\\envs\\sparks\\lib\\site-packages\\imageio\\core\\request.py:407\u001b[0m, in \u001b[0;36mRequest._parse_uri\u001b[1;34m(self, uri)\u001b[0m\n\u001b[0;32m    404\u001b[0m \u001b[39mif\u001b[39;00m is_read_request:\n\u001b[0;32m    405\u001b[0m     \u001b[39m# Reading: check that the file exists (but is allowed a dir)\u001b[39;00m\n\u001b[0;32m    406\u001b[0m     \u001b[39mif\u001b[39;00m \u001b[39mnot\u001b[39;00m os\u001b[39m.\u001b[39mpath\u001b[39m.\u001b[39mexists(fn):\n\u001b[1;32m--> 407\u001b[0m         \u001b[39mraise\u001b[39;00m \u001b[39mFileNotFoundError\u001b[39;00m(\u001b[39m\"\u001b[39m\u001b[39mNo such file: \u001b[39m\u001b[39m'\u001b[39m\u001b[39m%s\u001b[39;00m\u001b[39m'\u001b[39m\u001b[39m\"\u001b[39m \u001b[39m%\u001b[39m fn)\n\u001b[0;32m    408\u001b[0m \u001b[39melse\u001b[39;00m:\n\u001b[0;32m    409\u001b[0m     \u001b[39m# Writing: check that the directory to write to does exist\u001b[39;00m\n\u001b[0;32m    410\u001b[0m     dn \u001b[39m=\u001b[39m os\u001b[39m.\u001b[39mpath\u001b[39m.\u001b[39mdirname(fn)\n",
      "\u001b[1;31mFileNotFoundError\u001b[0m: No such file: 'c:\\Users\\dotti\\sparks_project\\data\\raw_data_and_processing\\manual_corr_separated_event_masks\\07_corrected_rgb_mask_V4.tif'"
     ]
    }
   ],
   "source": [
    "# create pandas dataframe\n",
    "cols = [\"Movie ID\", \"# event\", \"duration\", \"radius\", \"# pixels\"]\n",
    "sparks_df = pd.DataFrame(columns=cols)\n",
    "\n",
    "for movie_id in movie_ids:\n",
    "    print(movie_id)\n",
    "    # open events mask and label mask\n",
    "    events_mask = load_annotations_ids(\n",
    "        data_folder=corr_dir, ids=[movie_id], mask_names=\"corrected_rgb_mask_V4\"\n",
    "    )[movie_id]\n",
    "    classes_mask = load_annotations_ids(\n",
    "        data_folder=corr_dir, ids=[movie_id], mask_names=\"corrected_label_mask_V3\"\n",
    "    )[movie_id]\n",
    "\n",
    "    # get sparks mask\n",
    "    sparks_event_mask = np.where(classes_mask == 1, events_mask, 0)\n",
    "\n",
    "    # get list of spark IDs\n",
    "    spark_events_ids = list(np.unique(sparks_event_mask))\n",
    "    spark_events_ids.remove(0)\n",
    "\n",
    "    # add each spark to the dataframe\n",
    "    for spark_id in spark_events_ids:\n",
    "        spark_mask = sparks_event_mask == spark_id\n",
    "        duration, radius, n_pixels = analyse_spark_roi(spark_mask)\n",
    "\n",
    "        df = pd.DataFrame(\n",
    "            [[movie_id, spark_id, duration, radius, n_pixels]], columns=cols\n",
    "        )\n",
    "        sparks_df = sparks_df.append(df)"
   ]
  },
  {
   "cell_type": "markdown",
   "id": "04733e1d-3dc0-434b-be52-49a9167f0dc2",
   "metadata": {},
   "source": [
    "### save dataframe to excel file"
   ]
  },
  {
   "cell_type": "code",
   "execution_count": 10,
   "id": "54396da0-1bb0-4c57-8433-eae7e6f8be1c",
   "metadata": {},
   "outputs": [],
   "source": [
    "sparks_df.to_excel(os.path.join(corr_dir, filename), index=False)"
   ]
  },
  {
   "cell_type": "markdown",
   "id": "74ba51d9-9c72-47ec-9361-7c080956ab11",
   "metadata": {},
   "source": [
    "## REMARK: Filter out events that cannot be more than one spark\n",
    "\n",
    "### Physiological params\n",
    "- 1 pixel = 0.2 um x 0.2 um\n",
    "- min distance in space between event centroids: 1.8 um\n",
    "- 1 frame = 6.8 ms\n",
    "- min distance in time between events: 20 ms"
   ]
  },
  {
   "cell_type": "markdown",
   "id": "271cdc23-b547-4237-bade-1eb4e5554597",
   "metadata": {
    "tags": []
   },
   "source": [
    "14.07.2022\n",
    "\n",
    "## Correct manually events from largest to smallest\n",
    "\n",
    "Starting from biggest event (in # pixels), correct them until it seems that the events contain only one spark.\n",
    "\n",
    "Le modifiche sono registrate in  `data/raw_data_and_processing/manual_corr_separated_events_masks/sparks_analysis_PROCESSED.xlsx`"
   ]
  },
  {
   "cell_type": "code",
   "execution_count": 37,
   "id": "9d6c0fd2-c41c-4983-b619-221b5178e310",
   "metadata": {},
   "outputs": [
    {
     "data": {
      "text/plain": [
       "43"
      ]
     },
     "execution_count": 37,
     "metadata": {},
     "output_type": "execute_result"
    }
   ],
   "source": [
    "modified = [\n",
    "    \"01\",\n",
    "    \"02\",\n",
    "    \"03\",\n",
    "    \"04\",\n",
    "    \"05\",\n",
    "    \"06\",\n",
    "    \"07\",\n",
    "    \"08\",\n",
    "    \"09\",\n",
    "    \"10\",\n",
    "    \"11\",\n",
    "    \"12\",\n",
    "    \"13\",\n",
    "    \"14\",\n",
    "    \"15\",\n",
    "    \"16\",\n",
    "    \"17\",\n",
    "    \"18\",\n",
    "    \"19\",\n",
    "    \"20\",\n",
    "    \"21\",\n",
    "    \"22\",\n",
    "    \"23\",\n",
    "    \"24\",\n",
    "    \"25\",\n",
    "    \"27\",\n",
    "    \"28\",\n",
    "    \"29\",\n",
    "    \"30\",\n",
    "    \"32\",\n",
    "    \"33\",\n",
    "    \"34\",\n",
    "    \"35\",\n",
    "    \"36\",\n",
    "    \"38\",\n",
    "    \"39\",\n",
    "    \"40\",\n",
    "    \"41\",\n",
    "    \"42\",\n",
    "    \"43\",\n",
    "    \"44\",\n",
    "    \"45\",\n",
    "    \"46\",\n",
    "]\n",
    "len(modified)"
   ]
  },
  {
   "cell_type": "code",
   "execution_count": 12,
   "id": "bdb891d3-e204-49b5-91dd-c6ee09cdae4d",
   "metadata": {},
   "outputs": [],
   "source": [
    "# set smooth movies directory\n",
    "smooth_movies_dir = os.path.join(data_dir, \"smoothed_movies\")"
   ]
  },
  {
   "cell_type": "markdown",
   "id": "2656383f-a615-4f3f-a6f2-1ac17a1468ca",
   "metadata": {
    "tags": []
   },
   "source": [
    "### General tools "
   ]
  },
  {
   "cell_type": "markdown",
   "id": "a9ab5b4c-a690-418b-aea5-b33b2db6f0b5",
   "metadata": {
    "tags": []
   },
   "source": [
    "#### Create LUT for smooth movie"
   ]
  },
  {
   "cell_type": "code",
   "execution_count": 14,
   "id": "275d23bc-5d2d-47e2-9132-92d83374d9da",
   "metadata": {},
   "outputs": [],
   "source": [
    "cmap = get_discrete_cmap(name=\"gray\", lut=16)"
   ]
  },
  {
   "cell_type": "markdown",
   "id": "3bfe42c1-4842-492f-979c-7028d9fb736c",
   "metadata": {},
   "source": [
    "#### Function to compute moving average"
   ]
  },
  {
   "cell_type": "markdown",
   "id": "b13275fb-2d96-4729-8560-cd8b978cbf1a",
   "metadata": {},
   "source": [
    "#### General tools for wathershed algo"
   ]
  },
  {
   "cell_type": "code",
   "execution_count": 17,
   "id": "50cc44b8-8c09-4874-b79d-a2fef62a932a",
   "metadata": {},
   "outputs": [],
   "source": [
    "# compute shape for maximum filter -> min distance between peaks\n",
    "radius = math.ceil(config.min_dist_xy / 2)\n",
    "y, x = np.ogrid[-radius : radius + 1, -radius : radius + 1]\n",
    "disk_xy = x**2 + y**2 <= radius**2\n",
    "min_dist_filter = np.stack([disk_xy] * (config.min_dist_t + 1), axis=0)\n",
    "# not the same as config.conn_mask !"
   ]
  },
  {
   "cell_type": "markdown",
   "id": "7800cf0e-71ff-4b2f-85b2-5bfbba500e80",
   "metadata": {},
   "source": [
    "### Correct single event interactively on Napari\n",
    "\n",
    "!!!! IF MOVIE HAS ALREADY BEEN PROCESSED, LOAD `_SPARK` VERSION OF MASKS !!!!"
   ]
  },
  {
   "cell_type": "code",
   "execution_count": 20,
   "id": "02ba4f1f-f023-487d-8e58-93f5d2729a3e",
   "metadata": {},
   "outputs": [],
   "source": [
    "# select movie to be opened\n",
    "movie_id = \"07\""
   ]
  },
  {
   "cell_type": "code",
   "execution_count": 21,
   "id": "ea179e0c-b4b2-4190-8ba4-967d4db1cfc9",
   "metadata": {},
   "outputs": [],
   "source": [
    "# open smooth movie, class and event labels\n",
    "event_mask_name = \"corrected_rgb_mask_\" + (\n",
    "    \"V4\" if movie_id not in modified else \"SPARKS\"\n",
    ")\n",
    "classes_mask_name = \"corrected_label_mask_\" + (\n",
    "    \"V3\" if movie_id not in modified else \"SPARKS\"\n",
    ")\n",
    "\n",
    "movie = load_movies_ids(\n",
    "    data_folder=smooth_movies_dir,\n",
    "    ids=[movie_id],\n",
    "    names_available=True,\n",
    "    movie_names=\"smoothed_video\",\n",
    ")[movie_id]\n",
    "\n",
    "events_mask = load_annotations_ids(\n",
    "    data_folder=corr_dir, ids=[movie_id], mask_names=event_mask_name\n",
    ")[movie_id]\n",
    "\n",
    "classes_mask = load_annotations_ids(\n",
    "    data_folder=corr_dir, ids=[movie_id], mask_names=classes_mask_name\n",
    ")[movie_id]"
   ]
  },
  {
   "cell_type": "code",
   "execution_count": 397,
   "id": "a9cd2065-40c2-4044-8720-f5a1799b7087",
   "metadata": {},
   "outputs": [],
   "source": [
    "spark_ids = [4429331, 15758091, 16062453, 12225612, 4975264, 2934275, 13597925, 3623206]"
   ]
  },
  {
   "cell_type": "code",
   "execution_count": 34,
   "id": "d2e8eef5-afb2-4370-89b2-3b76ec273af7",
   "metadata": {},
   "outputs": [],
   "source": [
    "# select event(s) to be opened\n",
    "spark_id = 14726463\n",
    "spark_ids = [spark_id]"
   ]
  },
  {
   "cell_type": "markdown",
   "id": "ee4b0e6f-0afd-46f9-bd2d-fe211f2d65ef",
   "metadata": {},
   "source": [
    "#### Visualise smooth movie and event\n",
    "Corrections have to be done on `events_mask` and `classes_mask`"
   ]
  },
  {
   "cell_type": "code",
   "execution_count": 35,
   "id": "cf101326-53be-4f39-bb97-b2d925094b43",
   "metadata": {
    "tags": []
   },
   "outputs": [
    {
     "name": "stderr",
     "output_type": "stream",
     "text": [
      "WARNING: DirectWrite: CreateFontFaceFromHDC() failed (Indicates an error in an input file such as a font file.) for QFontDef(Family=\"\", pointsize=12, pixelsize=16, styleHint=5, weight=50, stretch=100, hintingPreference=0) LOGFONT(\"MS Sans Serif\", lfWidth=0, lfHeight=-16) dpi=96\n"
     ]
    },
    {
     "name": "stdout",
     "output_type": "stream",
     "text": [
      "frames containing event 14726463: [434, 435, 436]\n"
     ]
    },
    {
     "data": {
      "text/plain": [
       "<Labels layer 'event to analyse' at 0x13c916efca0>"
      ]
     },
     "execution_count": 35,
     "metadata": {},
     "output_type": "execute_result"
    }
   ],
   "source": [
    "# get sparks mask\n",
    "sparks_event_mask = np.where(classes_mask == 1, events_mask, 0)\n",
    "\n",
    "# get list of spark IDs\n",
    "spark_events_ids = list(np.unique(sparks_event_mask))\n",
    "spark_events_ids.remove(0)\n",
    "\n",
    "# get mask with sparks to be analised\n",
    "spark_mask = np.zeros_like(sparks_event_mask)\n",
    "for spark_id in spark_ids:\n",
    "    spark_mask += np.where(sparks_event_mask == spark_id, sparks_event_mask, 0)\n",
    "\n",
    "    print(\n",
    "        f\"frames containing event {spark_id}: {list(np.unique((np.where(sparks_event_mask == spark_id)[0])))}\"\n",
    "    )\n",
    "\n",
    "viewer = napari.Viewer()\n",
    "viewer.add_image(movie, name=\"smooth movie\", colormap=(\"colors\", cmap))\n",
    "\n",
    "viewer.add_labels(events_mask, name=\"events labels\", opacity=0.5, visible=False)\n",
    "\n",
    "viewer.add_labels(classes_mask, name=\"classes labels\", opacity=0.5, visible=False)\n",
    "\n",
    "viewer.add_labels(\n",
    "    sparks_event_mask, name=\"sparks event mask\", opacity=0.2, visible=True\n",
    ")\n",
    "\n",
    "viewer.add_labels(spark_mask, name=\"event to analyse\", opacity=0.6, visible=True)"
   ]
  },
  {
   "cell_type": "markdown",
   "id": "ecbf16a8-2b1a-47fd-ab90-8a5c9bad9654",
   "metadata": {},
   "source": [
    "#### Run this to save new masks"
   ]
  },
  {
   "cell_type": "code",
   "execution_count": 36,
   "id": "9c5546f9-de5f-471e-a557-eaa74936d55b",
   "metadata": {},
   "outputs": [
    {
     "name": "stdout",
     "output_type": "stream",
     "text": [
      "Modified movies: ['01', '02', '03', '04', '05', '06', '08', '09', '10', '11', '12', '13', '14', '15', '16', '17', '18', '19', '20', '21', '22', '23', '24', '25', '27', '28', '29', '30', '32', '33', '34', '35', '36', '38', '39', '40', '41', '42', '43', '44', '45', '46', '07']\n"
     ]
    }
   ],
   "source": [
    "imageio.volwrite(\n",
    "    os.path.join(corr_dir, movie_id + \"_corrected_rgb_mask_SPARKS.tif\"), events_mask\n",
    ")\n",
    "imageio.volwrite(\n",
    "    os.path.join(corr_dir, movie_id + \"_corrected_label_mask_SPARKS.tif\"), classes_mask\n",
    ")\n",
    "\n",
    "modified.append(movie_id)\n",
    "print(\"Modified movies:\", modified)"
   ]
  },
  {
   "cell_type": "markdown",
   "id": "1ea53dde-acec-4dc9-99a9-89f76ddfd625",
   "metadata": {
    "tags": []
   },
   "source": [
    "#### Run this to change class of a # event"
   ]
  },
  {
   "cell_type": "code",
   "execution_count": 314,
   "id": "e08fb17b-e491-48a7-9074-47ec5574dfb3",
   "metadata": {},
   "outputs": [],
   "source": [
    "n_event = 8\n",
    "new_class = 4\n",
    "\n",
    "classes_mask = np.where(events_mask == n_event, new_class, classes_mask)"
   ]
  },
  {
   "cell_type": "markdown",
   "id": "d7e9e0ca-c46b-4fb6-85c2-c948e870d2be",
   "metadata": {},
   "source": [
    "#### Run this to get list of events"
   ]
  },
  {
   "cell_type": "code",
   "execution_count": 399,
   "id": "d5f7f3d3-35b7-4385-a35c-b88ea44f4dc5",
   "metadata": {},
   "outputs": [
    {
     "name": "stdout",
     "output_type": "stream",
     "text": [
      "Movie ID 11\n",
      "[5, 6, 7, 2294, 161952, 1132609, 1693437, 2934275, 2936115, 3623206, 4383668, 4429331, 4975264, 5176013, 5549575, 5873836, 7266172, 7547622, 7564447, 8864374, 8906090, 9725835, 10776718, 12225612, 12864277, 12995516, 13208235, 13597925, 15326058, 15758091, 16062453, 16376841]\n"
     ]
    }
   ],
   "source": [
    "print(\"Movie ID\", movie_id)\n",
    "list_events = list(np.unique(events_mask))\n",
    "list_events.remove(0)\n",
    "print(list_events)"
   ]
  },
  {
   "cell_type": "markdown",
   "id": "8fb91100-6ce7-4e0f-8e55-5eefbae23d1c",
   "metadata": {
    "tags": []
   },
   "source": [
    "#### Run this to get smoother version of smooth movie"
   ]
  },
  {
   "cell_type": "code",
   "execution_count": 402,
   "id": "bb20ba42-32f3-47e3-88d5-31b1c6cbb537",
   "metadata": {},
   "outputs": [],
   "source": [
    "smoother_movie = moving_average(movie, k=3)"
   ]
  },
  {
   "cell_type": "code",
   "execution_count": 297,
   "id": "cca44240-0949-44e6-ad9a-ee42fea9bef8",
   "metadata": {},
   "outputs": [],
   "source": [
    "imageio.volwrite(\"TEST_SMOOTH.tif\", smoother_movie)"
   ]
  },
  {
   "cell_type": "code",
   "execution_count": 403,
   "id": "f2b178e5-5bff-4bd6-8d39-bc3412d01793",
   "metadata": {},
   "outputs": [
    {
     "data": {
      "text/plain": [
       "<Image layer 'smoother movie' at 0x11ad3bc1910>"
      ]
     },
     "execution_count": 403,
     "metadata": {},
     "output_type": "execute_result"
    }
   ],
   "source": [
    "viewer.add_image(smoother_movie, name=\"smoother movie\", colormap=(\"colors\", cmap))"
   ]
  },
  {
   "cell_type": "markdown",
   "id": "b69b65e9-0c03-4997-bae0-963679ddbfc4",
   "metadata": {},
   "source": [
    "### Run this to separate given event using watershed segmentation"
   ]
  },
  {
   "cell_type": "markdown",
   "id": "7bc36133-a379-4f3c-8c7c-6eb97c47d595",
   "metadata": {
    "tags": []
   },
   "source": [
    "#### Compute distance from event edge"
   ]
  },
  {
   "cell_type": "code",
   "execution_count": 575,
   "id": "325f6eef-66a6-4033-adb2-b8a5a80f1864",
   "metadata": {},
   "outputs": [],
   "source": [
    "distances = ndi.distance_transform_edt(spark_mask.astype(bool))"
   ]
  },
  {
   "cell_type": "markdown",
   "id": "ed8d3f02-9b8f-4b81-bafa-1b36cba13ebf",
   "metadata": {},
   "source": [
    "#### Compute markers with nonmaxima suppression"
   ]
  },
  {
   "cell_type": "code",
   "execution_count": 570,
   "id": "eebeedd0-2594-4799-9bf0-87c9a48b31f6",
   "metadata": {},
   "outputs": [],
   "source": [
    "# can try this instead of nonmaxima_suppression\n",
    "# need first to smooth movie\n",
    "\"\"\"coords = peak_local_max(distances, \n",
    "                        footprint=min_dist_filter, \n",
    "                        labels=spark_mask.astype(bool))\"\"\""
   ]
  },
  {
   "cell_type": "code",
   "execution_count": 355,
   "id": "3bd43845-855d-4c10-8be6-7b5216c40d0f",
   "metadata": {},
   "outputs": [
    {
     "name": "stdout",
     "output_type": "stream",
     "text": [
      "Sparks peaks found: [[428  36 349]\n",
      " [434  35 346]\n",
      " [438  35 344]]\n"
     ]
    }
   ],
   "source": [
    "coords, max_mask = simple_nonmaxima_suppression(\n",
    "    input_array=movie,\n",
    "    # input_array=smoother_movie,\n",
    "    min_distance=min_dist_filter,\n",
    "    mask=spark_mask,\n",
    "    threshold=0.0,\n",
    "    sigma=1,\n",
    ")\n",
    "\n",
    "print(\"Sparks peaks found:\", coords)\n",
    "\n",
    "markers, _ = ndi.label(max_mask)"
   ]
  },
  {
   "cell_type": "markdown",
   "id": "0f391f16-90d3-4d5e-9702-938ad6122d9c",
   "metadata": {
    "tags": []
   },
   "source": [
    "#### Select markers manually"
   ]
  },
  {
   "cell_type": "code",
   "execution_count": 358,
   "id": "ea96718d-43c4-4c27-9c50-8eb91aaa20c2",
   "metadata": {},
   "outputs": [],
   "source": [
    "coords = np.array(\n",
    "    [\n",
    "        [428, 36, 349],\n",
    "        [438, 35, 344],\n",
    "    ]\n",
    ")  # [z,y,x]\n",
    "\n",
    "mask = np.zeros(movie.shape, dtype=bool)\n",
    "mask[tuple(coords.T)] = True\n",
    "markers, _ = ndi.label(mask)"
   ]
  },
  {
   "cell_type": "markdown",
   "id": "d4d4dd70-6bad-4215-8868-3d3c9879d657",
   "metadata": {},
   "source": [
    "#### Apply watershed fct"
   ]
  },
  {
   "cell_type": "code",
   "execution_count": 359,
   "id": "a66e74c5-56b6-4b7e-9c1c-15c483d3a98c",
   "metadata": {},
   "outputs": [],
   "source": [
    "watershed_mask = watershed(\n",
    "    image=-movie,  # use input movie\n",
    "    # image=-smoother_movie, # use smoother input movie\n",
    "    # image=movie.astype(bool), # use binary image\n",
    "    # image=-distances, # use distance from edge\n",
    "    markers=markers,\n",
    "    mask=spark_mask,\n",
    ")"
   ]
  },
  {
   "cell_type": "markdown",
   "id": "5e185ee8-ce09-426e-8a85-6f3f48010e4a",
   "metadata": {},
   "source": [
    "#### Visualise separated event"
   ]
  },
  {
   "cell_type": "code",
   "execution_count": 360,
   "id": "006432a5-6f8b-4ee5-a8a2-135c210063d4",
   "metadata": {},
   "outputs": [
    {
     "data": {
      "text/plain": [
       "<Labels layer 'watershed mask [1]' at 0x119bee7a370>"
      ]
     },
     "execution_count": 360,
     "metadata": {},
     "output_type": "execute_result"
    }
   ],
   "source": [
    "viewer.add_labels(watershed_mask, name=\"watershed mask\", opacity=0.5, visible=True)"
   ]
  },
  {
   "cell_type": "markdown",
   "id": "5f9cfced-df1f-40c9-9f8b-0269c951e13b",
   "metadata": {},
   "source": [
    "#### Run this to assign separated events in watershed mask to `events_mask`"
   ]
  },
  {
   "cell_type": "code",
   "execution_count": 363,
   "id": "e0d5aa9f-ffc0-4719-87cc-bfe620d0735a",
   "metadata": {},
   "outputs": [],
   "source": [
    "n_watershed_event = 2\n",
    "new_event = 7\n",
    "\n",
    "events_mask = np.where(watershed_mask == n_watershed_event, new_event, events_mask)"
   ]
  },
  {
   "cell_type": "markdown",
   "id": "1c6bb7d3-4be9-45ff-9343-742059b15867",
   "metadata": {},
   "source": [
    "#### Run this to change # to an event"
   ]
  },
  {
   "cell_type": "code",
   "execution_count": 323,
   "id": "70db778c-6c12-43ac-9fcd-79cecc11c78b",
   "metadata": {},
   "outputs": [],
   "source": [
    "old_event = 16\n",
    "new_event = 5472814\n",
    "\n",
    "events_mask = np.where(events_mask == old_event, new_event, events_mask)"
   ]
  },
  {
   "cell_type": "code",
   "execution_count": null,
   "id": "e0f1f3a3-6f49-455f-b676-602c2233156e",
   "metadata": {},
   "outputs": [],
   "source": []
  }
 ],
 "metadata": {
  "kernelspec": {
   "display_name": "sparks",
   "language": "python",
   "name": "python3"
  },
  "language_info": {
   "codemirror_mode": {
    "name": "ipython",
    "version": 3
   },
   "file_extension": ".py",
   "mimetype": "text/x-python",
   "name": "python",
   "nbconvert_exporter": "python",
   "pygments_lexer": "ipython3",
   "version": "3.10.13"
  },
  "vscode": {
   "interpreter": {
    "hash": "d33eb8e81965b779f2871c6ab1ae98a760df4ff814358c9a5efa0a44482010f7"
   }
  }
 },
 "nbformat": 4,
 "nbformat_minor": 5
}
