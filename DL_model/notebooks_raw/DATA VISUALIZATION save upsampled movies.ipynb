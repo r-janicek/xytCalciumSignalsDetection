{
 "cells": [
  {
   "cell_type": "code",
   "execution_count": 2,
   "metadata": {},
   "outputs": [],
   "source": [
    "# autoreload is used to reload modules automatically before entering the\n",
    "# execution of code typed at the IPython prompt.\n",
    "%load_ext autoreload\n",
    "%autoreload 2\n",
    "# To import modules from parent directory in Jupyter Notebook\n",
    "import sys\n",
    "\n",
    "sys.path.append(\"..\")"
   ]
  },
  {
   "cell_type": "code",
   "execution_count": 3,
   "metadata": {},
   "outputs": [],
   "source": [
    "import os\n",
    "import imageio\n",
    "\n",
    "import numpy as np\n",
    "import logging\n",
    "import sys\n",
    "from scipy.interpolate import RectBivariateSpline"
   ]
  },
  {
   "cell_type": "code",
   "execution_count": 4,
   "metadata": {},
   "outputs": [],
   "source": [
    "############################# configure logger #############################\n",
    "\n",
    "# set verbosity\n",
    "verbosity = 3\n",
    "\n",
    "level_map = {\n",
    "    3: logging.DEBUG,\n",
    "    2: logging.INFO,\n",
    "    1: logging.WARNING,\n",
    "    0: logging.ERROR,\n",
    "}\n",
    "log_level = level_map[verbosity]\n",
    "log_handlers = (logging.StreamHandler(sys.stdout),)\n",
    "\n",
    "logging.basicConfig(\n",
    "    level=log_level,\n",
    "    format=\"[{asctime}] [{levelname:^8s}] [{name:^12s}] <{lineno:^4d}> -- {message:s}\",\n",
    "    style=\"{\",\n",
    "    datefmt=\"%H:%M:%S\",\n",
    "    handlers=log_handlers,\n",
    ")"
   ]
  },
  {
   "attachments": {},
   "cell_type": "markdown",
   "metadata": {},
   "source": [
    "### Load colored movies (or any other movie...)"
   ]
  },
  {
   "cell_type": "code",
   "execution_count": 5,
   "metadata": {},
   "outputs": [],
   "source": [
    "training_name = \"final_model\"\n",
    "epoch = 100000\n",
    "movie_id = \"05\""
   ]
  },
  {
   "cell_type": "code",
   "execution_count": 6,
   "metadata": {},
   "outputs": [],
   "source": [
    "data_dir = os.path.join(\"trainings_validation\", training_name, \"colored_segmentation\")"
   ]
  },
  {
   "cell_type": "code",
   "execution_count": 7,
   "metadata": {},
   "outputs": [],
   "source": [
    "# change this to select type of annotated movie to load\n",
    "movie_type = \"colored_classes_labels\"\n",
    "filename = f\"{training_name}_{epoch}_{movie_id}_{movie_type}.tif\""
   ]
  },
  {
   "cell_type": "code",
   "execution_count": 8,
   "metadata": {},
   "outputs": [],
   "source": [
    "rgb_movie = np.asarray(imageio.volread(os.path.join(data_dir, filename))).astype(\n",
    "    np.uint8\n",
    ")"
   ]
  },
  {
   "cell_type": "code",
   "execution_count": 9,
   "metadata": {},
   "outputs": [
    {
     "data": {
      "text/plain": [
       "(488, 64, 512, 3)"
      ]
     },
     "execution_count": 9,
     "metadata": {},
     "output_type": "execute_result"
    }
   ],
   "source": [
    "rgb_movie.shape"
   ]
  },
  {
   "attachments": {},
   "cell_type": "markdown",
   "metadata": {},
   "source": [
    "### Upsample movie"
   ]
  },
  {
   "cell_type": "code",
   "execution_count": 10,
   "metadata": {},
   "outputs": [],
   "source": [
    "# simply repeat each pixel value along x and y axes\n",
    "scale = 3  # set upscaling factor\n",
    "upsampled_movie = np.repeat(rgb_movie, scale, axis=1)\n",
    "upsampled_movie = np.repeat(upsampled_movie, scale, axis=2)"
   ]
  },
  {
   "cell_type": "code",
   "execution_count": 29,
   "metadata": {},
   "outputs": [],
   "source": [
    "# upsample using linear interpolation\n",
    "scale = 3  # set upscaling factor\n",
    "\n",
    "y = np.arange(rgb_movie.shape[1])\n",
    "x = np.arange(rgb_movie.shape[2])\n",
    "\n",
    "ynew = np.linspace(0, rgb_movie.shape[1] - 1, rgb_movie.shape[1] * scale)\n",
    "xnew = np.linspace(0, rgb_movie.shape[2] - 1, rgb_movie.shape[2] * scale)"
   ]
  },
  {
   "cell_type": "code",
   "execution_count": 30,
   "metadata": {},
   "outputs": [],
   "source": [
    "for frame_id in range(len(rgb_movie)):\n",
    "    for channel in range(3):\n",
    "        f = RectBivariateSpline(y, x, rgb_movie[frame_id, :, :, channel])\n",
    "        upsampled_movie[frame_id, :, :, channel] = f(ynew, xnew)"
   ]
  },
  {
   "cell_type": "code",
   "execution_count": 25,
   "metadata": {},
   "outputs": [
    {
     "data": {
      "text/plain": [
       "(488, 192, 1536, 3)"
      ]
     },
     "execution_count": 25,
     "metadata": {},
     "output_type": "execute_result"
    }
   ],
   "source": [
    "upsampled_movie.shape"
   ]
  },
  {
   "attachments": {},
   "cell_type": "markdown",
   "metadata": {},
   "source": [
    "### Save movie on disk"
   ]
  },
  {
   "cell_type": "code",
   "execution_count": 26,
   "metadata": {},
   "outputs": [],
   "source": [
    "# save RGB movie on disk as .mov\n",
    "# imageio.mimwrite(os.path.join(data_dir, f\"{training_name}_{epoch}_{movie_id}_{movie_type}_upsampled_spline.mov\"), upsampled_movie, fps=7.5)\n",
    "imageio.mimwrite(\n",
    "    os.path.join(\n",
    "        data_dir,\n",
    "        f\"{training_name}_{epoch}_{movie_id}_{movie_type}_upsampled_spline_smooth.mov\",\n",
    "    ),\n",
    "    upsampled_movie,\n",
    "    fps=7.5,\n",
    ")"
   ]
  },
  {
   "cell_type": "code",
   "execution_count": null,
   "metadata": {},
   "outputs": [],
   "source": []
  }
 ],
 "metadata": {
  "kernelspec": {
   "display_name": "sparks",
   "language": "python",
   "name": "python3"
  },
  "language_info": {
   "codemirror_mode": {
    "name": "ipython",
    "version": 3
   },
   "file_extension": ".py",
   "mimetype": "text/x-python",
   "name": "python",
   "nbconvert_exporter": "python",
   "pygments_lexer": "ipython3",
   "version": "3.10.13"
  },
  "orig_nbformat": 4
 },
 "nbformat": 4,
 "nbformat_minor": 2
}
