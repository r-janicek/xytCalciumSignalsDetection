{
 "cells": [
  {
   "cell_type": "markdown",
   "id": "05effa19-f13c-4995-a858-316ea5802ca2",
   "metadata": {
    "tags": []
   },
   "source": [
    "08.08.2022\n",
    "\n",
    "# Creazione del dataset da inviare a Miguel\n",
    "\n",
    "Processing finale delle masks per poi inviarle a Miguel con i files .csv che contengono le info necessarie per ogni video.\n",
    "\n",
    "- Load **XX_corrected_rgb_mask_SPARKS.tif** and **XX_corrected_label_mask_SPARKS.tif** and save as **XX_corrected_rgb_mask_FINAL.tif** and **XX_corrected_label_mask_FINAL.tif**.\n",
    "- Cambiare gli IDs degli eventi da numeri casuali a numeri tra `5` e `#events + 4`.\n",
    "- Per ogni video, creare due files .csv, salvati nella cartella `data/raw_data_and_processing/manual_corr_separated_events_masks/events_csv`\n",
    "    - Il primo, `XX_events_simple.csv`, contiene linee con le informazioni seguenti (una linea per ogni evento):\n",
    "        - ID (# event)\n",
    "        - class\n",
    "        - start frame\n",
    "        - end frame\n",
    "        - x center of mass\n",
    "        - y center of mass\n",
    "    - Il secondo, `XX_events_full.csv`, contiene le linee seguenti (più linee per lo stesso evento):\n",
    "        - ID (# event)\n",
    "        - class\n",
    "        - x_array\n",
    "        - y_array\n",
    "        - Frame"
   ]
  },
  {
   "cell_type": "markdown",
   "id": "1fe63a8e-2147-4823-a8fd-a90468c82ee5",
   "metadata": {},
   "source": [
    "**REMARK**: qui c'è scritto come trovare il center of mass delle ROIs\n",
    "\n",
    "https://stackoverflow.com/questions/38598690/how-to-find-the-diameter-of-objects-using-image-processing-in-python"
   ]
  },
  {
   "cell_type": "code",
   "execution_count": 1,
   "id": "ec8c2a98-25be-4d95-abc8-91c324e6b4da",
   "metadata": {},
   "outputs": [],
   "source": [
    "# autoreload is used to reload modules automatically before entering the\n",
    "# execution of code typed at the IPython prompt.\n",
    "%load_ext autoreload\n",
    "%autoreload 2\n",
    "# To import modules from parent directory in Jupyter Notebook\n",
    "import sys\n",
    "\n",
    "sys.path.append(\"..\")"
   ]
  },
  {
   "cell_type": "code",
   "execution_count": 1,
   "id": "7139a784-690b-456a-855f-16db08aa81ae",
   "metadata": {},
   "outputs": [],
   "source": [
    "import os\n",
    "import imageio\n",
    "import napari\n",
    "import pandas as pd\n",
    "\n",
    "import numpy as np\n",
    "import cc3d\n",
    "from scipy import ndimage\n",
    "\n",
    "from utils.visualization_tools import get_discrete_cmap\n",
    "from utils.in_out_tools import load_movies_ids, load_annotations_ids\n",
    "from data.data_processing_tools import get_event_parameters, get_event_parameters_simple"
   ]
  },
  {
   "cell_type": "code",
   "execution_count": 138,
   "id": "66ecdb5e-374b-4bf9-9421-220d4dab766d",
   "metadata": {},
   "outputs": [],
   "source": [
    "movie_ids = [\n",
    "    \"01\",\n",
    "    \"02\",\n",
    "    \"03\",\n",
    "    \"04\",\n",
    "    \"05\",\n",
    "    \"06\",\n",
    "    \"07\",\n",
    "    \"08\",\n",
    "    \"09\",\n",
    "    \"10\",\n",
    "    \"11\",\n",
    "    \"12\",\n",
    "    \"13\",\n",
    "    \"14\",\n",
    "    \"15\",\n",
    "    \"16\",\n",
    "    \"17\",\n",
    "    \"18\",\n",
    "    \"19\",\n",
    "    \"20\",\n",
    "    \"21\",\n",
    "    \"22\",\n",
    "    \"23\",\n",
    "    \"24\",\n",
    "    \"25\",\n",
    "    \"27\",\n",
    "    \"28\",\n",
    "    \"29\",\n",
    "    \"30\",\n",
    "    \"32\",\n",
    "    \"33\",\n",
    "    \"34\",\n",
    "    \"35\",\n",
    "    \"36\",\n",
    "    \"38\",\n",
    "    \"39\",\n",
    "    \"40\",\n",
    "    \"41\",\n",
    "    \"42\",\n",
    "    \"43\",\n",
    "    \"44\",\n",
    "    \"45\",\n",
    "    \"46\",\n",
    "]\n",
    "# movie_ids = ['07']"
   ]
  },
  {
   "cell_type": "code",
   "execution_count": 20,
   "id": "9fda6015-4a7e-4609-814d-49d19a6e2147",
   "metadata": {},
   "outputs": [],
   "source": [
    "data_dir = os.path.join(\"..\", \"data\", \"raw_data_and_processing\")"
   ]
  },
  {
   "cell_type": "markdown",
   "id": "13d3ac2d-0eef-4a39-9037-39d3a81277d6",
   "metadata": {
    "tags": []
   },
   "source": [
    "### directory where corrected masks are saved"
   ]
  },
  {
   "cell_type": "code",
   "execution_count": 5,
   "id": "4f27e7e9-1938-4077-9e45-c01547edf703",
   "metadata": {},
   "outputs": [],
   "source": [
    "# directory where corrected movies are saved\n",
    "corr_dir = os.path.join(data_dir, \"manual_corr_separated_event_masks\")\n",
    "os.makedirs(corr_dir, exist_ok=True)"
   ]
  },
  {
   "cell_type": "markdown",
   "id": "e5e27d73-309b-452d-8f88-9323cde534f5",
   "metadata": {},
   "source": [
    "### output directory for csv files"
   ]
  },
  {
   "cell_type": "code",
   "execution_count": 6,
   "id": "1f36584d-642a-4ae0-9a23-feb70babcf59",
   "metadata": {},
   "outputs": [],
   "source": [
    "out_dir = os.path.join(corr_dir, \"events_csv\")\n",
    "os.makedirs(out_dir, exist_ok=True)"
   ]
  },
  {
   "cell_type": "markdown",
   "id": "c36876dd-ecd6-4f66-9da4-3f187c6d1633",
   "metadata": {
    "tags": []
   },
   "source": [
    "## Load annotation masks (with suffix `_SPARKS`)"
   ]
  },
  {
   "cell_type": "code",
   "execution_count": 21,
   "id": "bb3f76c4-132f-4555-b019-52631cd5d677",
   "metadata": {},
   "outputs": [],
   "source": [
    "event_labels = load_annotations_ids(\n",
    "    data_folder=corr_dir, ids=movie_ids, mask_names=\"corrected_rgb_mask_SPARKS\"\n",
    ")\n",
    "class_labels = load_annotations_ids(\n",
    "    data_folder=corr_dir, ids=movie_ids, mask_names=\"corrected_label_mask_SPARKS\"\n",
    ")"
   ]
  },
  {
   "cell_type": "markdown",
   "id": "b514d74a-f840-4442-9e37-40789825c3f6",
   "metadata": {
    "tags": []
   },
   "source": [
    "## Check some constraints and save annotation masks with suffix `_FINAL` "
   ]
  },
  {
   "cell_type": "markdown",
   "id": "202ef942-ceda-420b-950a-9a9c5e9b6cdf",
   "metadata": {},
   "source": [
    "### check that event IDs are > 4"
   ]
  },
  {
   "cell_type": "code",
   "execution_count": 77,
   "id": "2af3bb14-c820-4ce6-b029-be9a13b292a2",
   "metadata": {},
   "outputs": [],
   "source": [
    "for movie_id in movie_ids:\n",
    "    events_mask = event_labels[movie_id]\n",
    "\n",
    "    if np.min(events_mask) >= 4:\n",
    "        print(f\"Events mask in movie {movie_id} contain an event ID lower than 5.\")"
   ]
  },
  {
   "cell_type": "markdown",
   "id": "29fdc809-2859-4d90-ab61-aaff46e402bc",
   "metadata": {},
   "source": [
    "### check that event and class ROIs match"
   ]
  },
  {
   "cell_type": "code",
   "execution_count": 78,
   "id": "d6de3ed9-f9b3-4f06-ba20-f93204dc2cc7",
   "metadata": {},
   "outputs": [],
   "source": [
    "for movie_id in movie_ids:\n",
    "    events_mask = event_labels[movie_id]\n",
    "    classes_mask = class_labels[movie_id]\n",
    "\n",
    "    # check that events_mask and classes_mask match\n",
    "    if not (events_mask.astype(bool) == classes_mask.astype(bool)).all():\n",
    "        print(f\"RGB and class masks do not match in movie {movie_id}\")\n",
    "        print(np.where(events_mask.astype(bool) != classes_mask.astype(bool)))"
   ]
  },
  {
   "cell_type": "markdown",
   "id": "237af786-2eb7-4cfd-a5d1-3081bc06eff4",
   "metadata": {},
   "source": [
    "### check that each event is a single connected component"
   ]
  },
  {
   "cell_type": "code",
   "execution_count": 79,
   "id": "ca566160-5304-4bb5-b908-ace23458a591",
   "metadata": {},
   "outputs": [],
   "source": [
    "# connectivity of the connected components\n",
    "connectivity = 26"
   ]
  },
  {
   "cell_type": "code",
   "execution_count": 80,
   "id": "e6156e28-8e93-4b89-ae71-0ca58aec0806",
   "metadata": {},
   "outputs": [
    {
     "name": "stdout",
     "output_type": "stream",
     "text": [
      "white colour: 16646655\n"
     ]
    }
   ],
   "source": [
    "white_int = 255 * 255 * 255 + 255 * 255 + 255\n",
    "print(\"white colour:\", white_int)"
   ]
  },
  {
   "cell_type": "code",
   "execution_count": 81,
   "id": "1b31f6e2-b466-480d-a150-bcaa6d392bd4",
   "metadata": {
    "tags": []
   },
   "outputs": [],
   "source": [
    "separated_events = {}\n",
    "\n",
    "for movie_id in movie_ids:\n",
    "    # print(\"Movie\", movie_id)\n",
    "    events_mask = event_labels[movie_id]\n",
    "    classes_mask = class_labels[movie_id]\n",
    "\n",
    "    # check that int rgs label does not contain white_int\n",
    "    assert not white_int in events_mask\n",
    "\n",
    "    # get list of events\n",
    "    list_events = list(np.unique(events_mask))\n",
    "    list_events.remove(0)\n",
    "\n",
    "    # create dict entry to store events that are separated in more than one conn comp\n",
    "    separated_events[movie_id] = []\n",
    "\n",
    "    # compute number of connected components for each event\n",
    "    for nb_event in list_events:\n",
    "        events, n_components = cc3d.connected_components(\n",
    "            (events_mask == nb_event), connectivity=connectivity, return_N=True\n",
    "        )\n",
    "        if n_components > 1:\n",
    "            print(\n",
    "                f\"Event with ID {nb_event} in movie {movie_id} contains {n_components} connected components\"\n",
    "            )\n",
    "            separated_events[movie_id].append([nb_event, n_components])"
   ]
  },
  {
   "cell_type": "markdown",
   "id": "ee2a41b5-7b4d-4246-82e0-2cc436acf9d9",
   "metadata": {},
   "source": [
    "### check that each event belongs to a unique class"
   ]
  },
  {
   "cell_type": "code",
   "execution_count": 82,
   "id": "3d12dc0b-8d66-44e8-8f4c-196a96d2e9a1",
   "metadata": {},
   "outputs": [],
   "source": [
    "multiclass_events = {}\n",
    "\n",
    "for movie_id in movie_ids:\n",
    "    # print(\"Movie\", movie_id)\n",
    "    events_mask = event_labels[movie_id]\n",
    "    classes_mask = class_labels[movie_id]\n",
    "\n",
    "    # get list of events\n",
    "    list_events = list(np.unique(events_mask))\n",
    "    list_events.remove(0)\n",
    "\n",
    "    # create dict entry to store events that are separated in more than one class\n",
    "    multiclass_events[movie_id] = []\n",
    "\n",
    "    # compute number of classes for each event\n",
    "    for nb_event in list_events:\n",
    "        # get class mask of event\n",
    "        event_class_mask = np.where(events_mask == nb_event, classes_mask, 0)\n",
    "\n",
    "        # get number of classes\n",
    "        list_classes = list(np.unique(event_class_mask))\n",
    "        list_classes.remove(0)\n",
    "\n",
    "        if len(list_classes) > 1:\n",
    "            print(\n",
    "                f\"Event with ID {nb_event} in movie {movie_id} contains {len(list_classes)} classes: {list_classes}\"\n",
    "            )\n",
    "            multiclass_events[movie_id].append([nb_event, list_classes])"
   ]
  },
  {
   "cell_type": "markdown",
   "id": "9552d2b6-07f7-4011-830a-a4019f27fa6e",
   "metadata": {
    "tags": []
   },
   "source": [
    "### General tools "
   ]
  },
  {
   "cell_type": "markdown",
   "id": "7a446e87-dbb3-4dea-a158-e1571032d231",
   "metadata": {
    "tags": []
   },
   "source": [
    "#### Create LUT for smooth movie"
   ]
  },
  {
   "cell_type": "code",
   "execution_count": 43,
   "id": "8c3bc0bd-ff17-472e-b946-59479a9cc430",
   "metadata": {
    "tags": []
   },
   "outputs": [],
   "source": [
    "cmap = get_discrete_cmap(name=\"gray\", lut=16)"
   ]
  },
  {
   "cell_type": "markdown",
   "id": "c4a2d308-4eb4-4c11-86bc-56ff4de32665",
   "metadata": {},
   "source": [
    "### correct mistakes wrt constraints interactively"
   ]
  },
  {
   "cell_type": "code",
   "execution_count": 39,
   "id": "cabe28ec-ebeb-449e-a724-bf273d82bf3f",
   "metadata": {},
   "outputs": [],
   "source": [
    "# set smooth movies directory\n",
    "smooth_movies_dir = os.path.join(data_dir, \"smoothed_movies\")"
   ]
  },
  {
   "cell_type": "code",
   "execution_count": 58,
   "id": "52bb1bc6-39bb-4378-856a-9b83f61d0ab2",
   "metadata": {},
   "outputs": [],
   "source": [
    "movie_id = \"24\""
   ]
  },
  {
   "cell_type": "code",
   "execution_count": 59,
   "id": "960699e8-aa8b-451e-82ee-0e4fa709c9a0",
   "metadata": {},
   "outputs": [],
   "source": [
    "# load smooth movie\n",
    "movie = load_movies_ids(\n",
    "    data_folder=smooth_movies_dir,\n",
    "    ids=[movie_id],\n",
    "    names_available=True,\n",
    "    movie_names=\"smoothed_video\",\n",
    ")[movie_id]"
   ]
  },
  {
   "cell_type": "code",
   "execution_count": 60,
   "id": "2f00a373-8ac3-48e3-b061-1cabc400e4ef",
   "metadata": {},
   "outputs": [],
   "source": [
    "events_mask = event_labels[movie_id]\n",
    "classes_mask = class_labels[movie_id]"
   ]
  },
  {
   "cell_type": "code",
   "execution_count": 61,
   "id": "0e6de8ac-b8f8-47a9-86cd-03d4c5248fcc",
   "metadata": {},
   "outputs": [],
   "source": [
    "event_id = 6"
   ]
  },
  {
   "cell_type": "code",
   "execution_count": 62,
   "id": "ba17901b-e65b-4177-9347-46294d511979",
   "metadata": {
    "tags": []
   },
   "outputs": [
    {
     "name": "stderr",
     "output_type": "stream",
     "text": [
      "WARNING: DirectWrite: CreateFontFaceFromHDC() failed (Indicates an error in an input file such as a font file.) for QFontDef(Family=\"\", pointsize=12, pixelsize=16, styleHint=5, weight=50, stretch=100, hintingPreference=0) LOGFONT(\"MS Sans Serif\", lfWidth=0, lfHeight=-16) dpi=96\n"
     ]
    },
    {
     "name": "stdout",
     "output_type": "stream",
     "text": [
      "frames containing event 6: [558, 559, 560, 561, 562, 563, 564, 565, 566, 567, 568, 569, 570, 571, 572, 573, 574, 575, 576, 577, 578, 579, 580, 581, 582, 583, 584, 585, 586, 587, 588, 589, 590, 591, 592, 593, 594, 595, 596, 597, 598, 599, 600]\n"
     ]
    },
    {
     "data": {
      "text/plain": [
       "<Labels layer 'event mask' at 0x18ddf4f41f0>"
      ]
     },
     "execution_count": 62,
     "metadata": {},
     "output_type": "execute_result"
    }
   ],
   "source": [
    "# get event mask\n",
    "event_mask = np.where(events_mask == event_id, events_mask, 0)\n",
    "\n",
    "print(\n",
    "    f\"frames containing event {event_id}: {list(np.unique((np.where(event_mask == event_id)[0])))}\"\n",
    ")\n",
    "\n",
    "viewer = napari.Viewer()\n",
    "viewer.add_image(movie, name=\"smooth movie\", colormap=(\"colors\", cmap))\n",
    "\n",
    "viewer.add_labels(events_mask, name=\"events labels\", opacity=0.5, visible=False)\n",
    "\n",
    "viewer.add_labels(classes_mask, name=\"classes labels\", opacity=0.5, visible=False)\n",
    "\n",
    "viewer.add_labels(event_mask, name=\"event mask\", opacity=0.6, visible=True)"
   ]
  },
  {
   "cell_type": "code",
   "execution_count": 52,
   "id": "652e550b-c8c4-40ae-be13-85c9494b376c",
   "metadata": {},
   "outputs": [],
   "source": [
    "# get connected components locations\n",
    "ccs, n_components = cc3d.connected_components(\n",
    "    (events_mask == event_id), connectivity=connectivity, return_N=True\n",
    ")"
   ]
  },
  {
   "cell_type": "code",
   "execution_count": 54,
   "id": "9b48cfd9-87a7-49db-8a27-6b38af76bbab",
   "metadata": {},
   "outputs": [
    {
     "data": {
      "text/plain": [
       "<Labels layer 'connected components' at 0x18d8f3aafd0>"
      ]
     },
     "execution_count": 54,
     "metadata": {},
     "output_type": "execute_result"
    }
   ],
   "source": [
    "viewer.add_labels(ccs, name=\"connected components\", opacity=0.6, visible=True)"
   ]
  },
  {
   "cell_type": "code",
   "execution_count": 66,
   "id": "5c513d6f-2298-4183-af36-9d8cc9efae92",
   "metadata": {},
   "outputs": [
    {
     "name": "stdout",
     "output_type": "stream",
     "text": [
      "Classes present in event 6: [1, 3]\n"
     ]
    }
   ],
   "source": [
    "# get mask of different classes\n",
    "event_class_mask = np.where(events_mask == event_id, classes_mask, 0)\n",
    "list_classes = list(np.unique(event_class_mask))\n",
    "list_classes.remove(0)\n",
    "print(f\"Classes present in event {event_id}: {list_classes}\")"
   ]
  },
  {
   "cell_type": "code",
   "execution_count": 65,
   "id": "52a87706-ae80-42b6-b21a-df263d84879b",
   "metadata": {},
   "outputs": [
    {
     "data": {
      "text/plain": [
       "<Labels layer 'event classes mask' at 0x18de08407f0>"
      ]
     },
     "execution_count": 65,
     "metadata": {},
     "output_type": "execute_result"
    }
   ],
   "source": [
    "viewer.add_labels(\n",
    "    event_class_mask, name=\"event classes mask\", opacity=0.6, visible=True\n",
    ")"
   ]
  },
  {
   "cell_type": "code",
   "execution_count": 67,
   "id": "37e7745b-656c-4f5d-b581-3b292d2b83fc",
   "metadata": {},
   "outputs": [
    {
     "name": "stdout",
     "output_type": "stream",
     "text": [
      "Events present in movie 24: [       0        5        6        7        8        9       10       11\n",
      "    29020   336152   733150   891478  1076914  1813672  1887795  1911288\n",
      "  2042280  2088233  2466339  2559776  2930558  3086049  3144602  3244765\n",
      "  3762786  3808646  4028392  4326235  4693472  5598047  5686279  5694383\n",
      "  6321154  6587599  6639157  6732689  7056378  7192807  7608053  8178442\n",
      "  8614839  8894431  8973605  9976188 10832149 11148655 12631210 14061318\n",
      " 14098982 14361999 14432587 14747394 14788796 14926727 15520080 15747794\n",
      " 15944341 16515630 16567286]\n"
     ]
    }
   ],
   "source": [
    "# get list of events in movie\n",
    "print(f\"Events present in movie {movie_id}: {np.unique(events_mask)}\")"
   ]
  },
  {
   "cell_type": "code",
   "execution_count": 68,
   "id": "4161537b-b172-41ae-aa2a-750775a2147b",
   "metadata": {},
   "outputs": [],
   "source": [
    "# save corrected rgb labels and class labels on disk\n",
    "imageio.volwrite(\n",
    "    os.path.join(corr_dir, movie_id + \"_corrected_rgb_mask_FINAL.tif\"), events_mask\n",
    ")\n",
    "imageio.volwrite(\n",
    "    os.path.join(corr_dir, movie_id + \"_corrected_label_mask_FINAL.tif\"), classes_mask\n",
    ")"
   ]
  },
  {
   "cell_type": "markdown",
   "id": "415662fe-4800-4a2e-9955-c902341a6224",
   "metadata": {},
   "source": [
    "### Change event IDs from random numbers to values between `5` and `#events + 4`"
   ]
  },
  {
   "cell_type": "code",
   "execution_count": 75,
   "id": "2c0b4829-df11-4c5c-a80b-337fe5a5e549",
   "metadata": {},
   "outputs": [
    {
     "name": "stdout",
     "output_type": "stream",
     "text": [
      "Events present in movie 01 (containing 30 events):\n",
      "[5, 6, 7, 1213085, 1460377, 1763421, 2177621, 2997931, 3865116, 4641927, 4744257, 5047384, 6923320, 7217616, 7235208, 7607517, 9047504, 9985923, 10065583, 10095167, 10331602, 11014150, 11515293, 11948079, 13311101, 13600822, 13703862, 14663886, 15403210, 15706005]\n",
      "Number of events after renumbering: 30 (values between 5 and 34)\n",
      "\n",
      "Events present in movie 02 (containing 16 events):\n",
      "[5, 6, 7, 203962, 399774, 583189, 2574393, 3354380, 3974382, 4192011, 4698155, 5313404, 5908962, 7529393, 10252693, 12837713]\n",
      "Number of events after renumbering: 16 (values between 5 and 20)\n",
      "\n",
      "Events present in movie 03 (containing 47 events):\n",
      "[83436, 102422, 212722, 1391253, 1484434, 1582027, 2072030, 2132871, 3093166, 3223489, 3622575, 4089246, 4253946, 4410167, 4563090, 5284908, 5831824, 6013718, 6204449, 6392992, 6547268, 6732680, 7564040, 8355437, 8496280, 8587972, 8965382, 9668959, 9711696, 10038753, 10849990, 11404912, 11539250, 12454863, 12532186, 12770186, 13681425, 13838248, 13871709, 14125688, 14909275, 15234816, 15646700, 15814187, 16063153, 16263298, 16367084]\n",
      "Number of events after renumbering: 47 (values between 5 and 51)\n",
      "\n",
      "Events present in movie 04 (containing 32 events):\n",
      "[5, 570487, 1063981, 1280803, 1798331, 2321802, 2863963, 3308715, 4471362, 5621085, 5673875, 6713095, 7123813, 8411727, 9002999, 9019446, 9193332, 9351737, 9485556, 10512962, 10662032, 10708481, 11344639, 12100305, 12775198, 13677802, 13698465, 13759948, 14133460, 15155960, 15297116, 15709095]\n",
      "Number of events after renumbering: 32 (values between 5 and 36)\n",
      "\n",
      "Events present in movie 05 (containing 118 events):\n",
      "[5, 6, 7, 8, 9, 10, 11, 12, 13, 14, 15, 16, 17, 18, 9360, 114610, 135712, 142964, 340601, 422301, 463234, 486430, 633178, 744573, 882547, 896217, 901425, 965265, 1106039, 1313030, 1652508, 1925128, 1926514, 2198468, 2339872, 2590452, 2601022, 2724838, 2747277, 2996730, 3007235, 3203756, 3289024, 3885267, 3902242, 4224004, 4280484, 4478105, 4484709, 4564197, 4598565, 4943239, 5047972, 5247000, 5268606, 5472814, 5507421, 5644862, 5648379, 5746279, 5928311, 6023853, 6132011, 6415686, 6579549, 7368064, 7454729, 7514576, 7522274, 7757222, 7823167, 7824640, 8183095, 8211204, 8384779, 8454086, 8558458, 8839640, 8919303, 9044279, 9201768, 9716539, 9754874, 9866835, 9872999, 9957715, 10057818, 10489847, 10537788, 10862246, 11357165, 11384051, 11453733, 11961978, 12050082, 12270485, 12556113, 12659337, 12874039, 13158124, 13171323, 13172604, 13224737, 13633841, 13654625, 13749042, 13751860, 13897800, 13954844, 14042648, 14208260, 14376843, 14638229, 14660512, 14964291, 15009103, 16166492, 16548998]\n",
      "Number of events after renumbering: 118 (values between 5 and 122)\n",
      "\n",
      "Events present in movie 06 (containing 26 events):\n",
      "[5, 6, 7, 8, 2199665, 2694451, 2699598, 3048019, 3279494, 3712110, 4045845, 4936567, 7040613, 8071199, 8843435, 8906158, 9696150, 10105584, 11322444, 12495706, 12719733, 14807770, 15409735, 16016837, 16288997, 16447520]\n",
      "Number of events after renumbering: 26 (values between 5 and 30)\n",
      "\n",
      "Events present in movie 07 (containing 27 events):\n",
      "[674542, 882113, 917719, 1262608, 1529573, 2744151, 3252936, 3501664, 3573375, 4342810, 4385274, 5455254, 5689502, 7251112, 7290511, 9253674, 9400685, 12518152, 12982121, 13027174, 13267934, 14543050, 14726463, 14824649, 14915013, 16370811, 16488954]\n",
      "Number of events after renumbering: 27 (values between 5 and 31)\n",
      "\n",
      "Events present in movie 08 (containing 10 events):\n",
      "[5, 6, 7, 8, 255, 65025, 8323328, 10739877, 16581375, 16581630]\n",
      "Number of events after renumbering: 10 (values between 5 and 14)\n",
      "\n",
      "Events present in movie 09 (containing 27 events):\n",
      "[196589, 656747, 1516310, 2849917, 3943349, 5177143, 5387321, 5422074, 6459205, 7130058, 8304938, 8352532, 9306704, 10018551, 10816540, 10846858, 11474411, 12051445, 12193461, 12518581, 12828383, 12963785, 13413706, 13589946, 15128358, 15263586, 16276204]\n",
      "Number of events after renumbering: 27 (values between 5 and 31)\n",
      "\n",
      "Events present in movie 10 (containing 30 events):\n",
      "[5, 6, 328464, 454241, 1192395, 1440666, 1532222, 1689625, 2895768, 3485981, 3755209, 4567145, 4705119, 5493749, 5897076, 8419489, 8906098, 9971401, 10528260, 10740015, 11524313, 11709771, 12182349, 12740631, 13066001, 14541156, 14700073, 15678343, 15813923, 16348206]\n",
      "Number of events after renumbering: 30 (values between 5 and 34)\n",
      "\n",
      "Events present in movie 11 (containing 32 events):\n",
      "[5, 6, 7, 2294, 161952, 1132609, 1693437, 2934275, 2936115, 3623206, 4383668, 4429331, 4975264, 5176013, 5549575, 5873836, 7266172, 7547622, 7564447, 8864374, 8906090, 9725835, 10776718, 12225612, 12864277, 12995516, 13208235, 13597925, 15326058, 15758091, 16062453, 16376841]\n",
      "Number of events after renumbering: 32 (values between 5 and 36)\n",
      "\n",
      "Events present in movie 12 (containing 156 events):\n",
      "[5, 6, 7, 8, 9, 10, 11, 12, 13, 14, 15, 16, 17, 18, 19, 20, 21, 22, 23, 24, 25, 256087, 363742, 433067, 519311, 654829, 688945, 728093, 807520, 999971, 1056959, 1110973, 1132283, 1365373, 1366716, 1430528, 1526892, 1587418, 1809480, 1848793, 1940249, 2573998, 2580511, 2594281, 2598375, 2721564, 2830957, 2843036, 3161308, 3202126, 3453831, 3509244, 3644615, 3646858, 3690718, 3772056, 3843440, 3898297, 4067788, 4436549, 4451463, 4465999, 4599769, 4649149, 4940125, 4959345, 5067407, 5161082, 5242533, 5755893, 6195541, 6291570, 6416376, 6436737, 6479662, 6713250, 6717024, 6732080, 6785436, 6788734, 6867562, 6880058, 6887576, 6911114, 6962142, 6969374, 7024453, 7036459, 7107670, 7121149, 7250925, 7257800, 7346497, 7531431, 7667698, 7758575, 7936549, 8103649, 8233825, 8557778, 8566646, 8817891, 8882532, 9294114, 9720561, 9852972, 10032514, 10160984, 10345172, 10502882, 10754946, 10760022, 10801315, 11072408, 11298609, 11338811, 11566927, 11582287, 11920981, 11934931, 12030840, 12639186, 12875096, 12886716, 12894474, 12935343, 12967774, 13063126, 13081307, 13174710, 13294674, 13376026, 13472418, 13633899, 13711728, 13751926, 13753732, 13797282, 13892301, 14140142, 14187697, 14556545, 14587127, 14695432, 14698492, 14783100, 14863217, 15148956, 15360592, 15495558, 16380168, 16401397, 16439789, 16464567, 16583275, 16613735]\n",
      "Number of events after renumbering: 156 (values between 5 and 160)\n",
      "\n",
      "Events present in movie 13 (containing 3 events):\n",
      "[2310289, 6460447, 10254771]\n",
      "Number of events after renumbering: 3 (values between 5 and 7)\n",
      "\n",
      "Events present in movie 14 (containing 38 events):\n",
      "[5, 6, 317396, 512031, 819291, 1582040, 1619769, 2164603, 2415171, 2611940, 2852163, 3351901, 3522862, 3597025, 3928441, 5391861, 6708873, 6726495, 7156122, 7469261, 7535723, 8705117, 10218230, 10800499, 10965309, 11398263, 11448528, 11901912, 12492126, 13153856, 13339320, 13554767, 13866057, 14105729, 14563336, 14631620, 15512494, 16478845]\n",
      "Number of events after renumbering: 38 (values between 5 and 42)\n",
      "\n",
      "Events present in movie 15 (containing 70 events):\n",
      "[5, 6, 7, 8, 9, 10, 195120, 397593, 456176, 569292, 922157, 984288, 1293572, 1464818, 1654183, 2065019, 2143480, 2506512, 2574171, 2727776, 2887525, 3107921, 3325635, 3569709, 3597890, 3736173, 3876120, 4140508, 4424451, 5123838, 5517705, 5688874, 5950787, 6661870, 6992921, 7250956, 7841097, 7845975, 8416204, 8428940, 8788500, 9095529, 9263413, 9567054, 9642628, 9744583, 10155417, 10334573, 10474111, 10551495, 10724689, 10982413, 11037686, 11324962, 12340882, 12707466, 12824376, 12832346, 13171308, 13470676, 13512976, 14048865, 14071372, 14481093, 14851244, 15110059, 15221630, 15249902, 15852736, 16427459]\n",
      "Number of events after renumbering: 70 (values between 5 and 74)\n",
      "\n",
      "Events present in movie 16 (containing 13 events):\n",
      "[5, 6, 7, 1552558, 1926926, 4794811, 4827962, 5383045, 7256531, 8953496, 10529799, 14525997, 15852197]\n",
      "Number of events after renumbering: 13 (values between 5 and 17)\n",
      "\n",
      "Events present in movie 17 (containing 28 events):\n",
      "[172955, 1227790, 1368837, 1585484, 1695632, 2855748, 3427412, 4139103, 4495281, 5551456, 6273651, 6530707, 7656158, 8031015, 8413651, 8784659, 9731592, 10188616, 10238791, 10736607, 11462065, 12541795, 12728481, 12740620, 13938340, 15003598, 15157789, 16103793]\n",
      "Number of events after renumbering: 28 (values between 5 and 32)\n",
      "\n",
      "Events present in movie 18 (containing 78 events):\n",
      "[5, 6, 7, 8, 9, 10, 58558, 1161554, 1627669, 1870592, 1958126, 2639894, 2948741, 3618032, 3848749, 4042911, 4054236, 4373692, 4601432, 4680431, 4767984, 5045016, 5575594, 5585426, 5779766, 5781873, 5808659, 5914716, 6083285, 6378562, 6952654, 7062891, 7379622, 7427370, 7434219, 7512688, 7522652, 7970368, 8944964, 9100619, 9275385, 9345200, 9455478, 9599731, 10344977, 10426982, 10670962, 10868189, 10925358, 11015314, 11379461, 11433022, 11612099, 11710881, 11785644, 11806464, 11951580, 12018522, 12059822, 12224853, 12429356, 12550242, 12796587, 12809738, 12852147, 12917601, 13148734, 14111839, 14413363, 15160044, 15641331, 15740072, 15755924, 15860225, 16240775, 16356814, 16560092, 16640965]\n",
      "Number of events after renumbering: 78 (values between 5 and 82)\n",
      "\n",
      "Events present in movie 19 (containing 56 events):\n",
      "[5, 6, 7, 8, 9, 10, 11, 12, 13, 14, 15, 662844, 694310, 1297672, 2194125, 2967567, 3257248, 3595332, 4471423, 4920456, 4998354, 5032051, 5358012, 5949114, 6344796, 6789278, 6946484, 6992500, 8015326, 8075068, 8226476, 9217160, 10383514, 10895978, 10900527, 11436694, 11637546, 11745101, 12416591, 12506646, 12617704, 12918422, 12958324, 13001821, 13423065, 13570088, 14054412, 14180684, 14190392, 14353295, 14515255, 15167098, 15209195, 15679367, 15904916, 16159205]\n",
      "Number of events after renumbering: 56 (values between 5 and 60)\n",
      "\n",
      "Events present in movie 20 (containing 103 events):\n",
      "[5, 6, 7, 8, 9, 10, 11, 12, 13, 14, 15, 16, 17, 18, 19, 20, 21, 546211, 550098, 661596, 864979, 989820, 1045750, 1199049, 1300734, 1584134, 2075306, 2387352, 2883767, 3081912, 3220753, 3299449, 3564133, 3593708, 3636909, 3739375, 3779753, 3783906, 3788768, 3810836, 4082391, 4117744, 4255677, 4714277, 4733847, 4815052, 4850979, 4875937, 5180168, 5188524, 5289018, 5492455, 6176631, 6342663, 7156555, 7246178, 7298548, 7557899, 7636667, 7641288, 7794833, 7891951, 7959936, 8698570, 8828824, 8834200, 9099021, 9355712, 9387804, 9432550, 9449080, 9494433, 9687904, 9876889, 9892398, 10644315, 11077170, 11411731, 11463960, 11554461, 11898130, 11931351, 11990296, 12135055, 12322074, 13048254, 13211395, 13395869, 13476986, 13565218, 13714101, 13940562, 14039811, 14269538, 14470335, 14633126, 14651712, 14728993, 15351217, 15673764, 15735983, 16326961, 16447215]\n",
      "Number of events after renumbering: 103 (values between 5 and 107)\n",
      "\n",
      "Events present in movie 21 (containing 55 events):\n",
      "[5, 6, 7, 8, 9, 10, 966759, 1103205, 1711947, 2015040, 2770442, 3133054, 3857892, 4234712, 4236824, 4487042, 4664323, 4970092, 5561709, 5767191, 6568238, 6676519, 6769362, 6809420, 6915314, 7064523, 7123455, 7380501, 7605664, 9061130, 9184778, 9458181, 9520282, 9641995, 10122505, 10165592, 10207682, 11057430, 11095612, 11508254, 11750156, 11977815, 12168395, 12323256, 12646857, 13241215, 14105359, 14138464, 14273073, 14335386, 14608861, 15252297, 15988652, 16254984, 16353435]\n",
      "Number of events after renumbering: 55 (values between 5 and 59)\n",
      "\n",
      "Events present in movie 22 (containing 22 events):\n",
      "[5, 6, 853674, 1054495, 2210602, 3865226, 4467754, 4656529, 4676304, 5398556, 5433002, 6116268, 9437626, 9462555, 10730636, 11089004, 11273259, 13510778, 13661386, 14510714, 14608069, 16219844]\n",
      "Number of events after renumbering: 22 (values between 5 and 26)\n",
      "\n",
      "Events present in movie 23 (containing 243 events):\n",
      "[5, 6, 7, 8, 9, 10, 11, 12, 13, 14, 15, 16, 17, 18, 19, 20, 21, 22, 23, 24, 25, 26, 27, 28, 29, 30, 31, 32, 110353, 127763, 229349, 288634, 326565, 467673, 512962, 532583, 623364, 657041, 671584, 678656, 757461, 821317, 822748, 835074, 1014012, 1269614, 1308452, 1344428, 1499179, 1559150, 1822753, 1844658, 1906058, 1934928, 1970787, 2024835, 2212728, 2216398, 2285117, 2361589, 2463444, 2546813, 2728230, 2862445, 2917844, 2920075, 2936059, 2955756, 3230349, 3394938, 3432466, 3539198, 3731407, 3845505, 3893308, 3934833, 3936598, 3978423, 4082270, 4174826, 4235404, 4258225, 4333946, 4404668, 4665569, 4900233, 5034758, 5053042, 5117222, 5120779, 5137788, 5184123, 5189813, 5216314, 5345623, 5404696, 5542965, 5676740, 5905689, 6011772, 6034962, 6151637, 6154186, 6175701, 6372533, 6528621, 6586526, 6589397, 6654089, 6691479, 6739506, 6777564, 6816355, 6838912, 6847415, 6985378, 7046465, 7417443, 7516695, 7669692, 7703082, 7706836, 7746468, 7830287, 7867989, 7912466, 7973997, 8029524, 8134414, 8230225, 8281439, 8312062, 8384017, 8389543, 8392995, 8420093, 8785787, 8814286, 8817568, 8856865, 8860843, 8897318, 8989544, 9027649, 9201021, 9227071, 9290538, 9392501, 9446500, 9705487, 9818659, 9877888, 9975141, 10078062, 10168561, 10206402, 10246044, 10299272, 10342267, 10392687, 10420824, 10434013, 10469591, 10512452, 10656443, 10696271, 10822420, 10895056, 10900113, 10979483, 10998882, 11062783, 11065223, 11109797, 11135005, 11170984, 11210703, 11263374, 11297021, 11432754, 11615136, 11643191, 11815678, 11912987, 12118104, 12150401, 12243942, 12259672, 12365700, 12424978, 12468497, 12518479, 12554001, 12562006, 12581436, 12647511, 12836357, 12873557, 13158873, 13198055, 13560531, 13568654, 13598356, 13615914, 13804999, 13828539, 13873128, 14008077, 14046268, 14111616, 14300116, 14365328, 14381179, 14446540, 14526543, 14590744, 14624447, 14643197, 14693887, 14900537, 14996837, 15022007, 15027298, 15042064, 15309889, 15327548, 15440237, 15559480, 15609166, 15626029, 15699577, 15856770, 15929260, 16101282, 16113631, 16209469, 16248310, 16271645, 16302194, 16391315, 16451835, 16463706, 16580698]\n",
      "Number of events after renumbering: 243 (values between 5 and 247)\n",
      "\n",
      "Events present in movie 24 (containing 58 events):\n",
      "[5, 6, 7, 8, 9, 10, 11, 29020, 336152, 733150, 891478, 1076914, 1813672, 1887795, 1911288, 2042280, 2088233, 2466339, 2559776, 2930558, 3086049, 3144602, 3244765, 3762786, 3808646, 4028392, 4326235, 4693472, 5598047, 5686279, 5694383, 6321154, 6587599, 6639157, 6732689, 7056378, 7192807, 7608053, 8178442, 8614839, 8894431, 8973605, 9976188, 10832149, 11148655, 12631210, 14061318, 14098982, 14361999, 14432587, 14747394, 14788796, 14926727, 15520080, 15747794, 15944341, 16515630, 16567286]\n",
      "Number of events after renumbering: 58 (values between 5 and 62)\n",
      "\n",
      "Events present in movie 25 (containing 49 events):\n",
      "[5, 156629, 399800, 516869, 1086769, 1361964, 2085439, 3206973, 3452361, 4025547, 4160641, 4922861, 5047533, 5360763, 5612601, 6057877, 6220762, 6671347, 7147849, 7563578, 7823707, 7921529, 8110378, 8251646, 8715921, 9413594, 9501187, 9543039, 10981608, 11067444, 11839395, 12064058, 12103485, 12476889, 12484010, 12602611, 12649889, 12891496, 13558380, 13746338, 13983127, 14194055, 14812106, 14874583, 15174482, 15552188, 15577422, 16150352, 16157088]\n",
      "Number of events after renumbering: 49 (values between 5 and 53)\n",
      "\n",
      "Events present in movie 27 (containing 101 events):\n",
      "[5, 6, 7, 8, 9, 10, 11, 12, 13, 14, 10634, 343733, 406329, 796035, 847081, 912918, 1012729, 1025604, 1156965, 1220213, 1233596, 1380297, 1583131, 1709022, 1809204, 1973521, 2077415, 2203290, 2212355, 2261319, 2408701, 2675372, 2998613, 3259889, 3274489, 3315277, 3488541, 3592699, 3644983, 4604140, 4835841, 4855245, 5624543, 5698440, 6030646, 6099073, 6644235, 6757742, 6813977, 6994977, 7440907, 7491985, 7544503, 8079436, 8097444, 8243842, 8493757, 8635888, 8830469, 8958341, 9228288, 9370355, 9508093, 9867382, 10026773, 10065423, 10164575, 10296817, 10785009, 11013093, 11032370, 11276000, 11931596, 12026952, 12049190, 12113635, 12785244, 12828018, 12997721, 13037408, 13194439, 13319389, 13387675, 13524163, 13760183, 13773507, 13859364, 14062561, 14093371, 14250396, 15168524, 15532967, 15569672, 15620558, 15797777, 15863261, 15967370, 16153586, 16177810, 16361450, 16470587]\n",
      "Number of events after renumbering: 101 (values between 5 and 105)\n",
      "\n",
      "Events present in movie 28 (containing 53 events):\n",
      "[5, 6, 7, 8, 9, 10, 11, 12, 13, 14, 15, 16, 17, 18, 19, 20, 21, 22, 23, 24, 25, 26, 27, 28, 29, 30, 31, 32, 33, 34, 35, 36, 37, 38, 39, 40, 41, 42, 43, 44, 45, 46, 47, 48, 255, 65025, 65280, 8323328, 10739877, 16581375, 16581630, 16632375, 16646400]\n",
      "Number of events after renumbering: 53 (values between 5 and 57)\n",
      "\n",
      "Events present in movie 29 (containing 65 events):\n",
      "[5, 6, 7, 8, 351786, 464541, 687961, 1102694, 1130748, 1547337, 1630980, 1893193, 2273350, 2344745, 2672171, 2825018, 3268290, 3428025, 3588588, 4112685, 4229230, 4252646, 4775974, 4980406, 5039676, 5348155, 5676607, 6345606, 6353534, 6436105, 6465808, 6473408, 7122121, 7344080, 7627281, 8142023, 8298361, 8450694, 8516543, 8726366, 9022347, 9964467, 11781182, 11904116, 12006224, 12179329, 12386435, 12697970, 13152264, 13174004, 13528862, 13604914, 13986636, 14190238, 14444747, 14568803, 14734225, 15208755, 15372644, 15580334, 15717861, 15781404, 16581137, 16590606, 16605030]\n",
      "Number of events after renumbering: 65 (values between 5 and 69)\n",
      "\n",
      "Events present in movie 30 (containing 207 events):\n",
      "[5, 6, 7, 8, 9, 10, 11, 12, 13, 14, 15, 16, 17, 18, 19, 20, 21, 22, 23, 24, 25, 26, 27, 28, 29, 30, 31, 32, 33, 34, 35, 36, 37, 38, 39, 40, 41, 42, 43, 44, 45, 46, 47, 48, 49, 50, 15079, 226513, 293033, 307145, 394555, 716369, 797564, 1002928, 1043677, 1047835, 1304223, 1312626, 1396022, 1397965, 1703310, 1749736, 1850539, 1913348, 1923258, 1943438, 2126284, 2276527, 2322343, 2673702, 2694502, 2695815, 2710827, 2725311, 2754602, 2840777, 2994998, 3193033, 3228555, 3317290, 3383034, 3453931, 3592233, 3635052, 3855560, 3899236, 3911347, 3951590, 3956950, 4007753, 4164658, 4452066, 4488809, 4583310, 4594396, 4611315, 4717532, 4782653, 4964527, 5024135, 5173512, 5235835, 5289433, 5505659, 5602896, 5618513, 5712851, 5807301, 5825846, 5857183, 5904593, 5983640, 6008514, 6029888, 6167988, 6218951, 6355451, 6764190, 6802747, 7052921, 7530324, 7671481, 7815718, 8064084, 8076338, 8103175, 8177059, 8187756, 8226528, 8595618, 8714781, 8720960, 8725042, 8929908, 9057883, 9179391, 9308005, 9375316, 9433195, 9474081, 9565863, 9653191, 9719696, 9828895, 10072828, 10093661, 10104056, 10124119, 10157821, 10173400, 10176329, 10186257, 10247606, 10278604, 10303794, 10329572, 10417792, 10439798, 10540068, 10589330, 10718334, 10902033, 10937730, 10968607, 10980883, 11096064, 11267356, 11389105, 11658745, 11718322, 11756086, 11891255, 11950809, 12085327, 12094639, 12224762, 12284418, 12496421, 12590546, 12731376, 12938685, 13106196, 13257598, 13478063, 13480865, 13754537, 13879185, 13956325, 14011946, 14205745, 14278198, 14417055, 14689965, 14781582, 14806448, 14995372, 15165713, 15225077, 15394196, 15605213, 15768962, 15796824, 16035596, 16118512, 16240744, 16296060, 16613968]\n",
      "Number of events after renumbering: 207 (values between 5 and 211)\n",
      "\n",
      "Events present in movie 32 (containing 10 events):\n",
      "[1003432, 3310765, 6148388, 7578015, 8128526, 11612070, 14234127, 14566981, 14895524, 15407937]\n",
      "Number of events after renumbering: 10 (values between 5 and 14)\n",
      "\n",
      "Events present in movie 33 (containing 32 events):\n",
      "[5, 6, 7, 121383, 322933, 1745344, 2524020, 2544640, 3879395, 4527056, 4747923, 5159281, 5349027, 5727998, 6862668, 6972561, 7974469, 8550473, 9851133, 9867480, 9938373, 10754684, 11139644, 11791276, 12424784, 13872553, 13933971, 14113454, 14545306, 15089355, 15160653, 16009878]\n",
      "Number of events after renumbering: 32 (values between 5 and 36)\n",
      "\n",
      "Events present in movie 34 (containing 30 events):\n",
      "[5, 6, 7, 8, 9, 286395, 503758, 1145893, 1834601, 2283011, 3297477, 4298938, 4544150, 6216714, 8438263, 10282145, 10538020, 10573481, 12271355, 12282243, 13520126, 13710565, 14335114, 14608866, 14848626, 15492916, 15528586, 15826204, 16145127, 16380485]\n",
      "Number of events after renumbering: 30 (values between 5 and 34)\n",
      "\n",
      "Events present in movie 35 (containing 68 events):\n",
      "[5, 6, 7, 8, 9, 10, 11, 12, 223058, 295664, 329779, 448200, 688987, 1246149, 2109825, 2352444, 2495642, 2889855, 2924334, 2964884, 3657769, 4611557, 4971212, 5066441, 5439214, 5728718, 6360106, 6398526, 6502712, 6625189, 7028853, 7244004, 7248105, 8245031, 8249378, 8508743, 8794858, 9023255, 9323422, 9967906, 9969732, 10065488, 10287463, 10899810, 11051320, 11067066, 11090715, 11106725, 11160070, 11584814, 12114165, 13089761, 13356009, 13395119, 13466553, 13578846, 13712710, 14254612, 14534109, 14555138, 14651920, 14973194, 15267821, 15345751, 15384501, 15574667, 16090447, 16416643]\n",
      "Number of events after renumbering: 68 (values between 5 and 72)\n",
      "\n",
      "Events present in movie 36 (containing 76 events):\n",
      "[5, 6, 7, 8, 9, 10, 11, 12, 13, 14, 15, 16, 17, 18, 19, 412142, 546288, 945593, 950024, 1135927, 1238122, 1279995, 1426950, 1682924, 1849005, 1910408, 2224373, 2314875, 2807793, 2963807, 3142709, 3623862, 3724453, 3965251, 5620930, 5671163, 5783361, 5993273, 6243197, 6273387, 6338640, 6342089, 6929644, 6980902, 7005760, 7289947, 7873298, 7923732, 8351860, 9032215, 9865048, 10636234, 10856278, 11379848, 11791316, 12538426, 12639235, 12753098, 13014032, 13945201, 13978848, 14389320, 14509020, 14629880, 14837606, 14973235, 15004828, 15247585, 15499102, 15526825, 15556234, 15627123, 15813565, 15964354, 16493021, 16627434]\n",
      "Number of events after renumbering: 76 (values between 5 and 80)\n",
      "\n",
      "Events present in movie 38 (containing 19 events):\n",
      "[5, 6, 22594, 331456, 368731, 1370429, 1724768, 2170548, 2383659, 3117301, 3426807, 5956160, 6513003, 9236541, 10551574, 12371532, 15492642, 15797668, 16316038]\n",
      "Number of events after renumbering: 19 (values between 5 and 23)\n",
      "\n",
      "Events present in movie 39 (containing 11 events):\n",
      "[3581190, 3825476, 7260404, 9374654, 10533637, 10887285, 11986032, 13843927, 14539191, 16478190, 16625330]\n",
      "Number of events after renumbering: 11 (values between 5 and 15)\n",
      "\n",
      "Events present in movie 40 (containing 23 events):\n",
      "[5, 6, 7, 1380709, 2554860, 2799326, 3155619, 4510409, 5264035, 6409252, 7076624, 7702149, 8852661, 9853533, 10820623, 12048313, 12844890, 13950374, 15469777, 16105927, 16191110, 16350651, 16405009]\n",
      "Number of events after renumbering: 23 (values between 5 and 27)\n",
      "\n",
      "Events present in movie 41 (containing 15 events):\n",
      "[2202376, 3322103, 4042105, 5261678, 6832984, 8532449, 10719832, 11197898, 12639654, 12650565, 12788596, 13305871, 14529964, 14928530, 15623496]\n",
      "Number of events after renumbering: 15 (values between 5 and 19)\n",
      "\n",
      "Events present in movie 42 (containing 1 events):\n",
      "[15441237]\n",
      "Number of events after renumbering: 1 (values between 5 and 5)\n",
      "\n",
      "Events present in movie 43 (containing 10 events):\n",
      "[5, 6, 1577705, 7156508, 7406653, 8023964, 10616985, 11004997, 13353888, 14850533]\n",
      "Number of events after renumbering: 10 (values between 5 and 14)\n",
      "\n",
      "Events present in movie 44 (containing 2 events):\n",
      "[16581375, 16632375]\n",
      "Number of events after renumbering: 2 (values between 5 and 6)\n",
      "\n",
      "Events present in movie 45 (containing 1 events):\n",
      "[1233642]\n",
      "Number of events after renumbering: 1 (values between 5 and 5)\n",
      "\n",
      "Events present in movie 46 (containing 37 events):\n",
      "[5, 6, 7, 8, 871378, 933260, 978479, 2225770, 2952944, 3117976, 3893075, 4888731, 5669422, 6040103, 6240425, 6622415, 6773590, 7617704, 7695995, 8469808, 9615660, 9831321, 10323694, 10340821, 10857031, 11307398, 11577598, 12656347, 13871294, 14430244, 14446044, 14800953, 14816150, 15021344, 15468584, 15550557, 15965776]\n",
      "Number of events after renumbering: 37 (values between 5 and 41)\n",
      "\n"
     ]
    }
   ],
   "source": [
    "for movie_id in movie_ids:\n",
    "    events_mask = event_labels[movie_id]\n",
    "    new_events_mask = np.copy(events_mask)\n",
    "\n",
    "    # get list of events\n",
    "    list_events = list(np.unique(events_mask))\n",
    "    list_events.remove(0)\n",
    "\n",
    "    print(f\"Events present in movie {movie_id} (containing {len(list_events)} events):\")\n",
    "    print(list_events)\n",
    "\n",
    "    for i, nb_event in enumerate(list_events):\n",
    "        # get class mask of event\n",
    "        new_events_mask = np.where(events_mask == nb_event, i + 5, new_events_mask)\n",
    "\n",
    "    event_labels[movie_id] = new_events_mask\n",
    "\n",
    "    new_list_events = list(np.unique(event_labels[movie_id]))\n",
    "    new_list_events.remove(0)\n",
    "\n",
    "    print(\n",
    "        f\"Number of events after renumbering: {len(new_list_events)} (values between {min(new_list_events)} and {max(new_list_events)})\"\n",
    "    )\n",
    "    print()\n",
    "\n",
    "    assert max(new_list_events) - min(new_list_events) + 1 == len(list_events)"
   ]
  },
  {
   "cell_type": "markdown",
   "id": "f4137ef0-3b3c-4830-9a51-a194a0ea531a",
   "metadata": {},
   "source": [
    "### save final version of class and event masks"
   ]
  },
  {
   "cell_type": "code",
   "execution_count": 76,
   "id": "a15b53b1-923d-4780-b7f4-f3e77ca0ed20",
   "metadata": {},
   "outputs": [],
   "source": [
    "for movie_id in movie_ids:\n",
    "    events_mask = event_labels[movie_id]\n",
    "    classes_mask = class_labels[movie_id]\n",
    "\n",
    "    # save corrected rgb labels and class labels on disk\n",
    "    imageio.volwrite(\n",
    "        os.path.join(corr_dir, movie_id + \"_corrected_rgb_mask_FINAL.tif\"), events_mask\n",
    "    )\n",
    "    imageio.volwrite(\n",
    "        os.path.join(corr_dir, movie_id + \"_corrected_label_mask_FINAL.tif\"),\n",
    "        classes_mask,\n",
    "    )"
   ]
  },
  {
   "cell_type": "markdown",
   "id": "6b0bcce5-fa28-436b-969a-20b16cdd18bc",
   "metadata": {},
   "source": [
    "## Create .csv files"
   ]
  },
  {
   "cell_type": "markdown",
   "id": "192749e2-3e57-4993-95d7-3caeed198acd",
   "metadata": {},
   "source": [
    "### for each movie, create dataframes with simple and full event params and save them as .csv files"
   ]
  },
  {
   "cell_type": "code",
   "execution_count": 130,
   "id": "2513dc78-ed94-42ae-86a6-3f0f42388cf8",
   "metadata": {},
   "outputs": [],
   "source": [
    "simple_filename_base = \"_events_simple.csv\"\n",
    "full_filename_base = \"_events_full.csv\""
   ]
  },
  {
   "cell_type": "code",
   "execution_count": 141,
   "id": "5f6c1e3a-2bfb-4ef9-997a-8da5dacb96bc",
   "metadata": {},
   "outputs": [
    {
     "name": "stdout",
     "output_type": "stream",
     "text": [
      "Processing 01...\n",
      "Processing 02...\n",
      "Processing 03...\n",
      "Processing 04...\n",
      "Processing 05...\n",
      "Processing 06...\n",
      "Processing 07...\n",
      "Processing 08...\n",
      "Processing 09...\n",
      "Processing 10...\n",
      "Processing 11...\n",
      "Processing 12...\n",
      "Processing 13...\n",
      "Processing 14...\n",
      "Processing 15...\n",
      "Processing 16...\n",
      "Processing 17...\n",
      "Processing 18...\n",
      "Processing 19...\n",
      "Processing 20...\n",
      "Processing 21...\n",
      "Processing 22...\n",
      "Processing 23...\n",
      "Processing 24...\n",
      "Processing 25...\n",
      "Processing 27...\n",
      "Processing 28...\n",
      "Processing 29...\n",
      "Processing 30...\n",
      "Processing 32...\n",
      "Processing 33...\n",
      "Processing 34...\n",
      "Processing 35...\n",
      "Processing 36...\n",
      "Processing 38...\n",
      "Processing 39...\n",
      "Processing 40...\n",
      "Processing 41...\n",
      "Processing 42...\n",
      "Processing 43...\n",
      "Processing 44...\n",
      "Processing 45...\n",
      "Processing 46...\n"
     ]
    }
   ],
   "source": [
    "simple_cols = [\n",
    "    \"Movie ID\",\n",
    "    \"# event\",\n",
    "    \"class\",\n",
    "    \"start\",\n",
    "    \"end\",\n",
    "    \"x center of mass\",\n",
    "    \"y center of mass\",\n",
    "]\n",
    "full_cols = [\"Movie ID\", \"# event\", \"class\", \"x array\", \"y array\", \"frame\"]\n",
    "\n",
    "for movie_id in movie_ids:\n",
    "    print(f\"Processing {movie_id}...\")\n",
    "\n",
    "    # create pandas dataframes\n",
    "    simple_df = pd.DataFrame(columns=simple_cols)\n",
    "    full_df = pd.DataFrame(columns=full_cols)\n",
    "\n",
    "    # open events mask and label mask\n",
    "    events_mask = load_annotations_ids(\n",
    "        data_folder=corr_dir, ids=[movie_id], mask_names=\"corrected_rgb_mask_FINAL\"\n",
    "    )[movie_id]\n",
    "    classes_mask = load_annotations_ids(\n",
    "        data_folder=corr_dir, ids=[movie_id], mask_names=\"corrected_label_mask_FINAL\"\n",
    "    )[movie_id]\n",
    "\n",
    "    # get list of event IDs\n",
    "    events_ids = list(np.unique(events_mask))\n",
    "    events_ids.remove(0)\n",
    "\n",
    "    # add each event to the dataframe\n",
    "    for event_id in events_ids:\n",
    "        event_mask = events_mask == event_id\n",
    "\n",
    "        # get class of event\n",
    "        event_class_mask = np.where(event_mask, classes_mask, 0)\n",
    "        event_class = list(np.unique(event_class_mask))\n",
    "        event_class.remove(0)\n",
    "        assert len(event_class) == 1\n",
    "        event_class = event_class[0]\n",
    "\n",
    "        # update simple dataframe\n",
    "        start, end, x_center, y_center = get_event_parameters_simple(event_mask)\n",
    "\n",
    "        df = pd.DataFrame(\n",
    "            [[movie_id, event_id, event_class, start, end, x_center, y_center]],\n",
    "            columns=simple_cols,\n",
    "        )\n",
    "        simple_df = simple_df.append(df)\n",
    "\n",
    "        # update full dataframe\n",
    "        coord_list = get_event_parameters(event_mask)\n",
    "\n",
    "        for x_array, y_array, frame in coord_list:\n",
    "            df = pd.DataFrame(\n",
    "                [[movie_id, event_id, event_class, x_array, y_array, frame]],\n",
    "                columns=full_cols,\n",
    "            )\n",
    "            full_df = full_df.append(df)\n",
    "\n",
    "        # save dataframes to csv files\n",
    "        simple_df.to_csv(\n",
    "            os.path.join(out_dir, movie_id + simple_filename_base), index=False\n",
    "        )\n",
    "\n",
    "        full_df.to_csv(\n",
    "            os.path.join(out_dir, movie_id + full_filename_base), index=False\n",
    "        )"
   ]
  },
  {
   "cell_type": "code",
   "execution_count": null,
   "id": "0e6b8bfb-fb4a-4a8f-b9c6-1fa9d8c84f83",
   "metadata": {},
   "outputs": [],
   "source": []
  }
 ],
 "metadata": {
  "kernelspec": {
   "display_name": "sparks",
   "language": "python",
   "name": "python3"
  },
  "language_info": {
   "codemirror_mode": {
    "name": "ipython",
    "version": 3
   },
   "file_extension": ".py",
   "mimetype": "text/x-python",
   "name": "python",
   "nbconvert_exporter": "python",
   "pygments_lexer": "ipython3",
   "version": "3.10.13"
  },
  "vscode": {
   "interpreter": {
    "hash": "d21ea8e127dc18603ed933cb69d3f0e3fbc5bcbc2dd19f44b0f9b09cfcc47615"
   }
  }
 },
 "nbformat": 4,
 "nbformat_minor": 5
}
